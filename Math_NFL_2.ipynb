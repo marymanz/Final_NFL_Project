{
  "nbformat": 4,
  "nbformat_minor": 0,
  "metadata": {
    "colab": {
      "name": "Math_NFL_2.ipynb",
      "provenance": [],
      "collapsed_sections": [
        "9k3YAzNntFQT"
      ],
      "toc_visible": true,
      "include_colab_link": true
    },
    "kernelspec": {
      "display_name": "Python 3",
      "name": "python3"
    },
    "language_info": {
      "name": "python"
    }
  },
  "cells": [
    {
      "cell_type": "markdown",
      "metadata": {
        "id": "view-in-github",
        "colab_type": "text"
      },
      "source": [
        "<a href=\"https://colab.research.google.com/github/marymanz/Final_NFL_Project/blob/main/Math_NFL_2.ipynb\" target=\"_parent\"><img src=\"https://colab.research.google.com/assets/colab-badge.svg\" alt=\"Open In Colab\"/></a>"
      ]
    },
    {
      "cell_type": "markdown",
      "metadata": {
        "id": "vj9i6_Wisrk8"
      },
      "source": [
        "# Import and clean data"
      ]
    },
    {
      "cell_type": "code",
      "metadata": {
        "colab": {
          "base_uri": "https://localhost:8080/"
        },
        "id": "jAzA6YQ2Md5i",
        "outputId": "05a343ea-b697-4b16-fffb-79fb625422b8"
      },
      "source": [
        "# # Uncomment if running from Google Collaboratory\n",
        "# from google.colab import drive\n",
        "# drive.mount('/content/drive')"
      ],
      "execution_count": 2,
      "outputs": [
        {
          "output_type": "stream",
          "text": [
            "Mounted at /content/drive\n"
          ],
          "name": "stdout"
        }
      ]
    },
    {
      "cell_type": "code",
      "metadata": {
        "colab": {
          "base_uri": "https://localhost:8080/"
        },
        "id": "07gX8Bdki_jS",
        "outputId": "b0b374b5-70fd-4bfc-dc60-26d413afb889"
      },
      "source": [
        "pip install graphviz"
      ],
      "execution_count": 4,
      "outputs": [
        {
          "output_type": "stream",
          "text": [
            "Requirement already satisfied: graphviz in /usr/local/lib/python3.7/dist-packages (0.10.1)\n"
          ],
          "name": "stdout"
        }
      ]
    },
    {
      "cell_type": "code",
      "metadata": {
        "id": "wJlyjc70MQ7_"
      },
      "source": [
        "import numpy as np\n",
        "import pandas as pd\n",
        "import matplotlib.pyplot as plt\n",
        "from sklearn.model_selection import train_test_split\n",
        "from sklearn.metrics import accuracy_score\n",
        "import graphviz\n",
        "from sklearn.ensemble import RandomForestClassifier\n",
        "from sklearn.model_selection import GridSearchCV\n",
        "from sklearn.ensemble import RandomForestRegressor\n",
        "import random\n",
        "from sklearn import metrics \n",
        "from sklearn.metrics import accuracy_score\n",
        "from sklearn.tree import DecisionTreeRegressor\n",
        "from sklearn import metrics\n",
        "from sklearn.metrics import mean_squared_error, r2_score, mean_absolute_error\n",
        "from sklearn.linear_model import LinearRegression\n",
        "from sklearn.linear_model import Ridge\n",
        "from sklearn import linear_model\n",
        "from sklearn.svm import SVR\n",
        "from sklearn.ensemble import GradientBoostingRegressor\n",
        "from sklearn.cluster import KMeans\n",
        "from scipy.spatial.distance import cdist\n",
        "from sklearn.tree import DecisionTreeClassifier\n",
        "from sklearn.decomposition import PCA\n",
        "from sklearn import tree\n",
        "from sklearn.ensemble import GradientBoostingClassifier\n",
        "from sklearn.neighbors import KNeighborsClassifier\n",
        "from sklearn.gaussian_process import GaussianProcessClassifier"
      ],
      "execution_count": 2,
      "outputs": []
    },
    {
      "cell_type": "code",
      "metadata": {
        "id": "01R3mG16QV9H"
      },
      "source": [
        "# -- set the filename\n",
        "# Uncomment if running from Google Collaboratory\n",
        "fname = \"NFL_2019_data.csv\"\n",
        "# fname = \"/content/drive/MyDrive/math637_MaryManz/NFL_2019_data.csv\"\n",
        "\n",
        "\n",
        "# -- read the csv into a DataFrame\n",
        "data = pd.read_csv(fname)"
      ],
      "execution_count": 3,
      "outputs": []
    },
    {
      "cell_type": "code",
      "metadata": {
        "id": "m6XJOGPN_T_V"
      },
      "source": [
        "# -- set the filename\n",
        "# Uncomment if running from Google Collaboratory\n",
        "fname = \"2020 scores.csv\"\n",
        "# fname = \"/content/drive/MyDrive/math637_MaryManz/2020 scores.csv\"\n",
        "\n",
        "# -- read the csv into a DataFrame\n",
        "data2 = pd.read_csv(fname)"
      ],
      "execution_count": 4,
      "outputs": []
    },
    {
      "cell_type": "code",
      "metadata": {
        "id": "bggOe2S-UIRb"
      },
      "source": [
        "# -- clean data\n",
        "data=data.replace('\\*','',regex=True)\n",
        "data=data.replace('\\(','',regex=True)\n",
        "data=data.replace('\\)','',regex=True)\n",
        "data = data.astype(float)"
      ],
      "execution_count": 5,
      "outputs": []
    },
    {
      "cell_type": "markdown",
      "metadata": {
        "id": "_ePcYVMqs0Ny"
      },
      "source": [
        "# Attempt 1: 48 features "
      ]
    },
    {
      "cell_type": "code",
      "metadata": {
        "id": "AC3g3GNPSJop"
      },
      "source": [
        "# -- isolate the features\n",
        "feat = data.iloc[:, 1:].abs()\n",
        "\n",
        "# -- pull out the target variable\n",
        "#targ = data.iloc[:, 0]\n",
        "targ = data2.iloc[:, 6]"
      ],
      "execution_count": 6,
      "outputs": []
    },
    {
      "cell_type": "code",
      "metadata": {
        "id": "63gwstNoSnoh"
      },
      "source": [
        "# -- create a random training and testing set\n",
        "feat_tr, feat_te, targ_tr, targ_te = train_test_split(feat, targ, test_size=0.2, random_state=302)"
      ],
      "execution_count": 7,
      "outputs": []
    },
    {
      "cell_type": "code",
      "metadata": {
        "colab": {
          "base_uri": "https://localhost:8080/"
        },
        "id": "X4yHCq5bGjNQ",
        "outputId": "6bd2ef83-1a40-46e8-f67f-55f6a7218ff0"
      },
      "source": [
        "# Initializing Random Forest Regressor\n",
        "rf = RandomForestRegressor(random_state= 17)\n",
        "rf.fit(feat_tr, targ_tr)\n",
        "print(rf.predict(feat_tr)[0:6])\n",
        "pred_tr = rf.predict(feat_tr)\n",
        "pred_te = rf.predict(feat_te)\n",
        "\n",
        "r_MAE_48 = metrics.mean_absolute_error(targ_te, pred_te)\n",
        "r_MSE_48 =  metrics.mean_squared_error(targ_te, pred_te)\n",
        "r_RMSE_48 = np.sqrt(metrics.mean_squared_error(targ_te, pred_te))\n",
        "r_R2_train48 = r2_score(targ_tr, pred_tr)\n",
        "r_R2_test48 = r2_score(targ_te, pred_te)"
      ],
      "execution_count": 8,
      "outputs": [
        {
          "output_type": "stream",
          "text": [
            "[37.14 37.08 56.88 40.82 39.53 45.04]\n"
          ],
          "name": "stdout"
        }
      ]
    },
    {
      "cell_type": "code",
      "metadata": {
        "colab": {
          "base_uri": "https://localhost:8080/"
        },
        "id": "GGJIeQpBGjNS",
        "outputId": "e2e05459-b193-4a2d-acdd-781cda27315d"
      },
      "source": [
        "# linear regression model\n",
        "reg = LinearRegression().fit(feat_tr, targ_tr)\n",
        "print(reg.predict(feat_tr)[0:6])\n",
        "pred_tr = reg.predict(feat_tr)\n",
        "pred_te = reg.predict(feat_te)\n",
        "\n",
        "L_MAE_48 = metrics.mean_absolute_error(targ_te, pred_te)\n",
        "L_MSE_48 =  metrics.mean_squared_error(targ_te, pred_te)\n",
        "L_RMSE_48 = np.sqrt(metrics.mean_squared_error(targ_te, pred_te))\n",
        "L_R2_train48 = r2_score(targ_tr, pred_tr)\n",
        "L_R2_test48 = r2_score(targ_te, pred_te)"
      ],
      "execution_count": 9,
      "outputs": [
        {
          "output_type": "stream",
          "text": [
            "[40.2679708  47.04860489 57.73079511 58.74505787 31.16031918 56.68651311]\n"
          ],
          "name": "stdout"
        }
      ]
    },
    {
      "cell_type": "code",
      "metadata": {
        "colab": {
          "base_uri": "https://localhost:8080/"
        },
        "id": "MKDB5MEzGjNT",
        "outputId": "577ce415-c528-4a49-ba65-1b6026a315c0"
      },
      "source": [
        "# ridge regression model\n",
        "clf = Ridge()\n",
        "clf.fit(feat_tr, targ_tr)\n",
        "print(clf.predict(feat_te)[0:6])\n",
        "pred_tr = clf.predict(feat_tr)\n",
        "pred_te = clf.predict(feat_te)\n",
        "\n",
        "ri_MAE_48 = metrics.mean_absolute_error(targ_te, pred_te)\n",
        "ri_MSE_48 =  metrics.mean_squared_error(targ_te, pred_te)\n",
        "ri_RMSE_48 = np.sqrt(metrics.mean_squared_error(targ_te, pred_te))\n",
        "ri_R2_train48 = r2_score(targ_tr, pred_tr)\n",
        "ri_R2_test48 = r2_score(targ_te, pred_te)"
      ],
      "execution_count": 10,
      "outputs": [
        {
          "output_type": "stream",
          "text": [
            "[62.42091146 47.5180886  48.14418764 35.57758542 58.21190609 52.91660639]\n"
          ],
          "name": "stdout"
        }
      ]
    },
    {
      "cell_type": "code",
      "metadata": {
        "colab": {
          "base_uri": "https://localhost:8080/"
        },
        "id": "1vOAwmMHGjNT",
        "outputId": "645c9934-5a15-4eab-c053-b5f93bb415b7"
      },
      "source": [
        "# lasso regression model\n",
        "clf = linear_model.Lasso()\n",
        "clf.fit(feat_tr, targ_tr)\n",
        "print(clf.predict(feat_te)[0:6])\n",
        "pred_tr = clf.predict(feat_tr)\n",
        "pred_te = clf.predict(feat_te)\n",
        "\n",
        "La_MAE_48 = metrics.mean_absolute_error(targ_te, pred_te)\n",
        "La_MSE_48 =  metrics.mean_squared_error(targ_te, pred_te)\n",
        "La_RMSE_48 = np.sqrt(metrics.mean_squared_error(targ_te, pred_te))\n",
        "La_R2_train48 = r2_score(targ_tr, pred_tr)\n",
        "La_R2_test48 = r2_score(targ_te, pred_te)"
      ],
      "execution_count": 11,
      "outputs": [
        {
          "output_type": "stream",
          "text": [
            "[59.55194112 46.71924478 46.87279108 36.30353741 55.0559944  53.70053874]\n"
          ],
          "name": "stdout"
        }
      ]
    },
    {
      "cell_type": "code",
      "metadata": {
        "colab": {
          "base_uri": "https://localhost:8080/"
        },
        "id": "m3QmDTGLGjNT",
        "outputId": "67b13a97-6b53-47c5-cfbe-a61190ffbc75"
      },
      "source": [
        "# support vector regression model\n",
        "regr = SVR()\n",
        "regr.fit(feat_tr, targ_tr)\n",
        "print(regr.predict(feat_te)[0:6])\n",
        "pred_tr = regr.predict(feat_tr)\n",
        "pred_te = regr.predict(feat_te)\n",
        "\n",
        "s_MAE_48 = metrics.mean_absolute_error(targ_te, pred_te)\n",
        "s_MSE_48 =  metrics.mean_squared_error(targ_te, pred_te)\n",
        "s_RMSE_48 = np.sqrt(metrics.mean_squared_error(targ_te, pred_te))\n",
        "s_R2_train48 = r2_score(targ_tr, pred_tr)\n",
        "s_R2_test48 = r2_score(targ_te, pred_te)"
      ],
      "execution_count": 12,
      "outputs": [
        {
          "output_type": "stream",
          "text": [
            "[51.09029372 49.72453777 50.59498454 48.5013163  51.54871001 50.01563431]\n"
          ],
          "name": "stdout"
        }
      ]
    },
    {
      "cell_type": "code",
      "metadata": {
        "colab": {
          "base_uri": "https://localhost:8080/"
        },
        "id": "H4KOqoqlGjNU",
        "outputId": "440e5afb-8106-4b78-d2ec-1eb24fd843e6"
      },
      "source": [
        "# decision tree regression model\n",
        "dtr = DecisionTreeRegressor()\n",
        "dtr.fit(feat_tr, targ_tr)\n",
        "print(dtr.predict(feat_te)[0:6])\n",
        "pred_tr = dtr.predict(feat_tr)\n",
        "pred_te = dtr.predict(feat_te)\n",
        "\n",
        "d_MAE_48 = metrics.mean_absolute_error(targ_te, pred_te)\n",
        "d_MSE_48 =  metrics.mean_squared_error(targ_te, pred_te)\n",
        "d_RMSE_48 = np.sqrt(metrics.mean_squared_error(targ_te, pred_te))\n",
        "d_R2_train48 = r2_score(targ_tr, pred_tr)\n",
        "d_R2_test48 = r2_score(targ_te, pred_te)"
      ],
      "execution_count": 13,
      "outputs": [
        {
          "output_type": "stream",
          "text": [
            "[44. 30. 32. 25. 58. 59.]\n"
          ],
          "name": "stdout"
        }
      ]
    },
    {
      "cell_type": "code",
      "metadata": {
        "colab": {
          "base_uri": "https://localhost:8080/"
        },
        "id": "8dQ-3cwhGjNU",
        "outputId": "c8078091-703f-4ea4-c056-56475fea1dde"
      },
      "source": [
        "# gradient boosting regressor model\n",
        "reg = GradientBoostingRegressor()\n",
        "reg.fit(feat_tr, targ_tr)\n",
        "print(reg.predict(feat_te)[0:6])\n",
        "pred_tr = reg.predict(feat_tr)\n",
        "pred_te = reg.predict(feat_te)\n",
        "\n",
        "gr_MAE_48 = metrics.mean_absolute_error(targ_te, pred_te)\n",
        "gr_MSE_48 =  metrics.mean_squared_error(targ_te, pred_te)\n",
        "gr_RMSE_48 = np.sqrt(metrics.mean_squared_error(targ_te, pred_te))\n",
        "gr_R2_train48 = r2_score(targ_tr, pred_tr)\n",
        "gr_R2_test48 = r2_score(targ_te, pred_te)"
      ],
      "execution_count": 14,
      "outputs": [
        {
          "output_type": "stream",
          "text": [
            "[58.50145546 45.38012356 49.29336001 31.77797267 59.96579101 65.7454304 ]\n"
          ],
          "name": "stdout"
        }
      ]
    },
    {
      "cell_type": "markdown",
      "metadata": {
        "id": "9k3YAzNntFQT"
      },
      "source": [
        "# Attempt 2: 24 features"
      ]
    },
    {
      "cell_type": "code",
      "metadata": {
        "id": "WVhh1ebZt9by"
      },
      "source": [
        "feat[\"QB_total\"] = feat[\"QB\"] + feat[\"QB.1\"]\n",
        "feat[\"RB1_total\"] = feat[\"RB1\"] + feat[\"RB1.1\"]\n",
        "feat[\"RB2\"] = feat[\"RB2\"] + feat[\"RB2.1\"]\n",
        "feat[\"TE_total\"] = feat[\"TE\"] + feat[\"TE.1\"]\n",
        "feat[\"WR1_total\"] = feat[\"WR1\"] + feat[\"WR1.1\"]\n",
        "feat[\"WR2_total\"] = feat[\"WR2\"] + feat[\"WR2.1\"]\n",
        "feat[\"WR3_total\"] = feat[\"WR3\"] + feat[\"WR3.1\"]\n",
        "feat[\"LT_total\"] = feat[\"LT \"] + feat[\"LT .1\"]\n",
        "feat[\"LG_total\"] = feat[\"LG\"] + feat[\"LG.1\"]\n",
        "feat[\"C_total\"] = feat[\"C\"] + feat[\"C.1\"]\n",
        "feat[\"RG_total\"] = feat[\"RG\"] + feat[\"RG.1\"]\n",
        "feat[\"RT_total\"] = feat[\"RT\"] + feat[\"RT.1\"]\n",
        "feat[\"DT1_total\"] = feat[\"DT1\"] + feat[\"DT1.1\"]\n",
        "feat[\"DT2_total\"] = feat[\"DT2\"] + feat[\"DT1.1\"]\n",
        "feat[\"DT3_total\"] = feat[\"DT3\"] + feat[\"DT3.1\"]\n",
        "feat[\"Edge1_total\"] = feat[\"Edge1\"] + feat[\"Edge1.1\"]\n",
        "feat[\"Edge2_total\"] = feat[\"Edge2\"] + feat[\"Edge2.1\"]\n",
        "feat[\"LB1_total\"] = feat[\"LB1\"] + feat[\"LB1.1\"]\n",
        "feat[\"LB2_total\"] = feat[\"LB2\"] + feat[\"LB2.1\"]\n",
        "feat[\"CB1_total\"] = feat[\"CB1\"] + feat[\"CB1.1\"]\n",
        "feat[\"CB2_total\"] = feat[\"CB2\"] + feat[\"CB2.1\"]\n",
        "feat[\"CB3_total\"] = feat[\"CB3\"] + feat[\"CB3.1\"]\n",
        "feat[\"SS_total\"] = feat[\"SS\"] + feat[\"SS.1\"]\n",
        "feat[\"FS_total\"] = feat[\"FS\"] + feat[\"FS.1\"]                                                                                                 "
      ],
      "execution_count": 15,
      "outputs": []
    },
    {
      "cell_type": "code",
      "metadata": {
        "id": "CDf0B82EtUhg"
      },
      "source": [
        "feat_a = feat.iloc[0:feat.shape[0], 49:feat.shape[1]]"
      ],
      "execution_count": 16,
      "outputs": []
    },
    {
      "cell_type": "code",
      "metadata": {
        "id": "c7dXqMo7y--H"
      },
      "source": [
        "feat_tr, feat_te, targ_tr, targ_te = train_test_split(feat_a, targ, test_size=0.2, random_state=302) # model with 24 features"
      ],
      "execution_count": 17,
      "outputs": []
    },
    {
      "cell_type": "code",
      "metadata": {
        "colab": {
          "base_uri": "https://localhost:8080/"
        },
        "id": "hbZdqmPazEjY",
        "outputId": "067eaa8a-3642-4adf-c8d2-bc0697be801c"
      },
      "source": [
        "# Initializing Random Forest Regressor\n",
        "rf = RandomForestRegressor(random_state= 17)\n",
        "rf.fit(feat_tr, targ_tr)\n",
        "print(rf.predict(feat_tr)[0:6])\n",
        "pred_tr = rf.predict(feat_tr)\n",
        "pred_te = rf.predict(feat_te)\n",
        "\n",
        "r_MAE_24 = metrics.mean_absolute_error(targ_te, pred_te)\n",
        "r_MSE_24 =  metrics.mean_squared_error(targ_te, pred_te)\n",
        "r_RMSE_24 = np.sqrt(metrics.mean_squared_error(targ_te, pred_te))\n",
        "r_R2_train24 = r2_score(targ_tr, pred_tr)\n",
        "r_R2_test24 = r2_score(targ_te, pred_te)"
      ],
      "execution_count": 18,
      "outputs": [
        {
          "output_type": "stream",
          "text": [
            "[38.43 34.44 53.92 31.9  39.2  44.29]\n"
          ],
          "name": "stdout"
        }
      ]
    },
    {
      "cell_type": "code",
      "metadata": {
        "colab": {
          "base_uri": "https://localhost:8080/"
        },
        "id": "vONu3A6o0NYk",
        "outputId": "8107552b-b95d-4611-a5fb-08ddef187d05"
      },
      "source": [
        "# linear regression model\n",
        "reg = LinearRegression().fit(feat_tr, targ_tr)\n",
        "print(reg.predict(feat_tr)[0:6])\n",
        "pred_tr = reg.predict(feat_tr)\n",
        "pred_te = reg.predict(feat_te)\n",
        "\n",
        "L_MAE_24 = metrics.mean_absolute_error(targ_te, pred_te)\n",
        "L_MSE_24 =  metrics.mean_squared_error(targ_te, pred_te)\n",
        "L_RMSE_24 = np.sqrt(metrics.mean_squared_error(targ_te, pred_te))\n",
        "L_R2_train24 = r2_score(targ_tr, pred_tr)\n",
        "L_R2_test24 = r2_score(targ_te, pred_te)"
      ],
      "execution_count": 19,
      "outputs": [
        {
          "output_type": "stream",
          "text": [
            "[47.00475219 48.96630214 53.54204865 44.78204651 35.48318933 55.47001027]\n"
          ],
          "name": "stdout"
        }
      ]
    },
    {
      "cell_type": "code",
      "metadata": {
        "colab": {
          "base_uri": "https://localhost:8080/"
        },
        "id": "fPMMVcDe0qs4",
        "outputId": "d23c066e-8ad5-4e96-a788-9b59fa7ec607"
      },
      "source": [
        "# ridge regression model\n",
        "clf = Ridge()\n",
        "clf.fit(feat_tr, targ_tr)\n",
        "print(clf.predict(feat_te)[0:6])\n",
        "pred_tr = clf.predict(feat_tr)\n",
        "pred_te = clf.predict(feat_te)\n",
        "\n",
        "ri_MAE_24 = metrics.mean_absolute_error(targ_te, pred_te)\n",
        "ri_MSE_24 =  metrics.mean_squared_error(targ_te, pred_te)\n",
        "ri_RMSE_24 = np.sqrt(metrics.mean_squared_error(targ_te, pred_te))\n",
        "ri_R2_train24 = r2_score(targ_tr, pred_tr)\n",
        "ri_R2_test24 = r2_score(targ_te, pred_te)"
      ],
      "execution_count": 20,
      "outputs": [
        {
          "output_type": "stream",
          "text": [
            "[51.44941647 44.5072046  46.50812429 45.48323966 55.02053147 52.00344131]\n"
          ],
          "name": "stdout"
        }
      ]
    },
    {
      "cell_type": "code",
      "metadata": {
        "colab": {
          "base_uri": "https://localhost:8080/"
        },
        "id": "lF9JQnML1vP_",
        "outputId": "ddb99ad3-1567-4ade-861f-760d6f2bd5a6"
      },
      "source": [
        "# lasso regression model\n",
        "clf = linear_model.Lasso()\n",
        "clf.fit(feat_tr, targ_tr)\n",
        "print(clf.predict(feat_te)[0:6])\n",
        "pred_tr = clf.predict(feat_tr)\n",
        "pred_te = clf.predict(feat_te)\n",
        "\n",
        "La_MAE_24 = metrics.mean_absolute_error(targ_te, pred_te)\n",
        "La_MSE_24 =  metrics.mean_squared_error(targ_te, pred_te)\n",
        "La_RMSE_24 = np.sqrt(metrics.mean_squared_error(targ_te, pred_te))\n",
        "La_R2_train24 = r2_score(targ_tr, pred_tr)\n",
        "La_R2_test24 = r2_score(targ_te, pred_te)"
      ],
      "execution_count": 21,
      "outputs": [
        {
          "output_type": "stream",
          "text": [
            "[50.94229099 46.6652039  44.85939053 43.44700498 53.68468553 51.35086357]\n"
          ],
          "name": "stdout"
        }
      ]
    },
    {
      "cell_type": "code",
      "metadata": {
        "colab": {
          "base_uri": "https://localhost:8080/"
        },
        "id": "-yHHviZn3l-6",
        "outputId": "2a6184d5-371d-4917-9c64-41b7432e03da"
      },
      "source": [
        "# support vector regression model\n",
        "regr = SVR()\n",
        "regr.fit(feat_tr, targ_tr)\n",
        "print(regr.predict(feat_te)[0:6])\n",
        "pred_tr = regr.predict(feat_tr)\n",
        "pred_te = regr.predict(feat_te)\n",
        "\n",
        "s_MAE_24 = metrics.mean_absolute_error(targ_te, pred_te)\n",
        "s_MSE_24 =  metrics.mean_squared_error(targ_te, pred_te)\n",
        "s_RMSE_24 = np.sqrt(metrics.mean_squared_error(targ_te, pred_te))\n",
        "s_R2_train24 = r2_score(targ_tr, pred_tr)\n",
        "s_R2_test24 = r2_score(targ_te, pred_te)"
      ],
      "execution_count": 22,
      "outputs": [
        {
          "output_type": "stream",
          "text": [
            "[51.52752686 48.76851994 49.01811266 49.3485188  51.06807213 50.82430113]\n"
          ],
          "name": "stdout"
        }
      ]
    },
    {
      "cell_type": "code",
      "metadata": {
        "colab": {
          "base_uri": "https://localhost:8080/"
        },
        "id": "-jVnXpvr4JKT",
        "outputId": "030fa713-e936-45e9-81ef-681cbd3854b6"
      },
      "source": [
        "# decision tree regression model\n",
        "dtr = DecisionTreeRegressor()\n",
        "dtr.fit(feat_tr, targ_tr)\n",
        "print(dtr.predict(feat_te)[0:6])\n",
        "pred_tr = dtr.predict(feat_tr)\n",
        "pred_te = dtr.predict(feat_te)\n",
        "\n",
        "d_MAE_24 = metrics.mean_absolute_error(targ_te, pred_te)\n",
        "d_MSE_24 =  metrics.mean_squared_error(targ_te, pred_te)\n",
        "d_RMSE_24 = np.sqrt(metrics.mean_squared_error(targ_te, pred_te))\n",
        "d_R2_train24 = r2_score(targ_tr, pred_tr)\n",
        "d_R2_test24 = r2_score(targ_te, pred_te)"
      ],
      "execution_count": 23,
      "outputs": [
        {
          "output_type": "stream",
          "text": [
            "[54. 63. 40. 35. 57. 47.]\n"
          ],
          "name": "stdout"
        }
      ]
    },
    {
      "cell_type": "code",
      "metadata": {
        "colab": {
          "base_uri": "https://localhost:8080/"
        },
        "id": "5dQr1i-Y4wWv",
        "outputId": "4c285182-b5c4-47e4-f863-a58f8fcbd899"
      },
      "source": [
        "# gradient boosting regressor model\n",
        "reg = GradientBoostingRegressor()\n",
        "reg.fit(feat_tr, targ_tr)\n",
        "print(reg.predict(feat_te)[0:6])\n",
        "pred_tr = reg.predict(feat_tr)\n",
        "pred_te = reg.predict(feat_te)\n",
        "\n",
        "gr_MAE_24 = metrics.mean_absolute_error(targ_te, pred_te)\n",
        "gr_MSE_24 =  metrics.mean_squared_error(targ_te, pred_te)\n",
        "gr_RMSE_24 = np.sqrt(metrics.mean_squared_error(targ_te, pred_te))\n",
        "gr_R2_train24 = r2_score(targ_tr, pred_tr)\n",
        "gr_R2_test24 = r2_score(targ_te, pred_te)"
      ],
      "execution_count": 24,
      "outputs": [
        {
          "output_type": "stream",
          "text": [
            "[53.85243104 45.42240549 46.90107213 44.40730776 51.42154853 63.21542209]\n"
          ],
          "name": "stdout"
        }
      ]
    },
    {
      "cell_type": "markdown",
      "metadata": {
        "id": "M3le2czJGy-2"
      },
      "source": [
        "# Attempt 3: 4 features"
      ]
    },
    {
      "cell_type": "code",
      "metadata": {
        "id": "hqOtT1KL7X5b"
      },
      "source": [
        "feat[\"off_1\"] = feat.iloc[0:feat.shape[0], 0:12].sum(axis=1)\n",
        "feat[\"def_1\"] = feat.iloc[0:feat.shape[0], 12:24].sum(axis=1)\n",
        "feat[\"off_2\"] = feat.iloc[0:feat.shape[0], 24:36].sum(axis=1)\n",
        "feat[\"def_2\"] = feat.iloc[0:feat.shape[0], 36:48].sum(axis=1)"
      ],
      "execution_count": 25,
      "outputs": []
    },
    {
      "cell_type": "code",
      "metadata": {
        "id": "pH19IPa97HwT"
      },
      "source": [
        "feat_b = feat.iloc[0:feat.shape[0], 71:]"
      ],
      "execution_count": 26,
      "outputs": []
    },
    {
      "cell_type": "code",
      "metadata": {
        "id": "mxrdcvqJHAGX"
      },
      "source": [
        "feat_tr, feat_te, targ_tr, targ_te = train_test_split(feat_b, targ, test_size=0.2, random_state=302) # model with 4 features"
      ],
      "execution_count": 27,
      "outputs": []
    },
    {
      "cell_type": "code",
      "metadata": {
        "colab": {
          "base_uri": "https://localhost:8080/"
        },
        "id": "QX_etqvnG5ga",
        "outputId": "dcc80bd8-8b44-4790-b436-0db41df89a1a"
      },
      "source": [
        "# Initializing Random Forest Regressor\n",
        "rf = RandomForestRegressor(random_state= 17)\n",
        "rf.fit(feat_tr, targ_tr)\n",
        "print(rf.predict(feat_tr)[0:6])\n",
        "pred_tr = rf.predict(feat_tr)\n",
        "pred_te = rf.predict(feat_te)\n",
        "\n",
        "r_MAE_4 = metrics.mean_absolute_error(targ_te, pred_te)\n",
        "r_MSE_4 =  metrics.mean_squared_error(targ_te, pred_te)\n",
        "r_RMSE_4 = np.sqrt(metrics.mean_squared_error(targ_te, pred_te))\n",
        "r_R2_train4 = r2_score(targ_tr, pred_tr)\n",
        "r_R2_test4 = r2_score(targ_te, pred_te)"
      ],
      "execution_count": 28,
      "outputs": [
        {
          "output_type": "stream",
          "text": [
            "[37.44 39.28 54.23 38.17 42.61 43.28]\n"
          ],
          "name": "stdout"
        }
      ]
    },
    {
      "cell_type": "code",
      "metadata": {
        "colab": {
          "base_uri": "https://localhost:8080/"
        },
        "id": "1mneGIOqG5gb",
        "outputId": "54cf3dc1-74ed-4745-f99b-f8a3e0250aa8"
      },
      "source": [
        "# linear regression model\n",
        "reg = LinearRegression().fit(feat_tr, targ_tr)\n",
        "print(reg.predict(feat_tr)[0:6])\n",
        "pred_tr = reg.predict(feat_tr)\n",
        "pred_te = reg.predict(feat_te)\n",
        "\n",
        "L_MAE_4 = metrics.mean_absolute_error(targ_te, pred_te)\n",
        "L_MSE_4 =  metrics.mean_squared_error(targ_te, pred_te)\n",
        "L_RMSE_4 = np.sqrt(metrics.mean_squared_error(targ_te, pred_te))\n",
        "L_R2_train4 = r2_score(targ_tr, pred_tr)\n",
        "L_R2_test4 = r2_score(targ_te, pred_te)"
      ],
      "execution_count": 29,
      "outputs": [
        {
          "output_type": "stream",
          "text": [
            "[48.0217854  54.86766456 48.94344729 55.5816591  51.25904748 50.49343992]\n"
          ],
          "name": "stdout"
        }
      ]
    },
    {
      "cell_type": "code",
      "metadata": {
        "colab": {
          "base_uri": "https://localhost:8080/"
        },
        "id": "Ai_O8wWuG5gc",
        "outputId": "0280ebc6-dee2-4a6f-fd06-d5b2447d1a72"
      },
      "source": [
        "# ridge regression model\n",
        "clf = Ridge()\n",
        "clf.fit(feat_tr, targ_tr)\n",
        "print(clf.predict(feat_te)[0:6])\n",
        "pred_tr = clf.predict(feat_tr)\n",
        "pred_te = clf.predict(feat_te)\n",
        "\n",
        "ri_MAE_4 = metrics.mean_absolute_error(targ_te, pred_te)\n",
        "ri_MSE_4 =  metrics.mean_squared_error(targ_te, pred_te)\n",
        "ri_RMSE_4 = np.sqrt(metrics.mean_squared_error(targ_te, pred_te))\n",
        "ri_R2_train4 = r2_score(targ_tr, pred_tr)\n",
        "ri_R2_test4 = r2_score(targ_te, pred_te)"
      ],
      "execution_count": 30,
      "outputs": [
        {
          "output_type": "stream",
          "text": [
            "[54.20889425 48.74153423 50.67174487 46.98073074 51.29883103 52.99943361]\n"
          ],
          "name": "stdout"
        }
      ]
    },
    {
      "cell_type": "code",
      "metadata": {
        "colab": {
          "base_uri": "https://localhost:8080/"
        },
        "id": "ItVa6wPwG5gc",
        "outputId": "4a729b09-4a62-47b3-8774-2b6b2d714c80"
      },
      "source": [
        "# lasso regression model\n",
        "clf = linear_model.Lasso()\n",
        "clf.fit(feat_tr, targ_tr)\n",
        "print(clf.predict(feat_te)[0:6])\n",
        "pred_tr = clf.predict(feat_tr)\n",
        "pred_te = clf.predict(feat_te)\n",
        "\n",
        "La_MAE_4 = metrics.mean_absolute_error(targ_te, pred_te)\n",
        "La_MSE_4 =  metrics.mean_squared_error(targ_te, pred_te)\n",
        "La_RMSE_4 = np.sqrt(metrics.mean_squared_error(targ_te, pred_te))\n",
        "La_R2_train4 = r2_score(targ_tr, pred_tr)\n",
        "La_R2_test4 = r2_score(targ_te, pred_te)"
      ],
      "execution_count": 31,
      "outputs": [
        {
          "output_type": "stream",
          "text": [
            "[54.15542985 48.78563175 50.63630191 47.01617048 51.30201787 52.89012437]\n"
          ],
          "name": "stdout"
        }
      ]
    },
    {
      "cell_type": "code",
      "metadata": {
        "colab": {
          "base_uri": "https://localhost:8080/"
        },
        "id": "yaLoqiNmG5gd",
        "outputId": "29a67bd1-fcb0-49fb-f8c0-8025344196f5"
      },
      "source": [
        "# support vector regression model\n",
        "regr = SVR()\n",
        "regr.fit(feat_tr, targ_tr)\n",
        "print(regr.predict(feat_te)[0:6])\n",
        "pred_tr = regr.predict(feat_tr)\n",
        "pred_te = regr.predict(feat_te)\n",
        "\n",
        "s_MAE_4 = metrics.mean_absolute_error(targ_te, pred_te)\n",
        "s_MSE_4 =  metrics.mean_squared_error(targ_te, pred_te)\n",
        "s_RMSE_4 = np.sqrt(metrics.mean_squared_error(targ_te, pred_te))\n",
        "s_R2_train4 = r2_score(targ_tr, pred_tr)\n",
        "s_R2_test4 = r2_score(targ_te, pred_te)"
      ],
      "execution_count": 32,
      "outputs": [
        {
          "output_type": "stream",
          "text": [
            "[51.94588451 49.55125495 50.8104417  48.9398081  53.07743412 50.66377234]\n"
          ],
          "name": "stdout"
        }
      ]
    },
    {
      "cell_type": "code",
      "metadata": {
        "colab": {
          "base_uri": "https://localhost:8080/"
        },
        "id": "pu_leW3aG5gd",
        "outputId": "9622ad77-b122-4362-e789-a5b34ba238a5"
      },
      "source": [
        "# decision tree regression model\n",
        "dtr = DecisionTreeRegressor()\n",
        "dtr.fit(feat_tr, targ_tr)\n",
        "print(dtr.predict(feat_te)[0:6])\n",
        "pred_tr = dtr.predict(feat_tr)\n",
        "pred_te = dtr.predict(feat_te)\n",
        "\n",
        "d_MAE_4 = metrics.mean_absolute_error(targ_te, pred_te)\n",
        "d_MSE_4 =  metrics.mean_squared_error(targ_te, pred_te)\n",
        "d_RMSE_4 = np.sqrt(metrics.mean_squared_error(targ_te, pred_te))\n",
        "d_R2_train4 = r2_score(targ_tr, pred_tr)\n",
        "d_R2_test4 = r2_score(targ_te, pred_te)"
      ],
      "execution_count": 33,
      "outputs": [
        {
          "output_type": "stream",
          "text": [
            "[44. 39. 51. 46. 37. 41.]\n"
          ],
          "name": "stdout"
        }
      ]
    },
    {
      "cell_type": "code",
      "metadata": {
        "colab": {
          "base_uri": "https://localhost:8080/"
        },
        "id": "RlQOgdesG5ge",
        "outputId": "5d2e0170-f0eb-4350-f686-6125620b9d83"
      },
      "source": [
        "# gradient boosting regressor model\n",
        "reg = GradientBoostingRegressor()\n",
        "reg.fit(feat_tr, targ_tr)\n",
        "print(reg.predict(feat_te)[0:6])\n",
        "pred_tr = reg.predict(feat_tr)\n",
        "pred_te = reg.predict(feat_te)\n",
        "\n",
        "gr_MAE_4 = metrics.mean_absolute_error(targ_te, pred_te)\n",
        "gr_MSE_4 =  metrics.mean_squared_error(targ_te, pred_te)\n",
        "gr_RMSE_4 = np.sqrt(metrics.mean_squared_error(targ_te, pred_te))\n",
        "gr_R2_train4 = r2_score(targ_tr, pred_tr)\n",
        "gr_R2_test4 = r2_score(targ_te, pred_te)"
      ],
      "execution_count": 34,
      "outputs": [
        {
          "output_type": "stream",
          "text": [
            "[57.19383057 47.98879446 51.92046166 34.10189957 55.83422869 51.13097344]\n"
          ],
          "name": "stdout"
        }
      ]
    },
    {
      "cell_type": "markdown",
      "metadata": {
        "id": "j7DXoR1dHFwR"
      },
      "source": [
        "#Attempt 5: 2 features"
      ]
    },
    {
      "cell_type": "code",
      "metadata": {
        "id": "vNWBye0AHSyt"
      },
      "source": [
        "feat[\"off_diff\"] = feat[\"off_1\"] - feat[\"off_2\"]\n",
        "feat[\"def_diff\"] = feat[\"def_1\"] - feat[\"def_2\"]\n",
        "feat_c = feat[[\"off_diff\", \"def_diff\"]]"
      ],
      "execution_count": 35,
      "outputs": []
    },
    {
      "cell_type": "code",
      "metadata": {
        "id": "Qx0nUFkLHSyu"
      },
      "source": [
        "feat_tr, feat_te, targ_tr, targ_te = train_test_split(feat_c, targ, test_size=0.2, random_state=302) # model with 2 features"
      ],
      "execution_count": 36,
      "outputs": []
    },
    {
      "cell_type": "code",
      "metadata": {
        "colab": {
          "base_uri": "https://localhost:8080/"
        },
        "id": "eW3R7N1XHSyv",
        "outputId": "287f62d9-a2fc-494c-e144-982e29aef8a9"
      },
      "source": [
        "# Initializing Random Forest Regressor\n",
        "rf = RandomForestRegressor(random_state= 17)\n",
        "rf.fit(feat_tr, targ_tr)\n",
        "print(rf.predict(feat_tr)[0:6])\n",
        "pred_tr = rf.predict(feat_tr)\n",
        "pred_te = rf.predict(feat_te)\n",
        "\n",
        "r_MAE_2 = metrics.mean_absolute_error(targ_te, pred_te)\n",
        "r_MSE_2 =  metrics.mean_squared_error(targ_te, pred_te)\n",
        "r_RMSE_2 = np.sqrt(metrics.mean_squared_error(targ_te, pred_te))\n",
        "r_R2_train2 = r2_score(targ_tr, pred_tr)\n",
        "r_R2_test2 = r2_score(targ_te, pred_te)"
      ],
      "execution_count": 37,
      "outputs": [
        {
          "output_type": "stream",
          "text": [
            "[39.3  40.91 52.97 37.4  46.32 47.56]\n"
          ],
          "name": "stdout"
        }
      ]
    },
    {
      "cell_type": "code",
      "metadata": {
        "colab": {
          "base_uri": "https://localhost:8080/"
        },
        "id": "_ftbogVoHSyx",
        "outputId": "f30e77ae-462a-4e05-b2a0-3d09de20fdce"
      },
      "source": [
        "# linear regression model\n",
        "reg = LinearRegression().fit(feat_tr, targ_tr)\n",
        "print(reg.predict(feat_tr)[0:6])\n",
        "pred_tr = reg.predict(feat_tr)\n",
        "pred_te = reg.predict(feat_te)\n",
        "\n",
        "L_MAE_2 = metrics.mean_absolute_error(targ_te, pred_te)\n",
        "L_MSE_2 =  metrics.mean_squared_error(targ_te, pred_te)\n",
        "L_RMSE_2 = np.sqrt(metrics.mean_squared_error(targ_te, pred_te))\n",
        "L_R2_train2 = r2_score(targ_tr, pred_tr)\n",
        "L_R2_test2 = r2_score(targ_te, pred_te)"
      ],
      "execution_count": 38,
      "outputs": [
        {
          "output_type": "stream",
          "text": [
            "[48.96689331 53.68481833 49.42380937 56.71669823 53.65511161 49.57153353]\n"
          ],
          "name": "stdout"
        }
      ]
    },
    {
      "cell_type": "code",
      "metadata": {
        "colab": {
          "base_uri": "https://localhost:8080/"
        },
        "id": "xca8bYRaHSyx",
        "outputId": "47a36638-f60d-48f8-8dd9-b75e257baa88"
      },
      "source": [
        "# ridge regression model\n",
        "clf = Ridge()\n",
        "clf.fit(feat_tr, targ_tr)\n",
        "print(clf.predict(feat_te)[0:6])\n",
        "pred_tr = clf.predict(feat_tr)\n",
        "pred_te = clf.predict(feat_te)\n",
        "\n",
        "ri_MAE_2 = metrics.mean_absolute_error(targ_te, pred_te)\n",
        "ri_MSE_2 =  metrics.mean_squared_error(targ_te, pred_te)\n",
        "ri_RMSE_2 = np.sqrt(metrics.mean_squared_error(targ_te, pred_te))\n",
        "ri_R2_train2 = r2_score(targ_tr, pred_tr)\n",
        "ri_R2_test2 = r2_score(targ_te, pred_te)"
      ],
      "execution_count": 39,
      "outputs": [
        {
          "output_type": "stream",
          "text": [
            "[50.68733908 49.25793843 51.58628142 46.0968473  52.3069056  53.50888594]\n"
          ],
          "name": "stdout"
        }
      ]
    },
    {
      "cell_type": "code",
      "metadata": {
        "colab": {
          "base_uri": "https://localhost:8080/"
        },
        "id": "DvblexYsHSyy",
        "outputId": "e88c4fa0-c3ad-44df-c9d2-2f65dd9fa303"
      },
      "source": [
        "# lasso regression model\n",
        "clf = linear_model.Lasso()\n",
        "clf.fit(feat_tr, targ_tr)\n",
        "print(clf.predict(feat_te)[0:6])\n",
        "pred_tr = clf.predict(feat_tr)\n",
        "pred_te = clf.predict(feat_te)\n",
        "\n",
        "La_MAE_2 = metrics.mean_absolute_error(targ_te, pred_te)\n",
        "La_MSE_2 =  metrics.mean_squared_error(targ_te, pred_te)\n",
        "La_RMSE_2 = np.sqrt(metrics.mean_squared_error(targ_te, pred_te))\n",
        "La_R2_train2 = r2_score(targ_tr, pred_tr)\n",
        "La_R2_test2 = r2_score(targ_te, pred_te)"
      ],
      "execution_count": 40,
      "outputs": [
        {
          "output_type": "stream",
          "text": [
            "[50.68782426 49.26539765 51.57929583 46.12951203 52.28891386 53.47406576]\n"
          ],
          "name": "stdout"
        }
      ]
    },
    {
      "cell_type": "code",
      "metadata": {
        "colab": {
          "base_uri": "https://localhost:8080/"
        },
        "id": "9J7bl9KBHSyz",
        "outputId": "5d1fbc34-9b62-43c7-8257-69fc46b1bdda"
      },
      "source": [
        "# support vector regression model\n",
        "regr = SVR()\n",
        "regr.fit(feat_tr, targ_tr)\n",
        "print(regr.predict(feat_te)[0:6])\n",
        "pred_tr = regr.predict(feat_tr)\n",
        "pred_te = regr.predict(feat_te)\n",
        "\n",
        "s_MAE_2 = metrics.mean_absolute_error(targ_te, pred_te)\n",
        "s_MSE_2 =  metrics.mean_squared_error(targ_te, pred_te)\n",
        "s_RMSE_2 = np.sqrt(metrics.mean_squared_error(targ_te, pred_te))\n",
        "s_R2_train2 = r2_score(targ_tr, pred_tr)\n",
        "s_R2_test2 = r2_score(targ_te, pred_te)"
      ],
      "execution_count": 41,
      "outputs": [
        {
          "output_type": "stream",
          "text": [
            "[49.25863698 48.18241314 50.64970726 48.00096171 52.10000223 53.83478207]\n"
          ],
          "name": "stdout"
        }
      ]
    },
    {
      "cell_type": "code",
      "metadata": {
        "colab": {
          "base_uri": "https://localhost:8080/"
        },
        "id": "RjzWIMcYHSyz",
        "outputId": "9d57baba-dd97-41d7-ec11-41ad1ca5ba12"
      },
      "source": [
        "# decision tree regression model\n",
        "dtr = DecisionTreeRegressor()\n",
        "dtr.fit(feat_tr, targ_tr)\n",
        "print(dtr.predict(feat_te)[0:6])\n",
        "pred_tr = dtr.predict(feat_tr)\n",
        "pred_te = dtr.predict(feat_te)\n",
        "\n",
        "d_MAE_2 = metrics.mean_absolute_error(targ_te, pred_te)\n",
        "d_MSE_2 =  metrics.mean_squared_error(targ_te, pred_te)\n",
        "d_RMSE_2 = np.sqrt(metrics.mean_squared_error(targ_te, pred_te))\n",
        "d_R2_train2 = r2_score(targ_tr, pred_tr)\n",
        "d_R2_test2 = r2_score(targ_te, pred_te)"
      ],
      "execution_count": 42,
      "outputs": [
        {
          "output_type": "stream",
          "text": [
            "[49. 44. 46. 30. 52. 61.]\n"
          ],
          "name": "stdout"
        }
      ]
    },
    {
      "cell_type": "code",
      "metadata": {
        "colab": {
          "base_uri": "https://localhost:8080/"
        },
        "id": "8VJWPmJPHSy0",
        "outputId": "d4035912-fcee-400a-8889-5936b309e28e"
      },
      "source": [
        "# gradient boosting regressor model\n",
        "reg = GradientBoostingRegressor()\n",
        "reg.fit(feat_tr, targ_tr)\n",
        "print(reg.predict(feat_te)[0:6])\n",
        "pred_tr = reg.predict(feat_tr)\n",
        "pred_te = reg.predict(feat_te)\n",
        "\n",
        "gr_MAE_2 = metrics.mean_absolute_error(targ_te, pred_te)\n",
        "gr_MSE_2 =  metrics.mean_squared_error(targ_te, pred_te)\n",
        "gr_RMSE_2 = np.sqrt(metrics.mean_squared_error(targ_te, pred_te))\n",
        "gr_R2_train2 = r2_score(targ_tr, pred_tr)\n",
        "gr_R2_test2 = r2_score(targ_te, pred_te)"
      ],
      "execution_count": 43,
      "outputs": [
        {
          "output_type": "stream",
          "text": [
            "[55.05956759 47.24442096 50.92564197 55.66569249 47.44406062 48.68686279]\n"
          ],
          "name": "stdout"
        }
      ]
    },
    {
      "cell_type": "markdown",
      "metadata": {
        "id": "qlAHt8lOnMR3"
      },
      "source": [
        "#Dummy Model"
      ]
    },
    {
      "cell_type": "code",
      "metadata": {
        "id": "ZLYuxXEonn5f"
      },
      "source": [
        "mode = targ.mode()"
      ],
      "execution_count": 44,
      "outputs": []
    },
    {
      "cell_type": "code",
      "metadata": {
        "id": "Fpre4ziYnvNd"
      },
      "source": [
        "dum = [mode] * 52\n",
        "dum_tr = [mode] * 204"
      ],
      "execution_count": 45,
      "outputs": []
    },
    {
      "cell_type": "code",
      "metadata": {
        "id": "5qpkeIjXnQRo"
      },
      "source": [
        "MAE_d = metrics.mean_absolute_error(targ_te, dum)\n",
        "MSE_d =  metrics.mean_squared_error(targ_te, dum)\n",
        "RMSE_d = np.sqrt(metrics.mean_squared_error(targ_te, dum))\n",
        "R2_traind = r2_score(targ_tr, dum_tr)\n",
        "R2_testd = r2_score(targ_te, dum)"
      ],
      "execution_count": 46,
      "outputs": []
    },
    {
      "cell_type": "markdown",
      "metadata": {
        "id": "-Gj1q9qFX1NM"
      },
      "source": [
        "#Metrics comparison"
      ]
    },
    {
      "cell_type": "code",
      "metadata": {
        "id": "BfZWbVAEZipd"
      },
      "source": [
        "MAE_48 = [r_MAE_48, L_MAE_48, ri_MAE_48, La_MAE_48, s_MAE_48, d_MAE_48, gr_MAE_48]\n",
        "MAE_24 = [r_MAE_24, L_MAE_24, ri_MAE_24, La_MAE_24, s_MAE_24, d_MAE_24, gr_MAE_24]\n",
        "MAE_4 = [r_MAE_4, L_MAE_4, ri_MAE_4, La_MAE_4, s_MAE_4, d_MAE_4, gr_MAE_4]\n",
        "MAE_2 = [r_MAE_2, L_MAE_2, ri_MAE_2, La_MAE_2, s_MAE_2, d_MAE_2, gr_MAE_2]\n",
        "MAE_d = [MAE_d, MAE_d, MAE_d, MAE_d, MAE_d, MAE_d, MAE_d]"
      ],
      "execution_count": 47,
      "outputs": []
    },
    {
      "cell_type": "code",
      "metadata": {
        "id": "NAQ5coz-htrZ"
      },
      "source": [
        "MSE_48 = [r_MSE_48, L_MSE_48, ri_MSE_48, La_MSE_48, s_MSE_48, d_MSE_48, gr_MSE_48]\n",
        "MSE_24 = [r_MSE_24, L_MSE_24, ri_MSE_24, La_MSE_24, s_MSE_24, d_MSE_24, gr_MSE_24]\n",
        "MSE_4 = [r_MSE_4, L_MSE_4, ri_MSE_4, La_MSE_4, s_MSE_4, d_MSE_4, gr_MSE_4]\n",
        "MSE_2 = [r_MSE_2, L_MSE_2, ri_MSE_2, La_MSE_2, s_MSE_2, d_MSE_2, gr_MSE_2]\n",
        "MSE_d = [MSE_d, MSE_d, MSE_d, MSE_d, MSE_d, MSE_d, MSE_d]"
      ],
      "execution_count": 48,
      "outputs": []
    },
    {
      "cell_type": "code",
      "metadata": {
        "id": "bICfrMJnihI5"
      },
      "source": [
        "RMSE_48 = [r_RMSE_48, L_RMSE_48, ri_RMSE_48, La_RMSE_48, s_RMSE_48, d_RMSE_48, gr_RMSE_48]\n",
        "RMSE_24 = [r_RMSE_24, L_RMSE_24, ri_RMSE_24, La_RMSE_24, s_RMSE_24, d_RMSE_24, gr_RMSE_24]\n",
        "RMSE_4 = [r_RMSE_4, L_RMSE_4, ri_RMSE_4, La_RMSE_4, s_RMSE_4, d_RMSE_4, gr_RMSE_4]\n",
        "RMSE_2 = [r_RMSE_2, L_RMSE_2, ri_RMSE_2, La_RMSE_2, s_RMSE_2, d_RMSE_2, gr_RMSE_2]\n",
        "RMSE_d = [RMSE_d, RMSE_d, RMSE_d, RMSE_d, RMSE_d, RMSE_d, RMSE_d]"
      ],
      "execution_count": 49,
      "outputs": []
    },
    {
      "cell_type": "code",
      "metadata": {
        "id": "BMEJtlDmjN33"
      },
      "source": [
        "R2tr_48 = [gr_R2_train48, L_R2_train48, ri_R2_train48, La_R2_train48, s_R2_train48, d_R2_train48, gr_R2_train48]\n",
        "R2tr_24 = [r_R2_train24, L_R2_train24, ri_R2_train24, La_R2_train24, s_R2_train24, d_R2_train24, gr_R2_train24]\n",
        "R2tr_4 = [r_R2_train4, L_R2_train4, ri_R2_train4, La_R2_train4, s_R2_train4, d_R2_train4, gr_R2_train4]\n",
        "R2tr_2 = [gr_R2_train2, L_R2_train2, ri_R2_train2, La_R2_train2, s_R2_train2, d_R2_train2, gr_R2_train2]\n",
        "R2_traind = [R2_traind, R2_traind, R2_traind, R2_traind, R2_traind, R2_traind, R2_traind]"
      ],
      "execution_count": 50,
      "outputs": []
    },
    {
      "cell_type": "code",
      "metadata": {
        "id": "jERePyrmlHPz"
      },
      "source": [
        "R2te_48 = [gr_R2_test48, L_R2_test48, ri_R2_test48, La_R2_test48, s_R2_test48, d_R2_test48, gr_R2_test48]\n",
        "R2te_24 = [r_R2_test24, L_R2_test24, ri_R2_test24, La_R2_test24, s_R2_test24, d_R2_test24, gr_R2_test24]\n",
        "R2te_4 = [r_R2_test4, L_R2_test4, ri_R2_test4, La_R2_test4, s_R2_test4, d_R2_test4, gr_R2_test4]\n",
        "R2te_2 = [gr_R2_test2, L_R2_test2, ri_R2_test2, La_R2_test2, s_R2_test2, d_R2_test2, gr_R2_test2]\n",
        "R2_testd = [R2_testd, R2_testd, R2_testd, R2_testd, R2_testd, R2_testd, R2_testd]"
      ],
      "execution_count": 51,
      "outputs": []
    },
    {
      "cell_type": "code",
      "metadata": {
        "id": "FCzzqqjZaWRP"
      },
      "source": [
        "errors = [\"Random Forest\", \"Linear\", \"Ridge\", \"Lasso\", \"Support Vector\", \"Decision Tree\", \"Gradiant Boosting\"]"
      ],
      "execution_count": 52,
      "outputs": []
    },
    {
      "cell_type": "code",
      "metadata": {
        "colab": {
          "base_uri": "https://localhost:8080/",
          "height": 621
        },
        "id": "9sHs8Z50ZtTh",
        "outputId": "c8e2566c-73e2-4ce5-9089-141c8067e054"
      },
      "source": [
        "fig, ax = plt.subplots(figsize=[15, 10])\n",
        "ax.plot(errors, MAE_48, '-b', label='48 Features')\n",
        "ax.plot(errors, MAE_24, '-r', label='24 Features')\n",
        "ax.plot(errors, MAE_4, 'purple', label='4 Features')\n",
        "ax.plot(errors, MAE_2, '-g', label='2 Features')\n",
        "ax.plot(errors, MAE_d, 'orange', label='dummy')\n",
        "# naming the x axis \n",
        "plt.xlabel('model type') \n",
        "# naming the y axis \n",
        "plt.ylabel('MAE value')\n",
        "# title\n",
        "plt.title(\"Mean Absolute Error Across Models with Different Features\") \n",
        "# show the legend \n",
        "leg = ax.legend();"
      ],
      "execution_count": 53,
      "outputs": [
        {
          "output_type": "display_data",
          "data": {
            "image/png": "[encoded data removed]",
            "text/plain": [
              "<Figure size 1080x720 with 1 Axes>"
            ]
          },
          "metadata": {
            "tags": [],
            "needs_background": "light"
          }
        }
      ]
    },
    {
      "cell_type": "code",
      "metadata": {
        "colab": {
          "base_uri": "https://localhost:8080/",
          "height": 621
        },
        "id": "zHg_hihNiHoG",
        "outputId": "35b24ae3-7d1f-488d-c5b3-99af7de3bbfc"
      },
      "source": [
        "fig, ax = plt.subplots(figsize=[15, 10])\n",
        "ax.plot(errors, MSE_48, '-b', label='48 Features')\n",
        "ax.plot(errors, MSE_24, '-r', label='24 Features')\n",
        "ax.plot(errors, MSE_4, 'purple', label='4 Features')\n",
        "ax.plot(errors, MSE_2, '-g', label='2 Features')\n",
        "ax.plot(errors, MSE_d, 'orange', label='dummy')\n",
        "# naming the x axis \n",
        "plt.xlabel('model type') \n",
        "# naming the y axis \n",
        "plt.ylabel('MSE value') \n",
        "# title\n",
        "plt.title(\"Mean Square Error Across Models with Different Features\") \n",
        "# show the legend \n",
        "leg = ax.legend();"
      ],
      "execution_count": 54,
      "outputs": [
        {
          "output_type": "display_data",
          "data": {
            "image/png": "[encoded data removed]",
            "text/plain": [
              "<Figure size 1080x720 with 1 Axes>"
            ]
          },
          "metadata": {
            "tags": [],
            "needs_background": "light"
          }
        }
      ]
    },
    {
      "cell_type": "code",
      "metadata": {
        "colab": {
          "base_uri": "https://localhost:8080/",
          "height": 621
        },
        "id": "Tg27vr-ei7v7",
        "outputId": "6bcbb506-2ba4-48c6-b418-28133169ad5a"
      },
      "source": [
        "fig, ax = plt.subplots(figsize=[15, 10])\n",
        "ax.plot(errors, RMSE_48, '-b', label='48 Features')\n",
        "ax.plot(errors, RMSE_24, '-r', label='24 Features')\n",
        "ax.plot(errors, RMSE_4, 'purple', label='4 Features')\n",
        "ax.plot(errors, RMSE_2, '-g', label='2 Features')\n",
        "ax.plot(errors, RMSE_d, 'orange', label='dummy')\n",
        "# naming the x axis \n",
        "plt.xlabel('model type') \n",
        "# naming the y axis \n",
        "plt.ylabel('RMSE value') \n",
        "# title\n",
        "plt.title(\"Root Mean Square Error Across Models with Different Features\") \n",
        "# show the legend \n",
        "leg = ax.legend();"
      ],
      "execution_count": 55,
      "outputs": [
        {
          "output_type": "display_data",
          "data": {
            "image/png": "[encoded data removed]",
            "text/plain": [
              "<Figure size 1080x720 with 1 Axes>"
            ]
          },
          "metadata": {
            "tags": [],
            "needs_background": "light"
          }
        }
      ]
    },
    {
      "cell_type": "code",
      "metadata": {
        "colab": {
          "base_uri": "https://localhost:8080/",
          "height": 621
        },
        "id": "2M76s80ukatV",
        "outputId": "386a6be3-d6fc-4dfa-ed63-0d1841297687"
      },
      "source": [
        "fig, ax = plt.subplots(figsize=[15, 10])\n",
        "ax.plot(errors, R2tr_48, '-b', label='48 Features')\n",
        "ax.plot(errors, R2tr_24, '-r', label='24 Features')\n",
        "ax.plot(errors, R2tr_4, 'purple', label='4 Features')\n",
        "ax.plot(errors, R2tr_2, '-g', label='2 Features')\n",
        "ax.plot(errors, R2_traind, 'orange', label='dummy')\n",
        "# naming the x axis \n",
        "plt.xlabel('model type') \n",
        "# naming the y axis \n",
        "plt.ylabel('R Square training value') \n",
        "# title\n",
        "plt.title(\"R Square Training Value Across Models with Different Features\") \n",
        "# show the legend \n",
        "leg = ax.legend();"
      ],
      "execution_count": 56,
      "outputs": [
        {
          "output_type": "display_data",
          "data": {
            "image/png": "[encoded data removed]",
            "text/plain": [
              "<Figure size 1080x720 with 1 Axes>"
            ]
          },
          "metadata": {
            "tags": [],
            "needs_background": "light"
          }
        }
      ]
    },
    {
      "cell_type": "code",
      "metadata": {
        "colab": {
          "base_uri": "https://localhost:8080/",
          "height": 621
        },
        "id": "9QJ58RGyl3EN",
        "outputId": "2b2f05af-adf6-4855-ecc4-3249c7e4be1b"
      },
      "source": [
        "fig, ax = plt.subplots(figsize=[15, 10])\n",
        "ax.plot(errors, R2te_48, '-b', label='48 Features')\n",
        "ax.plot(errors, R2te_24, '-r', label='24 Features')\n",
        "ax.plot(errors, R2te_4, 'purple', label='4 Features')\n",
        "ax.plot(errors, R2te_2, '-g', label='2 Features')\n",
        "ax.plot(errors, R2_testd, 'orange', label='dummy')\n",
        "# naming the x axis \n",
        "plt.xlabel('model type') \n",
        "# naming the y axis \n",
        "plt.ylabel('R Square testing value') \n",
        "# title\n",
        "plt.title(\"R Square Testing Value Across Models with Different Features\") \n",
        "# show the legend \n",
        "leg = ax.legend();"
      ],
      "execution_count": 57,
      "outputs": [
        {
          "output_type": "display_data",
          "data": {
            "image/png": "[encoded data removed]",
            "text/plain": [
              "<Figure size 1080x720 with 1 Axes>"
            ]
          },
          "metadata": {
            "tags": [],
            "needs_background": "light"
          }
        }
      ]
    },
    {
      "cell_type": "markdown",
      "metadata": {
        "id": "0dwXYrF40mwm"
      },
      "source": [
        "#Scatter plot"
      ]
    },
    {
      "cell_type": "code",
      "metadata": {
        "id": "JhAsqczr0xW9"
      },
      "source": [
        "feat[\"total_off\"] = feat[\"off_1\"] + feat[\"off_2\"]"
      ],
      "execution_count": 58,
      "outputs": []
    },
    {
      "cell_type": "code",
      "metadata": {
        "id": "hwmtNCOt1ldm"
      },
      "source": [
        "feat[\"total_def\"] = feat[\"def_1\"] + feat[\"def_2\"]"
      ],
      "execution_count": 59,
      "outputs": []
    },
    {
      "cell_type": "code",
      "metadata": {
        "id": "4gNcCFDT2BwA"
      },
      "source": [
        "feat[\"diff\"] = feat[\"total_off\"] - feat[\"total_def\"] "
      ],
      "execution_count": 60,
      "outputs": []
    },
    {
      "cell_type": "code",
      "metadata": {
        "colab": {
          "base_uri": "https://localhost:8080/",
          "height": 295
        },
        "id": "oXqgDQoJ0rQL",
        "outputId": "5fcb6c8c-3a86-4f78-c569-a956773ea261"
      },
      "source": [
        "plt.plot(feat[\"total_off\"], data[\"Total Score\"], 'o', color='black');\n",
        "plt.xlabel(\"total offensive PFF grades (both teams)\")\n",
        "plt.ylabel(\"total game score\")\n",
        "plt.title(\"Total Offense Grades vs. Total Score\");"
      ],
      "execution_count": 61,
      "outputs": [
        {
          "output_type": "display_data",
          "data": {
            "image/png": "[encoded data removed]",
            "text/plain": [
              "<Figure size 432x288 with 1 Axes>"
            ]
          },
          "metadata": {
            "tags": [],
            "needs_background": "light"
          }
        }
      ]
    },
    {
      "cell_type": "code",
      "metadata": {
        "colab": {
          "base_uri": "https://localhost:8080/",
          "height": 295
        },
        "id": "uolS3Jg41p6f",
        "outputId": "169d794a-58c5-4221-fcd7-e619d42e8d4e"
      },
      "source": [
        "plt.plot(feat[\"total_def\"], data[\"Total Score\"], 'o', color='blue');\n",
        "plt.xlabel(\"total defensive PFF scores (both teams)\")\n",
        "plt.ylabel(\"total game score\")\n",
        "plt.title(\"Total Defense Grades vs. Total Score\");"
      ],
      "execution_count": 62,
      "outputs": [
        {
          "output_type": "display_data",
          "data": {
            "image/png": "[encoded data removed]",
            "text/plain": [
              "<Figure size 432x288 with 1 Axes>"
            ]
          },
          "metadata": {
            "tags": [],
            "needs_background": "light"
          }
        }
      ]
    },
    {
      "cell_type": "code",
      "metadata": {
        "colab": {
          "base_uri": "https://localhost:8080/",
          "height": 295
        },
        "id": "2SQYCK8g2KwX",
        "outputId": "71a4ae01-1269-4454-e0d9-db6d500f3ffe"
      },
      "source": [
        "plt.plot(feat[\"diff\"], data[\"Total Score\"], 'o', color='pink');\n",
        "plt.xlabel(\"Difference between total def/off PFF scores\")\n",
        "plt.ylabel(\"total game score\")\n",
        "plt.title(\"Total Offense Grades Less Total Defense Grades vs. Total Score\");"
      ],
      "execution_count": 63,
      "outputs": [
        {
          "output_type": "display_data",
          "data": {
            "image/png": "[encoded data removed]",
            "text/plain": [
              "<Figure size 432x288 with 1 Axes>"
            ]
          },
          "metadata": {
            "tags": [],
            "needs_background": "light"
          }
        }
      ]
    },
    {
      "cell_type": "code",
      "metadata": {
        "id": "Qv1xOo4b4jvi"
      },
      "source": [
        "feat[\"QB Total\"] = feat[\"QB\"] + feat[\"QB.1\"]"
      ],
      "execution_count": 64,
      "outputs": []
    },
    {
      "cell_type": "code",
      "metadata": {
        "colab": {
          "base_uri": "https://localhost:8080/",
          "height": 295
        },
        "id": "_d8fd-FY4uzV",
        "outputId": "60f5707a-963c-4090-8a3e-fd042a7fdc16"
      },
      "source": [
        "plt.plot(feat[\"QB Total\"], data[\"Total Score\"], 'o', color='purple');\n",
        "plt.xlabel(\"QB Total PFF scores\")\n",
        "plt.ylabel(\"total game score\")\n",
        "plt.title(\"Total QB Grades vs. Total Score\");"
      ],
      "execution_count": 65,
      "outputs": [
        {
          "output_type": "display_data",
          "data": {
            "image/png": "[encoded data removed]",
            "text/plain": [
              "<Figure size 432x288 with 1 Axes>"
            ]
          },
          "metadata": {
            "tags": [],
            "needs_background": "light"
          }
        }
      ]
    },
    {
      "cell_type": "markdown",
      "metadata": {
        "id": "nqycTl5mZynE"
      },
      "source": [
        "6# Attempt 3: high vs. low scoring target / 48 features"
      ]
    },
    {
      "cell_type": "code",
      "metadata": {
        "id": "69_95szkZmj2"
      },
      "source": [
        "data['high_scoring'] = data['Total Score'].apply(lambda x: 1 if x > 45 else 0)"
      ],
      "execution_count": 66,
      "outputs": []
    },
    {
      "cell_type": "code",
      "metadata": {
        "id": "Lax8D6dlbGU6"
      },
      "source": [
        "targ_b = data['high_scoring']"
      ],
      "execution_count": 67,
      "outputs": []
    },
    {
      "cell_type": "code",
      "metadata": {
        "id": "kwjJujiiaG7z"
      },
      "source": [
        "feat_tr, feat_te, targ_tr, targ_te = train_test_split(feat, targ_b, test_size=0.2, random_state=302)"
      ],
      "execution_count": 68,
      "outputs": []
    },
    {
      "cell_type": "code",
      "metadata": {
        "colab": {
          "base_uri": "https://localhost:8080/"
        },
        "id": "wCrhaBgBaHv7",
        "outputId": "44ce21be-bb52-4e8e-db26-59000da56620"
      },
      "source": [
        "clf = DecisionTreeClassifier(random_state=0)\n",
        "clf.fit(feat_tr, targ_tr)"
      ],
      "execution_count": 69,
      "outputs": [
        {
          "output_type": "execute_result",
          "data": {
            "text/plain": [
              "DecisionTreeClassifier(ccp_alpha=0.0, class_weight=None, criterion='gini',\n",
              "                       max_depth=None, max_features=None, max_leaf_nodes=None,\n",
              "                       min_impurity_decrease=0.0, min_impurity_split=None,\n",
              "                       min_samples_leaf=1, min_samples_split=2,\n",
              "                       min_weight_fraction_leaf=0.0, presort='deprecated',\n",
              "                       random_state=0, splitter='best')"
            ]
          },
          "metadata": {
            "tags": []
          },
          "execution_count": 69
        }
      ]
    },
    {
      "cell_type": "code",
      "metadata": {
        "colab": {
          "base_uri": "https://localhost:8080/"
        },
        "id": "im4xDrTSbEWM",
        "outputId": "7f302236-8bb3-4b68-e6a3-5f2012218965"
      },
      "source": [
        "# -- assess the accuracy on the TRAINING data\n",
        "pred_tr = clf.predict(feat_tr)\n",
        "acc_tr = accuracy_score(targ_tr, pred_tr)\n",
        "print(\"training accuracy = {0:.3f}\".format(acc_tr))\n",
        "\n",
        "# -- assess the accuracy on the TESTING data\n",
        "pred_te = clf.predict(feat_te)\n",
        "acc_te = accuracy_score(targ_te, pred_te)\n",
        "print(\"testing accuracy = {0:.3f}\".format(acc_te))"
      ],
      "execution_count": 70,
      "outputs": [
        {
          "output_type": "stream",
          "text": [
            "training accuracy = 1.000\n",
            "testing accuracy = 0.673\n"
          ],
          "name": "stdout"
        }
      ]
    },
    {
      "cell_type": "code",
      "metadata": {
        "id": "V-06jfbuun4J"
      },
      "source": [
        "# -- select the parameter(s) to tune and the values to try\n",
        "tuned_parameters = [{\"min_samples_leaf\" : [1, 2, 5, 10, 20, 50, 100, 200, 500]}]"
      ],
      "execution_count": 71,
      "outputs": []
    },
    {
      "cell_type": "code",
      "metadata": {
        "colab": {
          "base_uri": "https://localhost:8080/"
        },
        "id": "AA_fL8hlCwsg",
        "outputId": "e13ea159-5fb5-4097-cfd0-6c4f86e49b82"
      },
      "source": [
        "# -- perform Grid Search\n",
        "rtc_tune = RandomForestClassifier()\n",
        "cv_tune = GridSearchCV(rtc_tune, tuned_parameters)\n",
        "cv_tune.fit(feat_tr, targ_tr)"
      ],
      "execution_count": 72,
      "outputs": [
        {
          "output_type": "execute_result",
          "data": {
            "text/plain": [
              "GridSearchCV(cv=None, error_score=nan,\n",
              "             estimator=RandomForestClassifier(bootstrap=True, ccp_alpha=0.0,\n",
              "                                              class_weight=None,\n",
              "                                              criterion='gini', max_depth=None,\n",
              "                                              max_features='auto',\n",
              "                                              max_leaf_nodes=None,\n",
              "                                              max_samples=None,\n",
              "                                              min_impurity_decrease=0.0,\n",
              "                                              min_impurity_split=None,\n",
              "                                              min_samples_leaf=1,\n",
              "                                              min_samples_split=2,\n",
              "                                              min_weight_fraction_leaf=0.0,\n",
              "                                              n_estimators=100, n_jobs=None,\n",
              "                                              oob_score=False,\n",
              "                                              random_state=None, verbose=0,\n",
              "                                              warm_start=False),\n",
              "             iid='deprecated', n_jobs=None,\n",
              "             param_grid=[{'min_samples_leaf': [1, 2, 5, 10, 20, 50, 100, 200,\n",
              "                                               500]}],\n",
              "             pre_dispatch='2*n_jobs', refit=True, return_train_score=False,\n",
              "             scoring=None, verbose=0)"
            ]
          },
          "metadata": {
            "tags": []
          },
          "execution_count": 72
        }
      ]
    },
    {
      "cell_type": "code",
      "metadata": {
        "colab": {
          "base_uri": "https://localhost:8080/"
        },
        "id": "ncLyek13GkT1",
        "outputId": "a1598856-5d25-4d44-d71c-c8b710ce4916"
      },
      "source": [
        "# -- print out the params with the highest \"score\"\n",
        "score = cv_tune.best_params_.get(\"min_samples_leaf\")\n",
        "score"
      ],
      "execution_count": 73,
      "outputs": [
        {
          "output_type": "execute_result",
          "data": {
            "text/plain": [
              "1"
            ]
          },
          "metadata": {
            "tags": []
          },
          "execution_count": 73
        }
      ]
    },
    {
      "cell_type": "code",
      "metadata": {
        "colab": {
          "base_uri": "https://localhost:8080/"
        },
        "id": "Gr8ddezUbikH",
        "outputId": "e7407ee7-8f46-44bf-a618-134edbfca7df"
      },
      "source": [
        "# -- define classifier\n",
        "mod = RandomForestClassifier(min_samples_leaf=score)\n",
        "\n",
        "# -- fit a decision tree classifier on the TRAINING data\n",
        "mod.fit(feat_tr, targ_tr)\n",
        "\n",
        "# -- assess the accuracy on the TRAINING data\n",
        "pred_tr = mod.predict(feat_tr)\n",
        "acc_tr = accuracy_score(targ_tr, pred_tr)\n",
        "print(\"training accuracy = {0:.3f}\".format(acc_tr))\n",
        "\n",
        "# -- assess the accuracy on the TESTING data\n",
        "pred_te = mod.predict(feat_te)\n",
        "acc_te = accuracy_score(targ_te, pred_te)\n",
        "print(\"testing accuracy = {0:.3f}\".format(acc_te))"
      ],
      "execution_count": 74,
      "outputs": [
        {
          "output_type": "stream",
          "text": [
            "training accuracy = 1.000\n",
            "testing accuracy = 0.462\n"
          ],
          "name": "stdout"
        }
      ]
    },
    {
      "cell_type": "markdown",
      "metadata": {
        "id": "PownZntsvP-V"
      },
      "source": [
        "#Attempt 6: high vs. low scoring target / 24 features"
      ]
    },
    {
      "cell_type": "code",
      "metadata": {
        "id": "fk-R5y9qvMSN"
      },
      "source": [
        "feat_tr, feat_te, targ_tr, targ_te = train_test_split(feat_a, targ_b, test_size=0.2, random_state=302)"
      ],
      "execution_count": 75,
      "outputs": []
    },
    {
      "cell_type": "code",
      "metadata": {
        "colab": {
          "base_uri": "https://localhost:8080/"
        },
        "id": "qBrBnxUivMSQ",
        "outputId": "4f5f1610-d025-4480-f8f9-2cb71fb74e5c"
      },
      "source": [
        "clf = DecisionTreeClassifier(random_state=0)\n",
        "clf.fit(feat_tr, targ_tr)"
      ],
      "execution_count": 76,
      "outputs": [
        {
          "output_type": "execute_result",
          "data": {
            "text/plain": [
              "DecisionTreeClassifier(ccp_alpha=0.0, class_weight=None, criterion='gini',\n",
              "                       max_depth=None, max_features=None, max_leaf_nodes=None,\n",
              "                       min_impurity_decrease=0.0, min_impurity_split=None,\n",
              "                       min_samples_leaf=1, min_samples_split=2,\n",
              "                       min_weight_fraction_leaf=0.0, presort='deprecated',\n",
              "                       random_state=0, splitter='best')"
            ]
          },
          "metadata": {
            "tags": []
          },
          "execution_count": 76
        }
      ]
    },
    {
      "cell_type": "code",
      "metadata": {
        "colab": {
          "base_uri": "https://localhost:8080/"
        },
        "id": "Sb7NNoPPvMSk",
        "outputId": "a2947e49-83ca-43f1-b6b4-112a8ee37b45"
      },
      "source": [
        "# -- assess the accuracy on the TRAINING data\n",
        "pred_tr = clf.predict(feat_tr)\n",
        "acc_tr = accuracy_score(targ_tr, pred_tr)\n",
        "print(\"training accuracy = {0:.3f}\".format(acc_tr))\n",
        "\n",
        "# -- assess the accuracy on the TESTING data\n",
        "pred_te = clf.predict(feat_te)\n",
        "acc_te = accuracy_score(targ_te, pred_te)\n",
        "print(\"testing accuracy = {0:.3f}\".format(acc_te))"
      ],
      "execution_count": 77,
      "outputs": [
        {
          "output_type": "stream",
          "text": [
            "training accuracy = 1.000\n",
            "testing accuracy = 0.481\n"
          ],
          "name": "stdout"
        }
      ]
    },
    {
      "cell_type": "code",
      "metadata": {
        "id": "Uy-T4mk2vMSp"
      },
      "source": [
        "# -- select the parameter(s) to tune and the values to try\n",
        "tuned_parameters = [{\"min_samples_leaf\" : [1, 2, 5, 10, 20, 50, 100, 200, 500]}]"
      ],
      "execution_count": 78,
      "outputs": []
    },
    {
      "cell_type": "code",
      "metadata": {
        "colab": {
          "base_uri": "https://localhost:8080/"
        },
        "id": "OG8m5_ObvMSt",
        "outputId": "00893576-e4a8-4e8c-c097-9982fdfd230d"
      },
      "source": [
        "# -- perform Grid Search\n",
        "rtc_tune = RandomForestClassifier()\n",
        "cv_tune = GridSearchCV(rtc_tune, tuned_parameters)\n",
        "cv_tune.fit(feat_tr, targ_tr)"
      ],
      "execution_count": 79,
      "outputs": [
        {
          "output_type": "execute_result",
          "data": {
            "text/plain": [
              "GridSearchCV(cv=None, error_score=nan,\n",
              "             estimator=RandomForestClassifier(bootstrap=True, ccp_alpha=0.0,\n",
              "                                              class_weight=None,\n",
              "                                              criterion='gini', max_depth=None,\n",
              "                                              max_features='auto',\n",
              "                                              max_leaf_nodes=None,\n",
              "                                              max_samples=None,\n",
              "                                              min_impurity_decrease=0.0,\n",
              "                                              min_impurity_split=None,\n",
              "                                              min_samples_leaf=1,\n",
              "                                              min_samples_split=2,\n",
              "                                              min_weight_fraction_leaf=0.0,\n",
              "                                              n_estimators=100, n_jobs=None,\n",
              "                                              oob_score=False,\n",
              "                                              random_state=None, verbose=0,\n",
              "                                              warm_start=False),\n",
              "             iid='deprecated', n_jobs=None,\n",
              "             param_grid=[{'min_samples_leaf': [1, 2, 5, 10, 20, 50, 100, 200,\n",
              "                                               500]}],\n",
              "             pre_dispatch='2*n_jobs', refit=True, return_train_score=False,\n",
              "             scoring=None, verbose=0)"
            ]
          },
          "metadata": {
            "tags": []
          },
          "execution_count": 79
        }
      ]
    },
    {
      "cell_type": "code",
      "metadata": {
        "colab": {
          "base_uri": "https://localhost:8080/"
        },
        "id": "vZah_EIdvMSx",
        "outputId": "279356e0-1756-410e-ddfa-bc9309b80ff3"
      },
      "source": [
        "# -- print out the params with the highest \"score\"\n",
        "score = cv_tune.best_params_.get(\"min_samples_leaf\")\n",
        "score"
      ],
      "execution_count": 80,
      "outputs": [
        {
          "output_type": "execute_result",
          "data": {
            "text/plain": [
              "100"
            ]
          },
          "metadata": {
            "tags": []
          },
          "execution_count": 80
        }
      ]
    },
    {
      "cell_type": "code",
      "metadata": {
        "colab": {
          "base_uri": "https://localhost:8080/"
        },
        "id": "lqrXOlAYvMS0",
        "outputId": "ebee4b5e-0bcf-4609-cc71-ddfe90869a3f"
      },
      "source": [
        "# -- define classifier\n",
        "mod = RandomForestClassifier(min_samples_leaf=score)\n",
        "\n",
        "# -- fit a decision tree classifier on the TRAINING data\n",
        "mod.fit(feat_tr, targ_tr)\n",
        "\n",
        "# -- assess the accuracy on the TRAINING data\n",
        "pred_tr = mod.predict(feat_tr)\n",
        "acc_tr = accuracy_score(targ_tr, pred_tr)\n",
        "print(\"training accuracy = {0:.3f}\".format(acc_tr))\n",
        "\n",
        "# -- assess the accuracy on the TESTING data\n",
        "pred_te = mod.predict(feat_te)\n",
        "acc_te = accuracy_score(targ_te, pred_te)\n",
        "print(\"testing accuracy = {0:.3f}\".format(acc_te))"
      ],
      "execution_count": 81,
      "outputs": [
        {
          "output_type": "stream",
          "text": [
            "training accuracy = 0.539\n",
            "testing accuracy = 0.404\n"
          ],
          "name": "stdout"
        }
      ]
    },
    {
      "cell_type": "markdown",
      "metadata": {
        "id": "UqocvKbCv2na"
      },
      "source": [
        "#Attempt 7: high vs. low scoring target / 4 features"
      ]
    },
    {
      "cell_type": "code",
      "metadata": {
        "id": "GDHVBsDEv7iB"
      },
      "source": [
        "feat_tr, feat_te, targ_tr, targ_te = train_test_split(feat_b, targ_b, test_size=0.2, random_state=302)"
      ],
      "execution_count": 82,
      "outputs": []
    },
    {
      "cell_type": "code",
      "metadata": {
        "colab": {
          "base_uri": "https://localhost:8080/"
        },
        "id": "lAMiX8iNv7iE",
        "outputId": "ac1ac5a6-0a81-4e36-d3c4-7b95273f3011"
      },
      "source": [
        "clf = DecisionTreeClassifier(random_state=0, min_samples_leaf=7)\n",
        "clf.fit(feat_tr, targ_tr)"
      ],
      "execution_count": 83,
      "outputs": [
        {
          "output_type": "execute_result",
          "data": {
            "text/plain": [
              "DecisionTreeClassifier(ccp_alpha=0.0, class_weight=None, criterion='gini',\n",
              "                       max_depth=None, max_features=None, max_leaf_nodes=None,\n",
              "                       min_impurity_decrease=0.0, min_impurity_split=None,\n",
              "                       min_samples_leaf=7, min_samples_split=2,\n",
              "                       min_weight_fraction_leaf=0.0, presort='deprecated',\n",
              "                       random_state=0, splitter='best')"
            ]
          },
          "metadata": {
            "tags": []
          },
          "execution_count": 83
        }
      ]
    },
    {
      "cell_type": "code",
      "metadata": {
        "colab": {
          "base_uri": "https://localhost:8080/"
        },
        "id": "4PzykZavv7i2",
        "outputId": "4d1879db-1a40-47e0-b80b-d46f8389ddce"
      },
      "source": [
        "# -- assess the accuracy on the TRAINING data\n",
        "pred_tr = clf.predict(feat_tr)\n",
        "acc_tr = accuracy_score(targ_tr, pred_tr)\n",
        "print(\"training accuracy = {0:.3f}\".format(acc_tr))\n",
        "\n",
        "# -- assess the accuracy on the TESTING data\n",
        "pred_te = clf.predict(feat_te)\n",
        "acc_te = accuracy_score(targ_te, pred_te)\n",
        "print(\"testing accuracy = {0:.3f}\".format(acc_te))"
      ],
      "execution_count": 84,
      "outputs": [
        {
          "output_type": "stream",
          "text": [
            "training accuracy = 0.745\n",
            "testing accuracy = 0.519\n"
          ],
          "name": "stdout"
        }
      ]
    },
    {
      "cell_type": "code",
      "metadata": {
        "id": "RQdoJ426v7i4"
      },
      "source": [
        "# -- select the parameter(s) to tune and the values to try\n",
        "tuned_parameters = [{\"min_samples_leaf\" : [1, 2, 5, 10, 20, 50, 100, 200, 500]}]"
      ],
      "execution_count": 85,
      "outputs": []
    },
    {
      "cell_type": "code",
      "metadata": {
        "colab": {
          "base_uri": "https://localhost:8080/"
        },
        "id": "0N0nZnUzv7i5",
        "outputId": "43d06cb5-6efe-4f60-f04a-cb8cb2740878"
      },
      "source": [
        "# -- perform Grid Search\n",
        "rtc_tune = RandomForestClassifier()\n",
        "cv_tune = GridSearchCV(rtc_tune, tuned_parameters)\n",
        "cv_tune.fit(feat_tr, targ_tr)"
      ],
      "execution_count": 86,
      "outputs": [
        {
          "output_type": "execute_result",
          "data": {
            "text/plain": [
              "GridSearchCV(cv=None, error_score=nan,\n",
              "             estimator=RandomForestClassifier(bootstrap=True, ccp_alpha=0.0,\n",
              "                                              class_weight=None,\n",
              "                                              criterion='gini', max_depth=None,\n",
              "                                              max_features='auto',\n",
              "                                              max_leaf_nodes=None,\n",
              "                                              max_samples=None,\n",
              "                                              min_impurity_decrease=0.0,\n",
              "                                              min_impurity_split=None,\n",
              "                                              min_samples_leaf=1,\n",
              "                                              min_samples_split=2,\n",
              "                                              min_weight_fraction_leaf=0.0,\n",
              "                                              n_estimators=100, n_jobs=None,\n",
              "                                              oob_score=False,\n",
              "                                              random_state=None, verbose=0,\n",
              "                                              warm_start=False),\n",
              "             iid='deprecated', n_jobs=None,\n",
              "             param_grid=[{'min_samples_leaf': [1, 2, 5, 10, 20, 50, 100, 200,\n",
              "                                               500]}],\n",
              "             pre_dispatch='2*n_jobs', refit=True, return_train_score=False,\n",
              "             scoring=None, verbose=0)"
            ]
          },
          "metadata": {
            "tags": []
          },
          "execution_count": 86
        }
      ]
    },
    {
      "cell_type": "code",
      "metadata": {
        "colab": {
          "base_uri": "https://localhost:8080/"
        },
        "id": "9lwqrYpov7i6",
        "outputId": "31aacd47-c2a2-4a80-b6c5-6b8ffcc44c4d"
      },
      "source": [
        "# -- print out the params with the highest \"score\"\n",
        "score = cv_tune.best_params_.get(\"min_samples_leaf\")\n",
        "score"
      ],
      "execution_count": 87,
      "outputs": [
        {
          "output_type": "execute_result",
          "data": {
            "text/plain": [
              "1"
            ]
          },
          "metadata": {
            "tags": []
          },
          "execution_count": 87
        }
      ]
    },
    {
      "cell_type": "code",
      "metadata": {
        "colab": {
          "base_uri": "https://localhost:8080/"
        },
        "id": "Kouwro6Xv7i8",
        "outputId": "243fe87a-db4d-4527-d7e0-b577d1d1852e"
      },
      "source": [
        "# -- define classifier\n",
        "mod = RandomForestClassifier(min_samples_leaf=15, random_state=0)\n",
        "\n",
        "# -- fit a decision tree classifier on the TRAINING data\n",
        "mod.fit(feat_tr, targ_tr)\n",
        "\n",
        "# -- assess the accuracy on the TRAINING data\n",
        "pred_tr = mod.predict(feat_tr)\n",
        "acc_tr = accuracy_score(targ_tr, pred_tr)\n",
        "print(\"training accuracy = {0:.3f}\".format(acc_tr))\n",
        "\n",
        "# -- assess the accuracy on the TESTING data\n",
        "pred_te = mod.predict(feat_te)\n",
        "acc_te = accuracy_score(targ_te, pred_te)\n",
        "print(\"testing accuracy = {0:.3f}\".format(acc_te))"
      ],
      "execution_count": 88,
      "outputs": [
        {
          "output_type": "stream",
          "text": [
            "training accuracy = 0.725\n",
            "testing accuracy = 0.577\n"
          ],
          "name": "stdout"
        }
      ]
    },
    {
      "cell_type": "markdown",
      "metadata": {
        "id": "gW3J7gNy2xDz"
      },
      "source": [
        "#Attempt 8: high vs. low scoring target / offense as feature"
      ]
    },
    {
      "cell_type": "code",
      "metadata": {
        "id": "TKM2isqm3GtJ"
      },
      "source": [
        "feat_c = np.asarray(feat[\"total_off\"]).reshape(-1, 1)"
      ],
      "execution_count": 89,
      "outputs": []
    },
    {
      "cell_type": "code",
      "metadata": {
        "id": "JW_06Fc53EpV"
      },
      "source": [
        "feat_tr, feat_te, targ_tr, targ_te = train_test_split(feat_c, targ_b, test_size=0.2, random_state=302)"
      ],
      "execution_count": 90,
      "outputs": []
    },
    {
      "cell_type": "code",
      "metadata": {
        "colab": {
          "base_uri": "https://localhost:8080/"
        },
        "id": "AQ_-H4AD3EpX",
        "outputId": "fdf816a8-f243-4b87-ddab-b271ec5e64ae"
      },
      "source": [
        "clf = DecisionTreeClassifier(random_state=0, min_samples_leaf=10)\n",
        "clf.fit(feat_tr, targ_tr)"
      ],
      "execution_count": 91,
      "outputs": [
        {
          "output_type": "execute_result",
          "data": {
            "text/plain": [
              "DecisionTreeClassifier(ccp_alpha=0.0, class_weight=None, criterion='gini',\n",
              "                       max_depth=None, max_features=None, max_leaf_nodes=None,\n",
              "                       min_impurity_decrease=0.0, min_impurity_split=None,\n",
              "                       min_samples_leaf=10, min_samples_split=2,\n",
              "                       min_weight_fraction_leaf=0.0, presort='deprecated',\n",
              "                       random_state=0, splitter='best')"
            ]
          },
          "metadata": {
            "tags": []
          },
          "execution_count": 91
        }
      ]
    },
    {
      "cell_type": "code",
      "metadata": {
        "colab": {
          "base_uri": "https://localhost:8080/"
        },
        "id": "l_zBSBLq3Epa",
        "outputId": "63f6db94-f979-430a-9a5b-f965a0a4d99a"
      },
      "source": [
        "# -- assess the accuracy on the TRAINING data\n",
        "pred_tr = clf.predict(feat_tr)\n",
        "acc_tr = accuracy_score(targ_tr, pred_tr)\n",
        "print(\"training accuracy = {0:.3f}\".format(acc_tr))\n",
        "\n",
        "# -- assess the accuracy on the TESTING data\n",
        "pred_te = clf.predict(feat_te)\n",
        "acc_te = accuracy_score(targ_te, pred_te)\n",
        "print(\"testing accuracy = {0:.3f}\".format(acc_te))"
      ],
      "execution_count": 92,
      "outputs": [
        {
          "output_type": "stream",
          "text": [
            "training accuracy = 0.701\n",
            "testing accuracy = 0.462\n"
          ],
          "name": "stdout"
        }
      ]
    },
    {
      "cell_type": "code",
      "metadata": {
        "id": "MywqbMr43Epc"
      },
      "source": [
        "# -- select the parameter(s) to tune and the values to try\n",
        "tuned_parameters = [{\"min_samples_leaf\" : [1, 2, 5, 10, 20, 50, 100, 200, 500]}]"
      ],
      "execution_count": 93,
      "outputs": []
    },
    {
      "cell_type": "code",
      "metadata": {
        "colab": {
          "base_uri": "https://localhost:8080/"
        },
        "id": "RLD_8Ebj3Epd",
        "outputId": "41ed9e27-3af0-4836-c97c-2a7484bdc43c"
      },
      "source": [
        "# -- perform Grid Search\n",
        "rtc_tune = RandomForestClassifier()\n",
        "cv_tune = GridSearchCV(rtc_tune, tuned_parameters)\n",
        "cv_tune.fit(feat_tr, targ_tr)"
      ],
      "execution_count": 94,
      "outputs": [
        {
          "output_type": "execute_result",
          "data": {
            "text/plain": [
              "GridSearchCV(cv=None, error_score=nan,\n",
              "             estimator=RandomForestClassifier(bootstrap=True, ccp_alpha=0.0,\n",
              "                                              class_weight=None,\n",
              "                                              criterion='gini', max_depth=None,\n",
              "                                              max_features='auto',\n",
              "                                              max_leaf_nodes=None,\n",
              "                                              max_samples=None,\n",
              "                                              min_impurity_decrease=0.0,\n",
              "                                              min_impurity_split=None,\n",
              "                                              min_samples_leaf=1,\n",
              "                                              min_samples_split=2,\n",
              "                                              min_weight_fraction_leaf=0.0,\n",
              "                                              n_estimators=100, n_jobs=None,\n",
              "                                              oob_score=False,\n",
              "                                              random_state=None, verbose=0,\n",
              "                                              warm_start=False),\n",
              "             iid='deprecated', n_jobs=None,\n",
              "             param_grid=[{'min_samples_leaf': [1, 2, 5, 10, 20, 50, 100, 200,\n",
              "                                               500]}],\n",
              "             pre_dispatch='2*n_jobs', refit=True, return_train_score=False,\n",
              "             scoring=None, verbose=0)"
            ]
          },
          "metadata": {
            "tags": []
          },
          "execution_count": 94
        }
      ]
    },
    {
      "cell_type": "code",
      "metadata": {
        "colab": {
          "base_uri": "https://localhost:8080/"
        },
        "id": "NAplVUdn3Epe",
        "outputId": "31e41ede-717d-49c3-c10b-1c8772e81d6b"
      },
      "source": [
        "# -- print out the params with the highest \"score\"\n",
        "score = cv_tune.best_params_.get(\"min_samples_leaf\")\n",
        "score"
      ],
      "execution_count": 95,
      "outputs": [
        {
          "output_type": "execute_result",
          "data": {
            "text/plain": [
              "20"
            ]
          },
          "metadata": {
            "tags": []
          },
          "execution_count": 95
        }
      ]
    },
    {
      "cell_type": "code",
      "metadata": {
        "colab": {
          "base_uri": "https://localhost:8080/"
        },
        "id": "IEpYTrWz3Epg",
        "outputId": "aa0c95a2-2ba2-4c58-f9a2-60b8c1be21ec"
      },
      "source": [
        "# -- define classifier\n",
        "mod = RandomForestClassifier(min_samples_leaf=15, random_state=0)\n",
        "\n",
        "# -- fit a decision tree classifier on the TRAINING data\n",
        "mod.fit(feat_tr, targ_tr)\n",
        "\n",
        "# -- assess the accuracy on the TRAINING data\n",
        "pred_tr = mod.predict(feat_tr)\n",
        "acc_tr = accuracy_score(targ_tr, pred_tr)\n",
        "print(\"training accuracy = {0:.3f}\".format(acc_tr))\n",
        "\n",
        "# -- assess the accuracy on the TESTING data\n",
        "pred_te = mod.predict(feat_te)\n",
        "acc_te = accuracy_score(targ_te, pred_te)\n",
        "print(\"testing accuracy = {0:.3f}\".format(acc_te))"
      ],
      "execution_count": 96,
      "outputs": [
        {
          "output_type": "stream",
          "text": [
            "training accuracy = 0.647\n",
            "testing accuracy = 0.538\n"
          ],
          "name": "stdout"
        }
      ]
    },
    {
      "cell_type": "code",
      "metadata": {
        "id": "-q8AiCwKMO6O"
      },
      "source": [
        "from urllib.request import urlopen"
      ],
      "execution_count": 97,
      "outputs": []
    },
    {
      "cell_type": "code",
      "metadata": {
        "id": "twS9qFNSMRvn"
      },
      "source": [
        "url = \"http://www.nflweather.com/en/week/2019/week-16/\""
      ],
      "execution_count": 98,
      "outputs": []
    },
    {
      "cell_type": "code",
      "metadata": {
        "colab": {
          "base_uri": "https://localhost:8080/"
        },
        "id": "XvHjgAv4MZ6f",
        "outputId": "2d084583-1f01-4ff0-9dcf-03ffa029bd8e"
      },
      "source": [
        "page = urlopen(url)\n",
        "html_bytes = page.read()\n",
        "html = html_bytes.decode(\"utf-8\")\n",
        "print(html)"
      ],
      "execution_count": 99,
      "outputs": [
        {
          "output_type": "stream",
          "text": [
            "<!DOCTYPE html>\n",
            "<html lang=\"en\">\n",
            "  <head>\n",
            "    <meta charset=\"utf-8\">\n",
            "    <meta name=\"viewport\" content=\"width=device-width, initial-scale=1.0\">\n",
            "    <title>NFLWeather.com</title>\n",
            "\n",
            "    <meta http-equiv=\"content-type\" content=\"text/xhtml; charset=utf-8\" />\n",
            "    <meta http-equiv=\"imagetoolbar\" content=\"no\" />\n",
            "    <meta name=\"distribution\" content=\"all\" />\n",
            "    <meta name=\"robots\" content=\"all\" />\n",
            "    <meta name=\"resource-type\" content=\"document\" />\n",
            "    <meta name=\"MSSmartTagsPreventParsing\" content=\"true\" />\n",
            "    <meta name=\"verify-v1\" content=\"xyXjzoRCYtgpIeSDu6dgGxwV48o6Ml0H6+577uOEyjA=\" />\n",
            "    <meta name=\"copyright\" content=\"NFLWeather.com\" />\n",
            "    <meta name=\"author\" content=\"NFLWeather.com\" />\n",
            "    <meta name=\"description\" content=\"Every weather report, on the hour, for every NFL football game every week.\" />\n",
            "    <meta name=\"keywords\" content=\"NFL, Weather, Fantasy Football, NFL Weather, Weather Forecast, Forecast, NFL Stadium Conditions\" />\n",
            "    <meta content=\"authenticity_token\" name=\"csrf-param\" />\n",
            "<meta content=\"GhlX5gdlFMof0GtJ8SdqmCUHw1/WDbEpGVAqDRuMh9o=\" name=\"csrf-token\" />\n",
            "    <!-- Le HTML5 shim, for IE6-8 support of HTML elements -->\n",
            "    <!--[if lt IE 9]>\n",
            "      <script src=\"http://html5shim.googlecode.com/svn/trunk/html5.js\" type=\"text/javascript\"></script>\n",
            "    <![endif]-->\n",
            "    <link href=\"/assets/application-a256eed8e99d395f313e7fe7af417e62.css\" media=\"all\" rel=\"stylesheet\" type=\"text/css\" />\n",
            "    <link href=\"/assets/favicon.ico\" rel=\"shortcut icon\">\n",
            "    <link href=\"/assets/apple-touch-icon.png\" rel=\"apple-touch-icon\">\n",
            "    <link href=\"/assets/apple-touch-icon-72x72.png\" rel=\"apple-touch-icon\" sizes=\"72x72\">\n",
            "    <link href=\"/assets/apple-touch-icon-114x114.png\" rel=\"apple-touch-icon\" sizes=\"114x114\">\n",
            "  </head>\n",
            "  <body>\n",
            "\n",
            "    <script src=\"/assets/application-c52b40606c9624afd8cdae1e15260476.js\" type=\"text/javascript\"></script>\n",
            "    \n",
            "\n",
            "    <div class=\"container mcont\">\n",
            "\n",
            "      <div class=\"content-fluid\">\n",
            "        <div class=\"row-fluid\">\n",
            "          <div class=\"span10 visible-desktop\">\n",
            "            <a href=\"/en/\"><img alt=\"Logo_n\" src=\"/assets/logo_n.png\" /></a>\n",
            "            <a href=\"/en/\"><img alt=\"Url_n\" src=\"/assets/url_n.png\" /></a>\n",
            "          </div>\n",
            "          <div class=\"span2 visible-desktop\">\n",
            "            <div class=\"row-fluid spacer\">\n",
            "            </div>\n",
            "            <div class=\"row-fluid spacer\">\n",
            "            </div>\n",
            "          \t<a href=\"/#{I18n.locale}/users/sign_up\"><img alt=\"Join_us32\" border=\"0\" src=\"/assets/join_us32.png\" /></a>\n",
            "            <!-- >\n",
            "      \t    <a href=\"https://play.google.com/store/apps/details?id=com.nflweather.nflweatherandroid.nflweather.uwnmobile\"><img alt=\"Android32\" border=\"0\" src=\"/assets/android32.png\" /></a>\n",
            "      \t    <a href=\"https://itunes.apple.com/app/nflweather/id584742623\"><img alt=\"Ios32\" border=\"0\" src=\"/assets/ios32.png\" /></a>\n",
            "            <-->\n",
            "            <a href=\"/email_this_page?link=&#x27;http://www.nflweather.com:80/en/week/2019/week-16&#x27;\"><img alt=\"Email32\" border=\"0\" src=\"/assets/email32.png\" /></a>\n",
            "              <a href=\"/en/week/2019/week-16\"><img alt=\"En\" border=\"0\" src=\"/assets/en.png\" /></a>\n",
            "              <a href=\"/es/week/2019/week-16\"><img alt=\"Es\" border=\"0\" src=\"/assets/es.png\" /></a>\n",
            "            <div class=\"row-fluid spacer\">\n",
            "            </div>\n",
            "\t\t        <div class=\"addthis_toolbox addthis_32x32_style addthis_default_style\">\n",
            "\t\t          <a class=\"addthis_button_facebook\"></a>\n",
            "\t\t          <a class=\"addthis_button_twitter\"></a>\n",
            "\t\t          <a class=\"addthis_button_google\"></a>\n",
            "\t\t          <a class=\"addthis_button_compact\"></a>\n",
            "\t\t        </div>\n",
            "          </div>\n",
            "        </div>\n",
            "      </div>\n",
            "\n",
            "      <div class=\"row-fluid spacer\">\n",
            "      </div>\n",
            "\n",
            "      <div class=\"navbar\" style=\"color: #fff;\">\n",
            "        <div class=\"navbar-inner\" style=\"padding-left: 5px; padding-right: 5px;\">\n",
            "          <div class=\"container\">\n",
            "              <a class=\"btn btn-navbar\" style=\"margin-top: 15px;float: left;padding: 4px;color: #000;text-shadow:none;\"id=\"goback\" href=\"javascript:history.back();\">Back</a>\n",
            "              <a class=\"brand hidden-desktop\" href=\"/en/\" style=\"font-size: 12px; color: #fff;text-shadow: none;\">\n",
            "                <img src=\"/assets/ln.png\" style=\"height: 40px;\">\n",
            "                NFLWeather.com<span style=\"font-size: 10px;vertical-align: text-top;\"><sup>TM</sup></span></a>\n",
            "              <a class=\"btn btn-navbar\"  style=\"margin-top: 15px;\" data-toggle=\"collapse\" data-target=\".nav-collapse\">\n",
            "                <span class=\"icon-bar\"></span>\n",
            "                <span class=\"icon-bar\"></span>\n",
            "                <span class=\"icon-bar\"></span>\n",
            "              </a>\n",
            "              <div class=\"nav-collapse collapse\" style=\"color: #fff;\">\n",
            "                <ul class=\"nav\">\n",
            "                  <li><a href=\"/en/\">Home</a></li>\n",
            "                  <li class=\"divider-vertical\"></li>\n",
            "                  <li><a href=\"/en/archive\">NFLW Analytics</a></li>\n",
            "                  <li class=\"divider-vertical\"></li>\n",
            "                  <li><a href=\"/en/blog/page/1\">NFLW Blog</a></li>\n",
            "                  <li class=\"divider-vertical\"></li>\n",
            "                  <li><a href=\"/en/widgets\">NFLW Widgets</a></li>\n",
            "                  <li class=\"divider-vertical\"></li>\n",
            "                  <li><a href=\"/en/team/all\">Team Forecasts</a></li>\n",
            "                  <li class=\"divider-vertical\"></li>\n",
            "                  <li><a href=\"/en/pickem_leader_board\">Pick’Em Leaders</a></li>\n",
            "                  <li class=\"divider-vertical\"></li>\n",
            "                  <li><a href=\"/en/users/sign_up\" style=\"color: #FFD700;\">Join NFLW</a></li>\n",
            "                </ul>\n",
            "              </div>\n",
            "            </div>\n",
            "\n",
            "        </div>\n",
            "      </div>\n",
            "\n",
            "      <div class=\"content-fluid\">\n",
            "        <div class=\"row-fluid\">\n",
            "          <div class=\"span10\">\n",
            "            <div class=\"row-fluid visible-phone\">\n",
            "              <div class=\"sec-links centered\">\n",
            "                  <a href=\"/en/week/2019/week-16\">English</a> |\n",
            "                  <a href=\"/es/week/2019/week-16\">Spanish</a>\n",
            "                <div id=\"logoutp\">Signed in as <b><span id=\"usernamep\"></span></b> |\n",
            "                  <a href=\"/en/users/sign_out\">Sign out</a> |\n",
            "                  <a href=\"/en/users/edit\">Update Profile</a> |\n",
            "                  <a href=\"/my_pickem\">My PickEm</a>\n",
            "                </div>\n",
            "                <div id=\"loginp\">\n",
            "          \t      <a href=\"/en/users/sign_in\">Sign In</a>&nbsp;&nbsp;&nbsp;|&nbsp;&nbsp;&nbsp;\n",
            "                  <a href=\"/en/users/sign_up\"><span class=\"translation_missing\" title=\"translation missing: en.create_acount\">Create Acount</span></a>\n",
            "                </div>\n",
            "              </div>\n",
            "              <br />\n",
            "            </div>\n",
            "              <div id=\"notice_div\" class=\"alert\"></div>\n",
            "              <script type=\"text/javascript\">\n",
            "                Flash.transferFromCookies();\n",
            "                Flash.writeDataTo('error', $('#notice_div'));\n",
            "                Flash.writeDataTo('notice', $('#notice_div'));\n",
            "              </script>\n",
            "              <div class=\"row-fluid hidden-phone\">\n",
            "    <div class=\"page-header\">\n",
            "      <h1>\n",
            "        NFLWeather<span style=\"font-size: 10px;vertical-align: text-top;line-height:20px;\"><sup>TM</sup></span> Forecast Week 16 &nbsp;&nbsp;\n",
            "        <small>Updated 12/23 @ 10:00 PM EST</small>\n",
            "      </h1>\n",
            "    </div>\n",
            "  </div>\n",
            "  <div class=\"row-fluid hidden-desktop centered\">\n",
            "    <div class=\"page-header\">\n",
            "      <h1>\n",
            "        Week 16 Forecast\n",
            "      </h1>\n",
            "    </div>\n",
            "  </div>\n",
            "  \n",
            "<div class=\"row-fluid hidden-phone\">\n",
            "  <div class=\"span2\">\n",
            "    <ul class=\"pager\">\n",
            "        <li class=\"previous\"><a href=\"/en/week/2019/week-15\" class=\"btn btn-primary\">&larr;</a></li>\n",
            "    </ul>\n",
            "  </div>\n",
            "  <div class=\"span8 text-center\">\n",
            "  \t<div id=\"week-jump\">\n",
            "      <p>\n",
            "        \n",
            "        \n",
            "            &nbsp;<a href=\"/en/week/2019/pre-season-week-1/\" class=\"btn btn-mini btn-primary\"><span class=\"translation_missing\" title=\"translation missing: en.p1\">P1</span></a>&nbsp;\n",
            "        \n",
            "        \n",
            "            &nbsp;<a href=\"/en/week/2019/pre-season-week-2/\" class=\"btn btn-mini btn-primary\"><span class=\"translation_missing\" title=\"translation missing: en.p2\">P2</span></a>&nbsp;\n",
            "        \n",
            "        \n",
            "            &nbsp;<a href=\"/en/week/2019/pre-season-week-3/\" class=\"btn btn-mini btn-primary\"><span class=\"translation_missing\" title=\"translation missing: en.p3\">P3</span></a>&nbsp;\n",
            "        \n",
            "        \n",
            "            &nbsp;<a href=\"/en/week/2019/pre-season-week-4/\" class=\"btn btn-mini btn-primary\"><span class=\"translation_missing\" title=\"translation missing: en.p4\">P4</span></a>&nbsp;\n",
            "        </p><p>\n",
            "        \n",
            "            &nbsp;<a href=\"/en/week/2019/week-1/\" class=\"btn btn-mini btn-primary\"><span class=\"translation_missing\" title=\"translation missing: en._1\"> 1</span></a>&nbsp;\n",
            "        \n",
            "        \n",
            "            &nbsp;<a href=\"/en/week/2019/week-2/\" class=\"btn btn-mini btn-primary\"><span class=\"translation_missing\" title=\"translation missing: en._2\"> 2</span></a>&nbsp;\n",
            "        \n",
            "        \n",
            "            &nbsp;<a href=\"/en/week/2019/week-3/\" class=\"btn btn-mini btn-primary\"><span class=\"translation_missing\" title=\"translation missing: en._3\"> 3</span></a>&nbsp;\n",
            "        \n",
            "        \n",
            "            &nbsp;<a href=\"/en/week/2019/week-4/\" class=\"btn btn-mini btn-primary\"><span class=\"translation_missing\" title=\"translation missing: en._4\"> 4</span></a>&nbsp;\n",
            "        \n",
            "        \n",
            "            &nbsp;<a href=\"/en/week/2019/week-5/\" class=\"btn btn-mini btn-primary\"><span class=\"translation_missing\" title=\"translation missing: en._5\"> 5</span></a>&nbsp;\n",
            "        \n",
            "        \n",
            "            &nbsp;<a href=\"/en/week/2019/week-6/\" class=\"btn btn-mini btn-primary\"><span class=\"translation_missing\" title=\"translation missing: en._6\"> 6</span></a>&nbsp;\n",
            "        \n",
            "        \n",
            "            &nbsp;<a href=\"/en/week/2019/week-7/\" class=\"btn btn-mini btn-primary\"><span class=\"translation_missing\" title=\"translation missing: en._7\"> 7</span></a>&nbsp;\n",
            "        \n",
            "        \n",
            "            &nbsp;<a href=\"/en/week/2019/week-8/\" class=\"btn btn-mini btn-primary\"><span class=\"translation_missing\" title=\"translation missing: en._8\"> 8</span></a>&nbsp;\n",
            "        \n",
            "        \n",
            "            &nbsp;<a href=\"/en/week/2019/week-9/\" class=\"btn btn-mini btn-primary\"><span class=\"translation_missing\" title=\"translation missing: en._9\"> 9</span></a>&nbsp;\n",
            "        \n",
            "        \n",
            "            &nbsp;<a href=\"/en/week/2019/week-10/\" class=\"btn btn-mini btn-primary\"><span class=\"translation_missing\" title=\"translation missing: en._10\"> 10</span></a>&nbsp;\n",
            "        \n",
            "        \n",
            "            &nbsp;<a href=\"/en/week/2019/week-11/\" class=\"btn btn-mini btn-primary\"><span class=\"translation_missing\" title=\"translation missing: en._11\"> 11</span></a>&nbsp;\n",
            "        \n",
            "        \n",
            "            &nbsp;<a href=\"/en/week/2019/week-12/\" class=\"btn btn-mini btn-primary\"><span class=\"translation_missing\" title=\"translation missing: en._12\"> 12</span></a>&nbsp;\n",
            "        \n",
            "        \n",
            "            &nbsp;<a href=\"/en/week/2019/week-13/\" class=\"btn btn-mini btn-primary\"><span class=\"translation_missing\" title=\"translation missing: en._13\"> 13</span></a>&nbsp;\n",
            "        \n",
            "        \n",
            "            &nbsp;<a href=\"/en/week/2019/week-14/\" class=\"btn btn-mini btn-primary\"><span class=\"translation_missing\" title=\"translation missing: en._14\"> 14</span></a>&nbsp;\n",
            "        \n",
            "        \n",
            "            &nbsp;<a href=\"/en/week/2019/week-15/\" class=\"btn btn-mini btn-primary\"><span class=\"translation_missing\" title=\"translation missing: en._15\"> 15</span></a>&nbsp;\n",
            "        \n",
            "        \n",
            "             &nbsp;<span class=\"btn btn-mini disabled btn-primary\"><span class=\"translation_missing\" title=\"translation missing: en._16\"> 16</span></span>&nbsp;\n",
            "        \n",
            "        \n",
            "            &nbsp;<a href=\"/en/week/2019/week-17/\" class=\"btn btn-mini btn-primary\"><span class=\"translation_missing\" title=\"translation missing: en._17\"> 17</span></a>&nbsp;\n",
            "        \n",
            "        </p><p>\n",
            "            &nbsp;<a href=\"/en/week/2019/wildcard-weekend/\" class=\"btn btn-mini btn-primary\">Wildcard</a>&nbsp;\n",
            "        \n",
            "        \n",
            "            &nbsp;<a href=\"/en/week/2019/divisional-playoffs/\" class=\"btn btn-mini btn-primary\">Div Playoffs</a>&nbsp;\n",
            "        \n",
            "        \n",
            "            &nbsp;<a href=\"/en/week/2019/ conf-championships/\" class=\"btn btn-mini btn-primary\">Conf Championships</a>&nbsp;\n",
            "        \n",
            "        \n",
            "            &nbsp;<a href=\"/en/week/2019/pro-bowl/\" class=\"btn btn-mini btn-primary\">Pro Bowl</a>&nbsp;\n",
            "        \n",
            "        \n",
            "            &nbsp;<a href=\"/en/week/2019/superbowl/\" class=\"btn btn-mini btn-primary\">Superbowl</a>&nbsp;\n",
            "    </p>\n",
            "    </div>\n",
            "  </div>\n",
            "  <div class=\"span2\">\n",
            "    <ul class=\"pager\">\n",
            "        <li class=\"next\" style=\"vertical-align: middle;\"><a href=\"/en/week/2019/week-17\" class=\"btn btn-primary\">&rarr;</a></li>\n",
            "    </ul>\n",
            "  </div>\n",
            "</div>\n",
            "\n",
            "<div class=\"row-fluid hidden-desktop hidden-tablet\">\n",
            "  <div class=\"span12\">\n",
            "    <ul class=\"pager\">\n",
            "        <li class=\"previous\"><a href=\"/en/week/2019/week-15\" class=\"btn\">&larr;</a></li>\n",
            "        <li class=\"next\" style=\"vertical-align: middle;\"><a href=\"/en/week/2019/week-17\" class=\"btn\">&rarr;</a></li>\n",
            "    </ul>\n",
            "  </div>\n",
            "</div>\n",
            "  <div class=\"row-fluid\" style=\"margin-top: 15px;\">\n",
            "  <div class=\"span12\">\n",
            "      <table class=\"footable table table-condensed toggle-arrow-alt table-hover\">\n",
            "        <thead>\n",
            "          <tr>\n",
            "            <th>&nbsp;</th>\n",
            "            <th data-hide=\"phone,tablet\" class=\"text-center\">Away</th>\n",
            "            <th colspan=\"3\" class=\"text-center\">Game</th>\n",
            "            <th data-hide=\"phone,tablet\" class=\"text-center\">Home</th>\n",
            "            <th data-hide=\"phone\" class=\"text-center\">Time (ET)</th>\n",
            "            <th data-hide=\"phone,tablet\" class=\"text-center\">TV</th>\n",
            "            <th >&nbsp;</th>\n",
            "            <th data-hide=\"phone\" class=\"text-center\">Forecast</th>\n",
            "            <th data-hide=\"all\">Extended Forecast</th>\n",
            "            <th data-hide=\"phone\" class=\"text-center\">Wind</th>\n",
            "            <th >&nbsp;</th>\n",
            "          </tr>\n",
            "        </thead>\n",
            "        <tbody>\n",
            "            <tr>\n",
            "              <td class=\"team-img\">&nbsp;</td>\n",
            "              <td class=\"team-name text-center\">\n",
            "                <a href=\"/en/team/Texans\">Texans</a>\n",
            "              </td>\n",
            "              <td class=\"team-img\"><a href=\"/en/team/Texans\" style=\"text-decoration: none; color: #454545;\"><img alt=\"Houston_6n_120\" src=\"/system/teams/logos/000/000/017/list/Houston_6N_120.png?1377268016\" /></a></td>\n",
            "              <td class=\"team-vs\">@</td>\n",
            "              <td class=\"team-img\"><a href=\"/en/team/Buccaneers\" style=\"text-decoration: none; color: #454545;\"><img alt=\"Tampa_bay_ntc120\" src=\"/system/teams/logos/000/000/009/list/Tampa_Bay_NTC120.png?1377268184\" /></a></td>\n",
            "              <td class=\"team-name  text-center\">\n",
            "                <a href=\"/en/team/Buccaneers\">Buccaneers</a>\n",
            "              </td>\n",
            "              <td class=\"text-center\">\n",
            "\t\t              <b>Final</b>: 23 - 20\n",
            "\t            </td>\n",
            "              <td class=\"text-center\"></td>\n",
            "              <td class=\"text-center\">\n",
            "                <img alt=\"Cloudy\" src=\"/assets/weather/small/cloudy.png\" />\n",
            "              </td>\n",
            "              <td class=\"text-center\">\n",
            "                  73f Overcast\n",
            "              </td>\n",
            "              <td>Overcast. Light rain in the evening and overnight.</td>\n",
            "              <td class=\"text-center\" >12m E</td>\n",
            "              <td class=\"details text-center\">\n",
            "                <a href=\"/en/game/2019/week-16/texans-at-buccaneers\" class=\"btn btn-success move-rigth\">Details</a>\n",
            "              </td>\n",
            "            </tr>\n",
            "            <tr>\n",
            "              <td class=\"team-img\">&nbsp;</td>\n",
            "              <td class=\"team-name text-center\">\n",
            "                <a href=\"/en/team/Bills\">Bills</a>\n",
            "              </td>\n",
            "              <td class=\"team-img\"><a href=\"/en/team/Bills\" style=\"text-decoration: none; color: #454545;\"><img alt=\"Buffalo_red_ntc120\" src=\"/system/teams/logos/000/000/003/list/Buffalo_red_NTC120.png?1377268334\" /></a></td>\n",
            "              <td class=\"team-vs\">@</td>\n",
            "              <td class=\"team-img\"><a href=\"/en/team/Patriots\" style=\"text-decoration: none; color: #454545;\"><img alt=\"New_england_6n_120\" src=\"/system/teams/logos/000/000/002/list/New_England_6N_120.png?1377268341\" /></a></td>\n",
            "              <td class=\"team-name  text-center\">\n",
            "                <a href=\"/en/team/Patriots\">Patriots</a>\n",
            "              </td>\n",
            "              <td class=\"text-center\">\n",
            "\t\t              <b>Final</b>: 17 - 24\n",
            "\t            </td>\n",
            "              <td class=\"text-center\"></td>\n",
            "              <td class=\"text-center\">\n",
            "                <img alt=\"Partly-cloudy-day\" src=\"/assets/weather/small/partly-cloudy-day.png\" />\n",
            "              </td>\n",
            "              <td class=\"text-center\">\n",
            "                  32f Mostly Cloudy\n",
            "              </td>\n",
            "              <td>Mostly Cloudy. Mostly cloudy throughout the day.</td>\n",
            "              <td class=\"text-center\" >3m S</td>\n",
            "              <td class=\"details text-center\">\n",
            "                <a href=\"/en/game/2019/week-16/bills-at-patriots\" class=\"btn btn-success move-rigth\">Details</a>\n",
            "              </td>\n",
            "            </tr>\n",
            "            <tr>\n",
            "              <td class=\"team-img\">&nbsp;</td>\n",
            "              <td class=\"team-name text-center\">\n",
            "                <a href=\"/en/team/Rams\">Rams</a>\n",
            "              </td>\n",
            "              <td class=\"team-img\"><a href=\"/en/team/Rams\" style=\"text-decoration: none; color: #454545;\"><img alt=\"Los_angeles_ntc120\" src=\"/system/teams/logos/000/000/006/list/Los_ANGELES_NTC120.png?1470846910\" /></a></td>\n",
            "              <td class=\"team-vs\">@</td>\n",
            "              <td class=\"team-img\"><a href=\"/en/team/49ers\" style=\"text-decoration: none; color: #454545;\"><img alt=\"San_francisco_6n_120\" src=\"/system/teams/logos/000/000/030/list/San_Francisco_6N_120.png?1377267775\" /></a></td>\n",
            "              <td class=\"team-name  text-center\">\n",
            "                <a href=\"/en/team/49ers\">49ers</a>\n",
            "              </td>\n",
            "              <td class=\"text-center\">\n",
            "\t\t              <b>Final</b>: 31 - 34\n",
            "\t            </td>\n",
            "              <td class=\"text-center\"></td>\n",
            "              <td class=\"text-center\">\n",
            "                <img alt=\"Ncloudy\" src=\"/assets/weather/small/ncloudy.png\" />\n",
            "              </td>\n",
            "              <td class=\"text-center\">\n",
            "                  58f Overcast\n",
            "              </td>\n",
            "              <td>Overcast. Possible light rain overnight.</td>\n",
            "              <td class=\"text-center\" >5m S</td>\n",
            "              <td class=\"details text-center\">\n",
            "                <a href=\"/en/game/2019/week-16/rams-at-49ers\" class=\"btn btn-success move-rigth\">Details</a>\n",
            "              </td>\n",
            "            </tr>\n",
            "            <tr>\n",
            "              <td class=\"team-img\">&nbsp;</td>\n",
            "              <td class=\"team-name text-center\">\n",
            "                <a href=\"/en/team/Giants\">Giants</a>\n",
            "              </td>\n",
            "              <td class=\"team-img\"><a href=\"/en/team/Giants\" style=\"text-decoration: none; color: #454545;\"><img alt=\"New_york_g_6n__120\" src=\"/system/teams/logos/000/000/021/list/New_York_G_6N__120.png?1377267939\" /></a></td>\n",
            "              <td class=\"team-vs\">@</td>\n",
            "              <td class=\"team-img\"><a href=\"/en/team/Washington\" style=\"text-decoration: none; color: #454545;\"><img alt=\"Redskins\" src=\"/system/teams/logos/000/000/007/list/redskins.png?1377268235\" /></a></td>\n",
            "              <td class=\"team-name  text-center\">\n",
            "                <a href=\"/en/team/Washington\">Washington</a>\n",
            "              </td>\n",
            "              <td class=\"text-center\">\n",
            "\t\t              <b>Final</b>: 41 - 35\n",
            "\t            </td>\n",
            "              <td class=\"text-center\">FOX</td>\n",
            "              <td class=\"text-center\">\n",
            "                <img alt=\"Partly-cloudy-day\" src=\"/assets/weather/small/partly-cloudy-day.png\" />\n",
            "              </td>\n",
            "              <td class=\"text-center\">\n",
            "                  41f Partly Cloudy\n",
            "              </td>\n",
            "              <td>Partly Cloudy. Partly cloudy throughout the day.</td>\n",
            "              <td class=\"text-center\" >3m SW</td>\n",
            "              <td class=\"details text-center\">\n",
            "                <a href=\"/en/game/2019/week-16/giants-at-redskins\" class=\"btn btn-success move-rigth\">Details</a>\n",
            "              </td>\n",
            "            </tr>\n",
            "            <tr>\n",
            "              <td class=\"team-img\">&nbsp;</td>\n",
            "              <td class=\"team-name text-center\">\n",
            "                <a href=\"/en/team/Saints\">Saints</a>\n",
            "              </td>\n",
            "              <td class=\"team-img\"><a href=\"/en/team/Saints\" style=\"text-decoration: none; color: #454545;\"><img alt=\"New_orleans_6n_120\" src=\"/system/teams/logos/000/000/029/list/New_Orleans_6N_120.png?1377267792\" /></a></td>\n",
            "              <td class=\"team-vs\">@</td>\n",
            "              <td class=\"team-img\"><a href=\"/en/team/Titans\" style=\"text-decoration: none; color: #454545;\"><img alt=\"Tennessee_ntc120\" src=\"/system/teams/logos/000/000/005/list/Tennessee_NTC120.png?1377268278\" /></a></td>\n",
            "              <td class=\"team-name  text-center\">\n",
            "                <a href=\"/en/team/Titans\">Titans</a>\n",
            "              </td>\n",
            "              <td class=\"text-center\">\n",
            "\t\t              <b>Final</b>: 38 - 28\n",
            "\t            </td>\n",
            "              <td class=\"text-center\">FOX</td>\n",
            "              <td class=\"text-center\">\n",
            "                <img alt=\"Rain\" src=\"/assets/weather/small/rain.png\" />\n",
            "              </td>\n",
            "              <td class=\"text-center\">\n",
            "                  49f Drizzle\n",
            "              </td>\n",
            "              <td>Drizzle. Drizzle throughout the day.</td>\n",
            "              <td class=\"text-center\" >2m NE</td>\n",
            "              <td class=\"details text-center\">\n",
            "                <a href=\"/en/game/2019/week-16/saints-at-titans\" class=\"btn btn-success move-rigth\">Details</a>\n",
            "              </td>\n",
            "            </tr>\n",
            "            <tr>\n",
            "              <td class=\"team-img\">&nbsp;</td>\n",
            "              <td class=\"team-name text-center\">\n",
            "                <a href=\"/en/team/Steelers\">Steelers</a>\n",
            "              </td>\n",
            "              <td class=\"team-img\"><a href=\"/en/team/Steelers\" style=\"text-decoration: none; color: #454545;\"><img alt=\"Pittsburg_ntc120\" src=\"/system/teams/logos/000/000/014/list/Pittsburg_NTC120.png?1377268073\" /></a></td>\n",
            "              <td class=\"team-vs\">@</td>\n",
            "              <td class=\"team-img\"><a href=\"/en/team/Jets\" style=\"text-decoration: none; color: #454545;\"><img alt=\"New_york_j_white_n120\" src=\"/system/teams/logos/000/000/004/list/New_York_J_white_N120.png?1377268303\" /></a></td>\n",
            "              <td class=\"team-name  text-center\">\n",
            "                <a href=\"/en/team/Jets\">Jets</a>\n",
            "              </td>\n",
            "              <td class=\"text-center\">\n",
            "\t\t              <b>Final</b>: 10 - 16\n",
            "\t            </td>\n",
            "              <td class=\"text-center\">CBS</td>\n",
            "              <td class=\"text-center\">\n",
            "                <img alt=\"Clear-day\" src=\"/assets/weather/small/clear-day.png\" />\n",
            "              </td>\n",
            "              <td class=\"text-center\">\n",
            "                  37f Clear\n",
            "              </td>\n",
            "              <td>Clear. Clear throughout the day.</td>\n",
            "              <td class=\"text-center\" >5m WSW</td>\n",
            "              <td class=\"details text-center\">\n",
            "                <a href=\"/en/game/2019/week-16/steelers-at-jets\" class=\"btn btn-success move-rigth\">Details</a>\n",
            "              </td>\n",
            "            </tr>\n",
            "            <tr>\n",
            "              <td class=\"team-img\">&nbsp;</td>\n",
            "              <td class=\"team-name text-center\">\n",
            "                <a href=\"/en/team/Jaguars\">Jaguars</a>\n",
            "              </td>\n",
            "              <td class=\"team-img\"><a href=\"/en/team/Jaguars\" style=\"text-decoration: none; color: #454545;\"><img alt=\"Jacksonville_6n_120\" src=\"/system/teams/logos/000/000/008/list/Jacksonville_6N_120.png?1377268214\" /></a></td>\n",
            "              <td class=\"team-vs\">@</td>\n",
            "              <td class=\"team-img\"><a href=\"/en/team/Falcons\" style=\"text-decoration: none; color: #454545;\"><img alt=\"Atlanta_ntc120a\" src=\"/system/teams/logos/000/000/028/list/Atlanta_NTC120A.png?1377267807\" /></a></td>\n",
            "              <td class=\"team-name  text-center\">\n",
            "                <a href=\"/en/team/Falcons\">Falcons</a>\n",
            "              </td>\n",
            "              <td class=\"text-center\">\n",
            "\t\t              <b>Final</b>: 12 - 24\n",
            "\t            </td>\n",
            "              <td class=\"text-center\">FOX</td>\n",
            "              <td class=\"text-center\">\n",
            "                <img alt=\"Dome\" src=\"/assets/weather/small/dome.png\" />\n",
            "              </td>\n",
            "              <td class=\"text-center\">\n",
            "                   DOME \n",
            "              </td>\n",
            "              <td>Light Rain. Rain throughout the day.</td>\n",
            "              <td class=\"text-center\" >6m NE</td>\n",
            "              <td class=\"details text-center\">\n",
            "                <a href=\"/en/game/2019/week-16/jaguars-at-falcons\" class=\"btn btn-success move-rigth\">Details</a>\n",
            "              </td>\n",
            "            </tr>\n",
            "            <tr>\n",
            "              <td class=\"team-img\">&nbsp;</td>\n",
            "              <td class=\"team-name text-center\">\n",
            "                <a href=\"/en/team/Ravens\">Ravens</a>\n",
            "              </td>\n",
            "              <td class=\"team-img\"><a href=\"/en/team/Ravens\" style=\"text-decoration: none; color: #454545;\"><img alt=\"Baltimore_ntc120\" src=\"/system/teams/logos/000/000/015/list/Baltimore_NTC120.png?1377268054\" /></a></td>\n",
            "              <td class=\"team-vs\">@</td>\n",
            "              <td class=\"team-img\"><a href=\"/en/team/Browns\" style=\"text-decoration: none; color: #454545;\"><img alt=\"Cleveland_6n_120\" src=\"/system/teams/logos/000/000/013/list/Cleveland_6N_120.png?1377268103\" /></a></td>\n",
            "              <td class=\"team-name  text-center\">\n",
            "                <a href=\"/en/team/Browns\">Browns</a>\n",
            "              </td>\n",
            "              <td class=\"text-center\">\n",
            "\t\t              <b>Final</b>: 31 - 15\n",
            "\t            </td>\n",
            "              <td class=\"text-center\">CBS</td>\n",
            "              <td class=\"text-center\">\n",
            "                <img alt=\"Clear-day\" src=\"/assets/weather/small/clear-day.png\" />\n",
            "              </td>\n",
            "              <td class=\"text-center\">\n",
            "                  44f Clear\n",
            "              </td>\n",
            "              <td>Clear. Clear throughout the day.</td>\n",
            "              <td class=\"text-center\" >7m SW</td>\n",
            "              <td class=\"details text-center\">\n",
            "                <a href=\"/en/game/2019/week-16/ravens-at-browns\" class=\"btn btn-success move-rigth\">Details</a>\n",
            "              </td>\n",
            "            </tr>\n",
            "            <tr>\n",
            "              <td class=\"team-img\">&nbsp;</td>\n",
            "              <td class=\"team-name text-center\">\n",
            "                <a href=\"/en/team/Panthers\">Panthers</a>\n",
            "              </td>\n",
            "              <td class=\"team-img\"><a href=\"/en/team/Panthers\" style=\"text-decoration: none; color: #454545;\"><img alt=\"Carolina_6n_120\" src=\"/system/teams/logos/000/000/027/list/Carolina_6N_120.png?1377267822\" /></a></td>\n",
            "              <td class=\"team-vs\">@</td>\n",
            "              <td class=\"team-img\"><a href=\"/en/team/Colts\" style=\"text-decoration: none; color: #454545;\"><img alt=\"Indianapolis_6n_120\" src=\"/system/teams/logos/000/000/016/list/Indianapolis_6N_120.png?1377268032\" /></a></td>\n",
            "              <td class=\"team-name  text-center\">\n",
            "                <a href=\"/en/team/Colts\">Colts</a>\n",
            "              </td>\n",
            "              <td class=\"text-center\">\n",
            "\t\t              <b>Final</b>: 6 - 38\n",
            "\t            </td>\n",
            "              <td class=\"text-center\">FOX</td>\n",
            "              <td class=\"text-center\">\n",
            "                <img alt=\"Dome\" src=\"/assets/weather/small/dome.png\" />\n",
            "              </td>\n",
            "              <td class=\"text-center\">\n",
            "                   DOME \n",
            "              </td>\n",
            "              <td>Clear. Clear throughout the day.</td>\n",
            "              <td class=\"text-center\" >4m S</td>\n",
            "              <td class=\"details text-center\">\n",
            "                <a href=\"/en/game/2019/week-16/panthers-at-colts\" class=\"btn btn-success move-rigth\">Details</a>\n",
            "              </td>\n",
            "            </tr>\n",
            "            <tr>\n",
            "              <td class=\"team-img\">&nbsp;</td>\n",
            "              <td class=\"team-name text-center\">\n",
            "                <a href=\"/en/team/Bengals\">Bengals</a>\n",
            "              </td>\n",
            "              <td class=\"team-img\"><a href=\"/en/team/Bengals\" style=\"text-decoration: none; color: #454545;\"><img alt=\"Cinncinnati_6n_120\" src=\"/system/teams/logos/000/000/012/list/Cinncinnati_6N_120.png?1377268125\" /></a></td>\n",
            "              <td class=\"team-vs\">@</td>\n",
            "              <td class=\"team-img\"><a href=\"/en/team/Dolphins\" style=\"text-decoration: none; color: #454545;\"><img alt=\"Miami_greenmask_ntc120\" src=\"/system/teams/logos/000/000/011/list/Miami_greenmask_NTC120.png?1377268146\" /></a></td>\n",
            "              <td class=\"team-name  text-center\">\n",
            "                <a href=\"/en/team/Dolphins\">Dolphins</a>\n",
            "              </td>\n",
            "              <td class=\"text-center\">\n",
            "\t\t              <b>Final</b>: 35 - 38\n",
            "\t            </td>\n",
            "              <td class=\"text-center\">CBS</td>\n",
            "              <td class=\"text-center\">\n",
            "                <img alt=\"Partly-cloudy-day\" src=\"/assets/weather/small/partly-cloudy-day.png\" />\n",
            "              </td>\n",
            "              <td class=\"text-center\">\n",
            "                  76f Mostly Cloudy\n",
            "              </td>\n",
            "              <td>Mostly Cloudy. Rain throughout the day.</td>\n",
            "              <td class=\"text-center\" >14m ESE</td>\n",
            "              <td class=\"details text-center\">\n",
            "                <a href=\"/en/game/2019/week-16/bengals-at-dolphins\" class=\"btn btn-success move-rigth\">Details</a>\n",
            "              </td>\n",
            "            </tr>\n",
            "            <tr>\n",
            "              <td class=\"team-img\">&nbsp;</td>\n",
            "              <td class=\"team-name text-center\">\n",
            "                <a href=\"/en/team/Lions\">Lions</a>\n",
            "              </td>\n",
            "              <td class=\"team-img\"><a href=\"/en/team/Lions\" style=\"text-decoration: none; color: #454545;\"><img alt=\"Detroit_6n_120\" src=\"/system/teams/logos/000/000/023/list/Detroit_6N_120.png?1377267905\" /></a></td>\n",
            "              <td class=\"team-vs\">@</td>\n",
            "              <td class=\"team-img\"><a href=\"/en/team/Broncos\" style=\"text-decoration: none; color: #454545;\"><img alt=\"Denver_6n_120\" src=\"/system/teams/logos/000/000/018/list/Denver_6N_120.png?1377267995\" /></a></td>\n",
            "              <td class=\"team-name  text-center\">\n",
            "                <a href=\"/en/team/Broncos\">Broncos</a>\n",
            "              </td>\n",
            "              <td class=\"text-center\">\n",
            "\t\t              <b>Final</b>: 17 - 27\n",
            "\t            </td>\n",
            "              <td class=\"text-center\"></td>\n",
            "              <td class=\"text-center\">\n",
            "                <img alt=\"Partly-cloudy-day\" src=\"/assets/weather/small/partly-cloudy-day.png\" />\n",
            "              </td>\n",
            "              <td class=\"text-center\">\n",
            "                  62f Mostly Cloudy\n",
            "              </td>\n",
            "              <td>Mostly Cloudy. Mostly cloudy throughout the day.</td>\n",
            "              <td class=\"text-center\" >3m SSE</td>\n",
            "              <td class=\"details text-center\">\n",
            "                <a href=\"/en/game/2019/week-16/lions-at-broncos\" class=\"btn btn-success move-rigth\">Details</a>\n",
            "              </td>\n",
            "            </tr>\n",
            "            <tr>\n",
            "              <td class=\"team-img\">&nbsp;</td>\n",
            "              <td class=\"team-name text-center\">\n",
            "                <a href=\"/en/team/Raiders\">Raiders</a>\n",
            "              </td>\n",
            "              <td class=\"team-img\"><a href=\"/en/team/Raiders\" style=\"text-decoration: none; color: #454545;\"><img alt=\"Lv_b_wstripe_n_120\" src=\"/system/teams/logos/000/000/019/list/LV_B_Wstripe_N_120.png?1599930229\" /></a></td>\n",
            "              <td class=\"team-vs\">@</td>\n",
            "              <td class=\"team-img\"><a href=\"/en/team/Chargers\" style=\"text-decoration: none; color: #454545;\"><img alt=\"Los_angeles_2_120\" src=\"/system/teams/logos/000/000/020/list/LOS_ANGELES_2_120.png?1511179555\" /></a></td>\n",
            "              <td class=\"team-name  text-center\">\n",
            "                <a href=\"/en/team/Chargers\">Chargers</a>\n",
            "              </td>\n",
            "              <td class=\"text-center\">\n",
            "\t\t              <b>Final</b>: 24 - 17\n",
            "\t            </td>\n",
            "              <td class=\"text-center\"></td>\n",
            "              <td class=\"text-center\">\n",
            "                <img alt=\"Partly-cloudy-day\" src=\"/assets/weather/small/partly-cloudy-day.png\" />\n",
            "              </td>\n",
            "              <td class=\"text-center\">\n",
            "                  65f Partly Cloudy\n",
            "              </td>\n",
            "              <td>Partly Cloudy. Rain in the evening and overnight.</td>\n",
            "              <td class=\"text-center\" >9m SE</td>\n",
            "              <td class=\"details text-center\">\n",
            "                <a href=\"/en/game/2019/week-16/raiders-at-chargers\" class=\"btn btn-success move-rigth\">Details</a>\n",
            "              </td>\n",
            "            </tr>\n",
            "            <tr>\n",
            "              <td class=\"team-img\">&nbsp;</td>\n",
            "              <td class=\"team-name text-center\">\n",
            "                <a href=\"/en/team/Cardinals\">Cardinals</a>\n",
            "              </td>\n",
            "              <td class=\"team-img\"><a href=\"/en/team/Cardinals\" style=\"text-decoration: none; color: #454545;\"><img alt=\"Arizona_whitetail_ntc120\" src=\"/system/teams/logos/000/000/032/list/Arizona_whitetail_NTC120.png?1377267740\" /></a></td>\n",
            "              <td class=\"team-vs\">@</td>\n",
            "              <td class=\"team-img\"><a href=\"/en/team/Seahawks\" style=\"text-decoration: none; color: #454545;\"><img alt=\"Seattle_6n_120a\" src=\"/system/teams/logos/000/000/031/list/Seattle_6N_120A.png?1377267758\" /></a></td>\n",
            "              <td class=\"team-name  text-center\">\n",
            "                <a href=\"/en/team/Seahawks\">Seahawks</a>\n",
            "              </td>\n",
            "              <td class=\"text-center\">\n",
            "\t\t              <b>Final</b>: 27 - 13\n",
            "\t            </td>\n",
            "              <td class=\"text-center\">FOX</td>\n",
            "              <td class=\"text-center\">\n",
            "                <img alt=\"Partly-cloudy-day\" src=\"/assets/weather/small/partly-cloudy-day.png\" />\n",
            "              </td>\n",
            "              <td class=\"text-center\">\n",
            "                  45f Mostly Cloudy\n",
            "              </td>\n",
            "              <td>Mostly Cloudy. Light rain in the evening and overnight.</td>\n",
            "              <td class=\"text-center\" >7m N</td>\n",
            "              <td class=\"details text-center\">\n",
            "                <a href=\"/en/game/2019/week-16/cardinals-at-seahawks\" class=\"btn btn-success move-rigth\">Details</a>\n",
            "              </td>\n",
            "            </tr>\n",
            "            <tr>\n",
            "              <td class=\"team-img\">&nbsp;</td>\n",
            "              <td class=\"team-name text-center\">\n",
            "                <a href=\"/en/team/Cowboys\">Cowboys</a>\n",
            "              </td>\n",
            "              <td class=\"team-img\"><a href=\"/en/team/Cowboys\" style=\"text-decoration: none; color: #454545;\"><img alt=\"Dallas_6n120\" src=\"/system/teams/logos/000/000/010/list/Dallas_6N120.png?1377268164\" /></a></td>\n",
            "              <td class=\"team-vs\">@</td>\n",
            "              <td class=\"team-img\"><a href=\"/en/team/Eagles\" style=\"text-decoration: none; color: #454545;\"><img alt=\"Philadelphia_6n_120\" src=\"/system/teams/logos/000/000/022/list/Philadelphia_6N_120.png?1377267922\" /></a></td>\n",
            "              <td class=\"team-name  text-center\">\n",
            "                <a href=\"/en/team/Eagles\">Eagles</a>\n",
            "              </td>\n",
            "              <td class=\"text-center\">\n",
            "\t\t              <b>Final</b>: 9 - 17\n",
            "\t            </td>\n",
            "              <td class=\"text-center\">FOX</td>\n",
            "              <td class=\"text-center\">\n",
            "                <img alt=\"Clear-day\" src=\"/assets/weather/small/clear-day.png\" />\n",
            "              </td>\n",
            "              <td class=\"text-center\">\n",
            "                  44f Clear\n",
            "              </td>\n",
            "              <td>Clear. Clear throughout the day.</td>\n",
            "              <td class=\"text-center\" >4m WSW</td>\n",
            "              <td class=\"details text-center\">\n",
            "                <a href=\"/en/game/2019/week-16/cowboys-at-eagles\" class=\"btn btn-success move-rigth\">Details</a>\n",
            "              </td>\n",
            "            </tr>\n",
            "            <tr>\n",
            "              <td class=\"team-img\">&nbsp;</td>\n",
            "              <td class=\"team-name text-center\">\n",
            "                <a href=\"/en/team/Chiefs\">Chiefs</a>\n",
            "              </td>\n",
            "              <td class=\"team-img\"><a href=\"/en/team/Chiefs\" style=\"text-decoration: none; color: #454545;\"><img alt=\"Kansas_city_ntc120\" src=\"/system/teams/logos/000/000/001/list/Kansas_City_NTC120.png?1377268351\" /></a></td>\n",
            "              <td class=\"team-vs\">@</td>\n",
            "              <td class=\"team-img\"><a href=\"/en/team/Bears\" style=\"text-decoration: none; color: #454545;\"><img alt=\"Chicago_ntc120\" src=\"/system/teams/logos/000/000/026/list/Chicago_NTC120.png?1377267838\" /></a></td>\n",
            "              <td class=\"team-name  text-center\">\n",
            "                <a href=\"/en/team/Bears\">Bears</a>\n",
            "              </td>\n",
            "              <td class=\"text-center\">\n",
            "\t\t              <b>Final</b>: 26 - 3\n",
            "\t            </td>\n",
            "              <td class=\"text-center\">NBC</td>\n",
            "              <td class=\"text-center\">\n",
            "                <img alt=\"Nclear-night\" src=\"/assets/weather/small/nclear-night.png\" />\n",
            "              </td>\n",
            "              <td class=\"text-center\">\n",
            "                  42f Clear\n",
            "              </td>\n",
            "              <td>Clear. Clear throughout the day.</td>\n",
            "              <td class=\"text-center\" >10m SSW</td>\n",
            "              <td class=\"details text-center\">\n",
            "                <a href=\"/en/game/2019/week-16/chiefs-at-bears\" class=\"btn btn-success move-rigth\">Details</a>\n",
            "              </td>\n",
            "            </tr>\n",
            "            <tr>\n",
            "              <td class=\"team-img\">&nbsp;</td>\n",
            "              <td class=\"team-name text-center\">\n",
            "                <a href=\"/en/team/Packers\">Packers</a>\n",
            "              </td>\n",
            "              <td class=\"team-img\"><a href=\"/en/team/Packers\" style=\"text-decoration: none; color: #454545;\"><img alt=\"Greenbay_6n_120\" src=\"/system/teams/logos/000/000/024/list/GreenBay_6N_120.png?1377267883\" /></a></td>\n",
            "              <td class=\"team-vs\">@</td>\n",
            "              <td class=\"team-img\"><a href=\"/en/team/Vikings\" style=\"text-decoration: none; color: #454545;\"><img alt=\"Minnesota_ntc120\" src=\"/system/teams/logos/000/000/025/list/Minnesota_NTC120.png?1377267853\" /></a></td>\n",
            "              <td class=\"team-name  text-center\">\n",
            "                <a href=\"/en/team/Vikings\">Vikings</a>\n",
            "              </td>\n",
            "              <td class=\"text-center\">\n",
            "\t\t              <b>Final</b>: 23 - 10\n",
            "\t            </td>\n",
            "              <td class=\"text-center\">ESPN</td>\n",
            "              <td class=\"text-center\">\n",
            "                <img alt=\"Dome\" src=\"/assets/weather/small/dome.png\" />\n",
            "              </td>\n",
            "              <td class=\"text-center\">\n",
            "                   DOME \n",
            "              </td>\n",
            "              <td>Overcast. Overcast throughout the day.</td>\n",
            "              <td class=\"text-center\" >5m E</td>\n",
            "              <td class=\"details text-center\">\n",
            "                <a href=\"/en/game/2019/week-16/packers-at-vikings\" class=\"btn btn-success move-rigth\">Details</a>\n",
            "              </td>\n",
            "            </tr>\n",
            "        </tbody>\n",
            "      </table>\n",
            "  </div>\n",
            "</div>\n",
            "\n",
            "<script type=\"text/javascript\">\n",
            "\t$(function () {\n",
            "\t\t$('.footable').footable();\n",
            "\t});\n",
            "</script>\n",
            "\n",
            "  \n",
            "<div class=\"row-fluid hidden-phone\">\n",
            "  <div class=\"span2\">\n",
            "    <ul class=\"pager\">\n",
            "        <li class=\"previous\"><a href=\"/en/week/2019/week-15\" class=\"btn btn-primary\">&larr;</a></li>\n",
            "    </ul>\n",
            "  </div>\n",
            "  <div class=\"span8 text-center\">\n",
            "  \t<div id=\"week-jump\">\n",
            "      <p>\n",
            "        \n",
            "        \n",
            "            &nbsp;<a href=\"/en/week/2019/pre-season-week-1/\" class=\"btn btn-mini btn-primary\"><span class=\"translation_missing\" title=\"translation missing: en.p1\">P1</span></a>&nbsp;\n",
            "        \n",
            "        \n",
            "            &nbsp;<a href=\"/en/week/2019/pre-season-week-2/\" class=\"btn btn-mini btn-primary\"><span class=\"translation_missing\" title=\"translation missing: en.p2\">P2</span></a>&nbsp;\n",
            "        \n",
            "        \n",
            "            &nbsp;<a href=\"/en/week/2019/pre-season-week-3/\" class=\"btn btn-mini btn-primary\"><span class=\"translation_missing\" title=\"translation missing: en.p3\">P3</span></a>&nbsp;\n",
            "        \n",
            "        \n",
            "            &nbsp;<a href=\"/en/week/2019/pre-season-week-4/\" class=\"btn btn-mini btn-primary\"><span class=\"translation_missing\" title=\"translation missing: en.p4\">P4</span></a>&nbsp;\n",
            "        </p><p>\n",
            "        \n",
            "            &nbsp;<a href=\"/en/week/2019/week-1/\" class=\"btn btn-mini btn-primary\"><span class=\"translation_missing\" title=\"translation missing: en._1\"> 1</span></a>&nbsp;\n",
            "        \n",
            "        \n",
            "            &nbsp;<a href=\"/en/week/2019/week-2/\" class=\"btn btn-mini btn-primary\"><span class=\"translation_missing\" title=\"translation missing: en._2\"> 2</span></a>&nbsp;\n",
            "        \n",
            "        \n",
            "            &nbsp;<a href=\"/en/week/2019/week-3/\" class=\"btn btn-mini btn-primary\"><span class=\"translation_missing\" title=\"translation missing: en._3\"> 3</span></a>&nbsp;\n",
            "        \n",
            "        \n",
            "            &nbsp;<a href=\"/en/week/2019/week-4/\" class=\"btn btn-mini btn-primary\"><span class=\"translation_missing\" title=\"translation missing: en._4\"> 4</span></a>&nbsp;\n",
            "        \n",
            "        \n",
            "            &nbsp;<a href=\"/en/week/2019/week-5/\" class=\"btn btn-mini btn-primary\"><span class=\"translation_missing\" title=\"translation missing: en._5\"> 5</span></a>&nbsp;\n",
            "        \n",
            "        \n",
            "            &nbsp;<a href=\"/en/week/2019/week-6/\" class=\"btn btn-mini btn-primary\"><span class=\"translation_missing\" title=\"translation missing: en._6\"> 6</span></a>&nbsp;\n",
            "        \n",
            "        \n",
            "            &nbsp;<a href=\"/en/week/2019/week-7/\" class=\"btn btn-mini btn-primary\"><span class=\"translation_missing\" title=\"translation missing: en._7\"> 7</span></a>&nbsp;\n",
            "        \n",
            "        \n",
            "            &nbsp;<a href=\"/en/week/2019/week-8/\" class=\"btn btn-mini btn-primary\"><span class=\"translation_missing\" title=\"translation missing: en._8\"> 8</span></a>&nbsp;\n",
            "        \n",
            "        \n",
            "            &nbsp;<a href=\"/en/week/2019/week-9/\" class=\"btn btn-mini btn-primary\"><span class=\"translation_missing\" title=\"translation missing: en._9\"> 9</span></a>&nbsp;\n",
            "        \n",
            "        \n",
            "            &nbsp;<a href=\"/en/week/2019/week-10/\" class=\"btn btn-mini btn-primary\"><span class=\"translation_missing\" title=\"translation missing: en._10\"> 10</span></a>&nbsp;\n",
            "        \n",
            "        \n",
            "            &nbsp;<a href=\"/en/week/2019/week-11/\" class=\"btn btn-mini btn-primary\"><span class=\"translation_missing\" title=\"translation missing: en._11\"> 11</span></a>&nbsp;\n",
            "        \n",
            "        \n",
            "            &nbsp;<a href=\"/en/week/2019/week-12/\" class=\"btn btn-mini btn-primary\"><span class=\"translation_missing\" title=\"translation missing: en._12\"> 12</span></a>&nbsp;\n",
            "        \n",
            "        \n",
            "            &nbsp;<a href=\"/en/week/2019/week-13/\" class=\"btn btn-mini btn-primary\"><span class=\"translation_missing\" title=\"translation missing: en._13\"> 13</span></a>&nbsp;\n",
            "        \n",
            "        \n",
            "            &nbsp;<a href=\"/en/week/2019/week-14/\" class=\"btn btn-mini btn-primary\"><span class=\"translation_missing\" title=\"translation missing: en._14\"> 14</span></a>&nbsp;\n",
            "        \n",
            "        \n",
            "            &nbsp;<a href=\"/en/week/2019/week-15/\" class=\"btn btn-mini btn-primary\"><span class=\"translation_missing\" title=\"translation missing: en._15\"> 15</span></a>&nbsp;\n",
            "        \n",
            "        \n",
            "             &nbsp;<span class=\"btn btn-mini disabled btn-primary\"><span class=\"translation_missing\" title=\"translation missing: en._16\"> 16</span></span>&nbsp;\n",
            "        \n",
            "        \n",
            "            &nbsp;<a href=\"/en/week/2019/week-17/\" class=\"btn btn-mini btn-primary\"><span class=\"translation_missing\" title=\"translation missing: en._17\"> 17</span></a>&nbsp;\n",
            "        \n",
            "        </p><p>\n",
            "            &nbsp;<a href=\"/en/week/2019/wildcard-weekend/\" class=\"btn btn-mini btn-primary\">Wildcard</a>&nbsp;\n",
            "        \n",
            "        \n",
            "            &nbsp;<a href=\"/en/week/2019/divisional-playoffs/\" class=\"btn btn-mini btn-primary\">Div Playoffs</a>&nbsp;\n",
            "        \n",
            "        \n",
            "            &nbsp;<a href=\"/en/week/2019/ conf-championships/\" class=\"btn btn-mini btn-primary\">Conf Championships</a>&nbsp;\n",
            "        \n",
            "        \n",
            "            &nbsp;<a href=\"/en/week/2019/pro-bowl/\" class=\"btn btn-mini btn-primary\">Pro Bowl</a>&nbsp;\n",
            "        \n",
            "        \n",
            "            &nbsp;<a href=\"/en/week/2019/superbowl/\" class=\"btn btn-mini btn-primary\">Superbowl</a>&nbsp;\n",
            "    </p>\n",
            "    </div>\n",
            "  </div>\n",
            "  <div class=\"span2\">\n",
            "    <ul class=\"pager\">\n",
            "        <li class=\"next\" style=\"vertical-align: middle;\"><a href=\"/en/week/2019/week-17\" class=\"btn btn-primary\">&rarr;</a></li>\n",
            "    </ul>\n",
            "  </div>\n",
            "</div>\n",
            "\n",
            "<div class=\"row-fluid hidden-desktop hidden-tablet\">\n",
            "  <div class=\"span12\">\n",
            "    <ul class=\"pager\">\n",
            "        <li class=\"previous\"><a href=\"/en/week/2019/week-15\" class=\"btn\">&larr;</a></li>\n",
            "        <li class=\"next\" style=\"vertical-align: middle;\"><a href=\"/en/week/2019/week-17\" class=\"btn\">&rarr;</a></li>\n",
            "    </ul>\n",
            "  </div>\n",
            "</div>\n",
            "\n",
            "            <div class=\"row-fluid spacer\">\n",
            "              &nbsp;\n",
            "            </div>\n",
            "            <div class=\"row-fluid visible-desktop\">\n",
            "              <iframe class=\"container span12\" style=\"height: 110px; border: 0px;\" id=\"banner12\"></iframe>\n",
            "            </div>\n",
            "          </div>\n",
            "\n",
            "          <div class=\"span2 visible-desktop\">\n",
            "            <div class=\"row-fluid spacer\">\n",
            "              &nbsp;\n",
            "            </div>\n",
            "            <div class=\"row-fluid\">\n",
            "          \t  <div class=\"likes\" style=\"margin-left: 25px;\">\n",
            "                <div id=\"fb-root\"></div><script src=\"http://connect.facebook.net/en_US/all.js#appId=118132684951406&amp;xfbml=1\"></script><fb:like href=\"http://www.facebook.com/pages/NFLWeathercom/108210065899429\" send=\"true\" layout=\"button_count\" width=\"170\" show_faces=\"false\" action=\"like\" font=\"tahoma\"></fb:like>\n",
            "              </div>\n",
            "            </div>\n",
            "            <div class=\"row-fluid spacer\">\n",
            "              &nbsp;\n",
            "            </div>\n",
            "      \t    <div class=\"row-fluid\">\n",
            "      \t      <div class=\"sec-links centered\">\n",
            "                <div id=\"logout\">Signed in as <b><span id=\"username\"></span></b><br />\n",
            "                  <a href=\"/en/users/sign_out\">Sign out</a><br />\n",
            "                  <a href=\"/en/users/edit\">Update Profile</a><br />\n",
            "                  <a href=\"/my_pickem\">My PickEm</a>\n",
            "                </div>\n",
            "                <div id=\"login\">\n",
            "          \t      <a href=\"/en/users/sign_in\">Sign In</a><br />\n",
            "                  <a href=\"/en/users/sign_up\">Create account</a><br />\n",
            "                </div>\n",
            "              </div>\n",
            "            </div>\n",
            "            <div class=\"row-fluid spacer\">\n",
            "              &nbsp;\n",
            "            </div>\n",
            "            <iframe class=\"span12\" id=\"banner0\" style=\"border: 0px; height: 80px; margin-left: 0px;\"></iframe>\n",
            "            <div class=\"row-fluid spacer\">\n",
            "              &nbsp;\n",
            "            </div>\n",
            "            <iframe class=\"span12\" id=\"banner1\" style=\"border: 0px; height: 630px; margin-left: 0px;\"></iframe>\n",
            "            <div class=\"row-fluid spacer\">\n",
            "              &nbsp;\n",
            "            </div>\n",
            "            <iframe class=\"span12\" id=\"banner2\" style=\"border: 0px; height: 180px; margin-left: 0px;\"></iframe>\n",
            "          </div>\n",
            "        </div>\n",
            "      </div>\n",
            "\n",
            "      <div class=\"row-fluid visible-desktop\">\n",
            "        <iframe class=\"container span4\" style=\"height: 130px; border: 0px;\" id=\"banner10\"></iframe>\n",
            "        <iframe class=\"container span8\" style=\"height: 130px; border: 0px;\" id=\"banner11\"></iframe>\n",
            "      </div>\n",
            "\n",
            "      <div class=\"row-fluid spacer\">\n",
            "      </div>\n",
            "\n",
            "      <div class=\"row-fluid bbkg\">\n",
            "        <div class=\"span12 centered\">\n",
            "          <ul class=\"nav nav-pills\">\n",
            "            <li><a href=\"/en/about\">About NFLW</a></li>\n",
            "            <li><a href=\"/en/contact_us\">Contact NFLW</a></li>\n",
            "            <li><a href=\"/en/link_to_nflw\">Link to NFLW</a></li>\n",
            "            <li><a href=\"/en/web_links\">Link Exchange</a></li>\n",
            "            <li><a href=\"/en/nflw_in_the_news/page/1\">Newsroom</a></li>\n",
            "            <li><a href=\"/en/partners\">Partners</a></li>\n",
            "            <li><a href=\"javascript:window.print()\">Print this Page</a></li>\n",
            "          </ul>\n",
            "          <p><small>&copy; 2012 <a href=\"http://www.nflweather.com\">NFLWeather.com<span style=\"font-size: 10px;vertical-align: text-top;line-height:20px;\"><sup>TM</sup></span></a>\n",
            "          : Part of the USA Today Sports Media Group. &nbsp;</small></p>\n",
            "          <p><small>NFLWeather.com is not affiliated with the National Football League</small></p>\n",
            "        </div>\n",
            "      </div>\n",
            "    </div>\n",
            "\n",
            "    <script type=\"text/javascript\" src=\"http://s7.addthis.com/js/250/addthis_widget.js#username=spadey\"></script>\n",
            "    <script type=\"text/javascript\" src=\"/assets/mediaCheck-min.js\"></script>\n",
            "\n",
            "    <script>\n",
            "    $(function() {\n",
            "      mediaCheck({\n",
            "        media: '(max-width: 480px)',\n",
            "        entry: function() {\n",
            "        }\n",
            "      });\n",
            "      mediaCheck({\n",
            "        media: '(min-width: 768px)',\n",
            "        entry: function() {\n",
            "          $(\"#banner0\").attr(\"src\", \"/banners/Week/0\");\n",
            "          $(\"#banner1\").attr(\"src\", \"/banners/Week/1\");\n",
            "          $(\"#banner2\").attr(\"src\", \"/banners/Week/2\");\n",
            "          $(\"#banner10\").attr(\"src\", \"/banners/Week/10\");\n",
            "          $(\"#banner11\").attr(\"src\", \"/banners/Week/11\");\n",
            "          $(\"#banner12\").attr(\"src\", \"/banners/Week/12\");\n",
            "        }\n",
            "      });\n",
            "    });\n",
            "    </script>\n",
            "\n",
            "    <script type=\"text/javascript\">\n",
            "      var gaJsHost = ((\"https:\" == document.location.protocol) ? \"https://ssl.\" : \"http://www.\");\n",
            "      document.write(unescape(\"%3Cscript src='\" + gaJsHost + \"google-analytics.com/ga.js' type='text/javascript'%3E%3C/script%3E\"));\n",
            "    </script>\n",
            "    <script type=\"text/javascript\">\n",
            "      try {\n",
            "        var pageTracker = _gat._getTracker(\"UA-10106584-1\");\n",
            "        pageTracker._trackPageview();\n",
            "      } catch(err) {}\n",
            "    </script>\n",
            "\n",
            "  </body>\n",
            "</html>\n",
            "\n"
          ],
          "name": "stdout"
        }
      ]
    },
    {
      "cell_type": "markdown",
      "metadata": {
        "id": "214jwazqhClf"
      },
      "source": [
        "#Attempt 9: Weather"
      ]
    },
    {
      "cell_type": "code",
      "metadata": {
        "id": "8BcBNsklZZ1O"
      },
      "source": [
        "# -- set the filename\n",
        "# Uncomment if running from Google Collaboratory\n",
        "fname = \"weather_20131231 (1).csv\"\n",
        "#fname = \"/content/drive/MyDrive/math637_MaryManz/weather_20131231.csv\"\n",
        "\n",
        "# -- read the csv into a DataFrame\n",
        "data = pd.read_csv(fname)"
      ],
      "execution_count": 100,
      "outputs": []
    },
    {
      "cell_type": "code",
      "metadata": {
        "id": "28cqcdOThhvU"
      },
      "source": [
        "data=data.replace('%','',regex=True)"
      ],
      "execution_count": 101,
      "outputs": []
    },
    {
      "cell_type": "code",
      "metadata": {
        "colab": {
          "base_uri": "https://localhost:8080/",
          "height": 157
        },
        "id": "ZlaMQYyxifYT",
        "outputId": "a10dbc14-91c5-40f5-8e24-0fc14a39604f"
      },
      "source": [
        "data.head(2)"
      ],
      "execution_count": 102,
      "outputs": [
        {
          "output_type": "execute_result",
          "data": {
            "text/html": [
              "<div>\n",
              "<style scoped>\n",
              "    .dataframe tbody tr th:only-of-type {\n",
              "        vertical-align: middle;\n",
              "    }\n",
              "\n",
              "    .dataframe tbody tr th {\n",
              "        vertical-align: top;\n",
              "    }\n",
              "\n",
              "    .dataframe thead th {\n",
              "        text-align: right;\n",
              "    }\n",
              "</style>\n",
              "<table border=\"1\" class=\"dataframe\">\n",
              "  <thead>\n",
              "    <tr style=\"text-align: right;\">\n",
              "      <th></th>\n",
              "      <th>id</th>\n",
              "      <th>home_team</th>\n",
              "      <th>home_score</th>\n",
              "      <th>away_team</th>\n",
              "      <th>away_score</th>\n",
              "      <th>temperature</th>\n",
              "      <th>wind_chill</th>\n",
              "      <th>humidity</th>\n",
              "      <th>wind_mph</th>\n",
              "      <th>weather</th>\n",
              "      <th>date</th>\n",
              "    </tr>\n",
              "  </thead>\n",
              "  <tbody>\n",
              "    <tr>\n",
              "      <th>0</th>\n",
              "      <td>196009230ram</td>\n",
              "      <td>Los Angeles Rams</td>\n",
              "      <td>21</td>\n",
              "      <td>St. Louis Cardinals</td>\n",
              "      <td>43</td>\n",
              "      <td>66</td>\n",
              "      <td>NaN</td>\n",
              "      <td>78</td>\n",
              "      <td>8.0</td>\n",
              "      <td>66 degrees- relative humidity 78- wind 8 mph</td>\n",
              "      <td>9/23/1960</td>\n",
              "    </tr>\n",
              "    <tr>\n",
              "      <th>1</th>\n",
              "      <td>196009240dal</td>\n",
              "      <td>Dallas Cowboys</td>\n",
              "      <td>28</td>\n",
              "      <td>Pittsburgh Steelers</td>\n",
              "      <td>35</td>\n",
              "      <td>72</td>\n",
              "      <td>NaN</td>\n",
              "      <td>80</td>\n",
              "      <td>16.0</td>\n",
              "      <td>72 degrees- relative humidity 80- wind 16 mph</td>\n",
              "      <td>9/24/1960</td>\n",
              "    </tr>\n",
              "  </tbody>\n",
              "</table>\n",
              "</div>"
            ],
            "text/plain": [
              "             id  ...       date\n",
              "0  196009230ram  ...  9/23/1960\n",
              "1  196009240dal  ...  9/24/1960\n",
              "\n",
              "[2 rows x 11 columns]"
            ]
          },
          "metadata": {
            "tags": []
          },
          "execution_count": 102
        }
      ]
    },
    {
      "cell_type": "code",
      "metadata": {
        "id": "AgK0yRvfh35L"
      },
      "source": [
        "data[\"humidity\"] = data[\"humidity\"].dropna()\n",
        "data[\"wind_mph\"] = data[\"wind_mph\"].dropna()\n",
        "data[\"temperature\"] = data[\"temperature\"].dropna()"
      ],
      "execution_count": 103,
      "outputs": []
    },
    {
      "cell_type": "code",
      "metadata": {
        "id": "hLJfQx7egVr1"
      },
      "source": [
        "feat = data[[\"temperature\", \"humidity\", \"wind_mph\"]]\n",
        "data['total_score'] = data[\"home_score\"] + data[\"away_score\"]\n",
        "targ = data['total_score']"
      ],
      "execution_count": 104,
      "outputs": []
    },
    {
      "cell_type": "code",
      "metadata": {
        "id": "JGIdFgmI192n"
      },
      "source": [
        "nona = data['humidity'].notna() & data['wind_mph'].notna()"
      ],
      "execution_count": 105,
      "outputs": []
    },
    {
      "cell_type": "code",
      "metadata": {
        "id": "rvxpdqqMyxVR"
      },
      "source": [
        "feat = feat[nona]\n",
        "targ = targ[nona]"
      ],
      "execution_count": 106,
      "outputs": []
    },
    {
      "cell_type": "code",
      "metadata": {
        "id": "0jo4gHjx3oiz"
      },
      "source": [
        "feat = feat.astype(int)"
      ],
      "execution_count": 107,
      "outputs": []
    },
    {
      "cell_type": "code",
      "metadata": {
        "colab": {
          "base_uri": "https://localhost:8080/"
        },
        "id": "zSirR-QAaX5u",
        "outputId": "af911336-ad24-4491-a70d-c8e71e492ac7"
      },
      "source": [
        "targ.median()"
      ],
      "execution_count": 108,
      "outputs": [
        {
          "output_type": "execute_result",
          "data": {
            "text/plain": [
              "40.0"
            ]
          },
          "metadata": {
            "tags": []
          },
          "execution_count": 108
        }
      ]
    },
    {
      "cell_type": "code",
      "metadata": {
        "id": "C1DKk5d4ag3q"
      },
      "source": [
        "data['high_scoring'] = data['total_score'].apply(lambda x: 1 if x > 40 else 0)"
      ],
      "execution_count": 109,
      "outputs": []
    },
    {
      "cell_type": "code",
      "metadata": {
        "colab": {
          "base_uri": "https://localhost:8080/",
          "height": 279
        },
        "id": "9vFC9miI4SBE",
        "outputId": "10a6e50f-1d79-425b-e086-25134aaeae40"
      },
      "source": [
        "plt.plot(feat[\"wind_mph\"], targ, 'o', color='black');\n",
        "plt.xlabel(\"wind [mph]\")\n",
        "plt.ylabel(\"total score\");"
      ],
      "execution_count": 110,
      "outputs": [
        {
          "output_type": "display_data",
          "data": {
            "image/png": "[encoded data removed]",
            "text/plain": [
              "<Figure size 432x288 with 1 Axes>"
            ]
          },
          "metadata": {
            "tags": [],
            "needs_background": "light"
          }
        }
      ]
    },
    {
      "cell_type": "code",
      "metadata": {
        "id": "9oVZ4bc8hF8I"
      },
      "source": [
        "feat_tr, feat_te, targ_tr, targ_te = train_test_split(feat, targ, test_size=0.2, random_state=302)"
      ],
      "execution_count": 111,
      "outputs": []
    },
    {
      "cell_type": "code",
      "metadata": {
        "colab": {
          "base_uri": "https://localhost:8080/"
        },
        "id": "jrFRsF-lhSKr",
        "outputId": "5895fb53-3f1f-4096-b569-6ee99118e489"
      },
      "source": [
        "clf = DecisionTreeClassifier(random_state=0)\n",
        "clf.fit(feat_tr, targ_tr)"
      ],
      "execution_count": 112,
      "outputs": [
        {
          "output_type": "execute_result",
          "data": {
            "text/plain": [
              "DecisionTreeClassifier(ccp_alpha=0.0, class_weight=None, criterion='gini',\n",
              "                       max_depth=None, max_features=None, max_leaf_nodes=None,\n",
              "                       min_impurity_decrease=0.0, min_impurity_split=None,\n",
              "                       min_samples_leaf=1, min_samples_split=2,\n",
              "                       min_weight_fraction_leaf=0.0, presort='deprecated',\n",
              "                       random_state=0, splitter='best')"
            ]
          },
          "metadata": {
            "tags": []
          },
          "execution_count": 112
        }
      ]
    },
    {
      "cell_type": "code",
      "metadata": {
        "colab": {
          "base_uri": "https://localhost:8080/"
        },
        "id": "hTdytX_DhGHi",
        "outputId": "b12e0066-a7d4-4e3d-8005-c1db46cac044"
      },
      "source": [
        "# -- assess the accuracy on the TRAINING data\n",
        "pred_tr = clf.predict(feat_tr)\n",
        "acc_tr = accuracy_score(targ_tr, pred_tr)\n",
        "print(\"training accuracy = {0:.3f}\".format(acc_tr))\n",
        "\n",
        "# -- assess the accuracy on the TESTING data\n",
        "pred_te = clf.predict(feat_te)\n",
        "acc_te = accuracy_score(targ_te, pred_te)\n",
        "print(\"testing accuracy = {0:.3f}\".format(acc_te))"
      ],
      "execution_count": 113,
      "outputs": [
        {
          "output_type": "stream",
          "text": [
            "training accuracy = 0.908\n",
            "testing accuracy = 0.028\n"
          ],
          "name": "stdout"
        }
      ]
    },
    {
      "cell_type": "code",
      "metadata": {
        "id": "Z4J7TZEwhGHo"
      },
      "source": [
        "# -- select the parameter(s) to tune and the values to try\n",
        "tuned_parameters = [{\"min_samples_leaf\" : [1, 2, 5, 10, 20, 50, 100, 200, 500]}]"
      ],
      "execution_count": 114,
      "outputs": []
    },
    {
      "cell_type": "code",
      "metadata": {
        "colab": {
          "base_uri": "https://localhost:8080/"
        },
        "id": "EEuA1ZclhGHr",
        "outputId": "dacf06d5-518f-45b8-bdfb-5f2bc2161f52"
      },
      "source": [
        "# -- perform Grid Search\n",
        "rtc_tune = RandomForestClassifier()\n",
        "cv_tune = GridSearchCV(rtc_tune, tuned_parameters)\n",
        "cv_tune.fit(feat_tr, targ_tr)"
      ],
      "execution_count": 115,
      "outputs": [
        {
          "output_type": "stream",
          "text": [
            "/usr/local/lib/python3.7/dist-packages/sklearn/model_selection/_split.py:667: UserWarning: The least populated class in y has only 1 members, which is less than n_splits=5.\n",
            "  % (min_groups, self.n_splits)), UserWarning)\n"
          ],
          "name": "stderr"
        },
        {
          "output_type": "execute_result",
          "data": {
            "text/plain": [
              "GridSearchCV(cv=None, error_score=nan,\n",
              "             estimator=RandomForestClassifier(bootstrap=True, ccp_alpha=0.0,\n",
              "                                              class_weight=None,\n",
              "                                              criterion='gini', max_depth=None,\n",
              "                                              max_features='auto',\n",
              "                                              max_leaf_nodes=None,\n",
              "                                              max_samples=None,\n",
              "                                              min_impurity_decrease=0.0,\n",
              "                                              min_impurity_split=None,\n",
              "                                              min_samples_leaf=1,\n",
              "                                              min_samples_split=2,\n",
              "                                              min_weight_fraction_leaf=0.0,\n",
              "                                              n_estimators=100, n_jobs=None,\n",
              "                                              oob_score=False,\n",
              "                                              random_state=None, verbose=0,\n",
              "                                              warm_start=False),\n",
              "             iid='deprecated', n_jobs=None,\n",
              "             param_grid=[{'min_samples_leaf': [1, 2, 5, 10, 20, 50, 100, 200,\n",
              "                                               500]}],\n",
              "             pre_dispatch='2*n_jobs', refit=True, return_train_score=False,\n",
              "             scoring=None, verbose=0)"
            ]
          },
          "metadata": {
            "tags": []
          },
          "execution_count": 115
        }
      ]
    },
    {
      "cell_type": "code",
      "metadata": {
        "colab": {
          "base_uri": "https://localhost:8080/"
        },
        "id": "IpubLEmAhGHt",
        "outputId": "722407a4-78ae-4533-8da3-9a207b04e5b5"
      },
      "source": [
        "# -- print out the params with the highest \"score\"\n",
        "score = cv_tune.best_params_.get(\"min_samples_leaf\")\n",
        "score"
      ],
      "execution_count": 116,
      "outputs": [
        {
          "output_type": "execute_result",
          "data": {
            "text/plain": [
              "500"
            ]
          },
          "metadata": {
            "tags": []
          },
          "execution_count": 116
        }
      ]
    },
    {
      "cell_type": "code",
      "metadata": {
        "colab": {
          "base_uri": "https://localhost:8080/"
        },
        "id": "wXTBelD-hGHv",
        "outputId": "e9ac37f0-62d9-4f2e-f4cd-e2584f4c39d9"
      },
      "source": [
        "# -- define classifier\n",
        "mod = RandomForestClassifier(min_samples_leaf=score)\n",
        "\n",
        "# -- fit a decision tree classifier on the TRAINING data\n",
        "mod.fit(feat_tr, targ_tr)\n",
        "\n",
        "# -- assess the accuracy on the TRAINING data\n",
        "pred_tr = mod.predict(feat_tr)\n",
        "acc_tr = accuracy_score(targ_tr, pred_tr)\n",
        "print(\"training accuracy = {0:.3f}\".format(acc_tr))\n",
        "\n",
        "# -- assess the accuracy on the TESTING data\n",
        "pred_te = mod.predict(feat_te)\n",
        "acc_te = accuracy_score(targ_te, pred_te)\n",
        "print(\"testing accuracy = {0:.3f}\".format(acc_te))"
      ],
      "execution_count": 117,
      "outputs": [
        {
          "output_type": "stream",
          "text": [
            "training accuracy = 0.048\n",
            "testing accuracy = 0.045\n"
          ],
          "name": "stdout"
        }
      ]
    },
    {
      "cell_type": "markdown",
      "metadata": {
        "id": "Qr6eCDbL8yBe"
      },
      "source": [
        "#Attempt 10: last season scores and QB PFF"
      ]
    },
    {
      "cell_type": "code",
      "metadata": {
        "id": "1Yan6MRw87Sy"
      },
      "source": [
        "# -- set the filename\n",
        "# Uncomment if running from Google Collaboratory\n",
        "fname = \"2020 scores.csv\"\n",
        "# fname = \"/content/drive/MyDrive/math637_MaryManz/2020 scores.csv\"\n",
        "\n",
        "# -- read the csv into a DataFrame\n",
        "data = pd.read_csv(fname)"
      ],
      "execution_count": 118,
      "outputs": []
    },
    {
      "cell_type": "code",
      "metadata": {
        "id": "g1k9RLskCPoS"
      },
      "source": [
        "data['high_scoring'] = data['Total Score'].apply(lambda x: 1 if x > 49 else 0)"
      ],
      "execution_count": 119,
      "outputs": []
    },
    {
      "cell_type": "code",
      "metadata": {
        "id": "I8JqEiFUJyH1"
      },
      "source": [
        "# -- clean data\n",
        "data=data.replace('\\*','',regex=True)\n",
        "data=data.replace('\\(','',regex=True)\n",
        "data=data.replace('\\)','',regex=True)"
      ],
      "execution_count": 120,
      "outputs": []
    },
    {
      "cell_type": "code",
      "metadata": {
        "id": "bT2MOkYzJ650"
      },
      "source": [
        "data.iloc[:, 12:] = data.iloc[:, 12:].astype(float).abs()"
      ],
      "execution_count": 121,
      "outputs": []
    },
    {
      "cell_type": "code",
      "metadata": {
        "id": "MF00EVSA87TP"
      },
      "source": [
        "# -- clean data\n",
        "data[\"Visitor QB 2019 PFF Score\"]=data[\"Visitor QB 2019 PFF Score\"].replace('\\*','',regex=True)\n",
        "data[\"Visitor QB 2019 PFF Score\"]=data[\"Visitor QB 2019 PFF Score\"].replace('\\(','',regex=True)\n",
        "data[\"Visitor QB 2019 PFF Score\"]=data[\"Visitor QB 2019 PFF Score\"].replace('\\)','',regex=True).astype(float).abs()\n",
        "\n",
        "data[\"Home QB 2019 PFF Score\"]=data[\"Home QB 2019 PFF Score\"].replace('\\*','',regex=True)\n",
        "data[\"Home QB 2019 PFF Score\"]=data[\"Home QB 2019 PFF Score\"].replace('\\(','',regex=True)\n",
        "data[\"Home QB 2019 PFF Score\"]=data[\"Home QB 2019 PFF Score\"].replace('\\)','',regex=True).astype(float).abs()"
      ],
      "execution_count": 122,
      "outputs": []
    },
    {
      "cell_type": "code",
      "metadata": {
        "id": "SB0x7TzqJowQ"
      },
      "source": [
        "# add columns\n",
        "data[\"off_1\"] = data.iloc[:, 12:24].sum(axis=1)\n",
        "data[\"def_1\"] = data.iloc[:, 24:36].sum(axis=1)\n",
        "data[\"off_2\"] = data.iloc[:, 36:48].sum(axis=1)\n",
        "data[\"def_2\"] = data.iloc[:, 48:60].sum(axis=1)\n",
        "\n",
        "data[\"vistotpff\"] = data.iloc[:, 12:36].sum(axis=1)\n",
        "data[\"homtotpff\"] = data.iloc[:, 36:60].sum(axis=1)\n",
        "data[\"vistotalpff_dif\"] = data[\"vistotpff\"] - data[\"homtotpff\"] \n",
        "\n",
        "data[\"visage_diff\"] = data[\"Vistor Avg Age\"] - data[\"Home Avg Age\"]\n",
        "\n",
        "data[\"visoff_diff\"] = data[\"off_1\"] - data[\"off_2\"]\n",
        "data[\"visdef_diff\"] = data[\"def_1\"] - data[\"def_2\"]\n",
        "\n",
        "data[\"QBPFF_VisLessHom\"] = data[\"Visitor QB 2019 PFF Score\"] - data[\"Home QB 2019 PFF Score\"]\n",
        "\n",
        "data[\"AvgScore_VisLessHom\"] = data[\"Visitor Avg 2019 score\"] - data[\"Home Avg 2019 score\"]\n",
        "\n",
        "data[\"QBVisAge_diff\"] = data[\"QB Age Visitor\"] - data[\"QB Age Home\"]"
      ],
      "execution_count": 123,
      "outputs": []
    },
    {
      "cell_type": "code",
      "metadata": {
        "colab": {
          "base_uri": "https://localhost:8080/",
          "height": 244
        },
        "id": "j8sAnlIW2niu",
        "outputId": "a7ea3668-6853-4f34-bc02-6720bf255974"
      },
      "source": [
        "data.head(2)"
      ],
      "execution_count": 124,
      "outputs": [
        {
          "output_type": "execute_result",
          "data": {
            "text/html": [
              "<div>\n",
              "<style scoped>\n",
              "    .dataframe tbody tr th:only-of-type {\n",
              "        vertical-align: middle;\n",
              "    }\n",
              "\n",
              "    .dataframe tbody tr th {\n",
              "        vertical-align: top;\n",
              "    }\n",
              "\n",
              "    .dataframe thead th {\n",
              "        text-align: right;\n",
              "    }\n",
              "</style>\n",
              "<table border=\"1\" class=\"dataframe\">\n",
              "  <thead>\n",
              "    <tr style=\"text-align: right;\">\n",
              "      <th></th>\n",
              "      <th>Date</th>\n",
              "      <th>Visitor</th>\n",
              "      <th>Visitor Score</th>\n",
              "      <th>Home</th>\n",
              "      <th>Home Score</th>\n",
              "      <th>OT</th>\n",
              "      <th>Total Score</th>\n",
              "      <th>Visitor Wins?</th>\n",
              "      <th>Visitor Avg 2019 score</th>\n",
              "      <th>Home Avg 2019 score</th>\n",
              "      <th>Visitor QB 2019 PFF Score</th>\n",
              "      <th>Home QB 2019 PFF Score</th>\n",
              "      <th>Vistor Avg Age</th>\n",
              "      <th>Home Avg Age</th>\n",
              "      <th>QB Age Visitor</th>\n",
              "      <th>QB Age Home</th>\n",
              "      <th>QB</th>\n",
              "      <th>RB1</th>\n",
              "      <th>RB2</th>\n",
              "      <th>TE</th>\n",
              "      <th>WR1</th>\n",
              "      <th>WR2</th>\n",
              "      <th>WR3</th>\n",
              "      <th>LT</th>\n",
              "      <th>LG</th>\n",
              "      <th>C</th>\n",
              "      <th>RG</th>\n",
              "      <th>RT</th>\n",
              "      <th>DT1</th>\n",
              "      <th>DT2</th>\n",
              "      <th>DT3</th>\n",
              "      <th>Edge1</th>\n",
              "      <th>Edge2</th>\n",
              "      <th>LB1</th>\n",
              "      <th>LB2</th>\n",
              "      <th>CB1</th>\n",
              "      <th>CB2</th>\n",
              "      <th>CB3</th>\n",
              "      <th>SS</th>\n",
              "      <th>FS</th>\n",
              "      <th>QB.1</th>\n",
              "      <th>RB1.1</th>\n",
              "      <th>RB2.1</th>\n",
              "      <th>TE.1</th>\n",
              "      <th>WR1.1</th>\n",
              "      <th>WR2.1</th>\n",
              "      <th>WR3.1</th>\n",
              "      <th>LT .1</th>\n",
              "      <th>LG.1</th>\n",
              "      <th>C.1</th>\n",
              "      <th>RG.1</th>\n",
              "      <th>RT.1</th>\n",
              "      <th>DT1.1</th>\n",
              "      <th>DT2.1</th>\n",
              "      <th>DT3.1</th>\n",
              "      <th>Edge1.1</th>\n",
              "      <th>Edge2.1</th>\n",
              "      <th>LB1.1</th>\n",
              "      <th>LB2.1</th>\n",
              "      <th>CB1.1</th>\n",
              "      <th>CB2.1</th>\n",
              "      <th>CB3.1</th>\n",
              "      <th>SS.1</th>\n",
              "      <th>FS.1</th>\n",
              "      <th>high_scoring</th>\n",
              "      <th>off_1</th>\n",
              "      <th>def_1</th>\n",
              "      <th>off_2</th>\n",
              "      <th>def_2</th>\n",
              "      <th>vistotpff</th>\n",
              "      <th>homtotpff</th>\n",
              "      <th>vistotalpff_dif</th>\n",
              "      <th>visage_diff</th>\n",
              "      <th>visoff_diff</th>\n",
              "      <th>visdef_diff</th>\n",
              "      <th>QBPFF_VisLessHom</th>\n",
              "      <th>AvgScore_VisLessHom</th>\n",
              "      <th>QBVisAge_diff</th>\n",
              "    </tr>\n",
              "  </thead>\n",
              "  <tbody>\n",
              "    <tr>\n",
              "      <th>0</th>\n",
              "      <td>9/10/2020</td>\n",
              "      <td>Houston Texans</td>\n",
              "      <td>20</td>\n",
              "      <td>Kansas City Chiefs</td>\n",
              "      <td>34</td>\n",
              "      <td>NaN</td>\n",
              "      <td>54</td>\n",
              "      <td>0</td>\n",
              "      <td>23.625</td>\n",
              "      <td>26.75</td>\n",
              "      <td>82.4</td>\n",
              "      <td>90.2</td>\n",
              "      <td>26.1</td>\n",
              "      <td>25.9</td>\n",
              "      <td>24.0</td>\n",
              "      <td>24.0</td>\n",
              "      <td>82.4</td>\n",
              "      <td>72.2</td>\n",
              "      <td>75.9</td>\n",
              "      <td>56.6</td>\n",
              "      <td>68.1</td>\n",
              "      <td>75.2</td>\n",
              "      <td>69.9</td>\n",
              "      <td>75.1</td>\n",
              "      <td>59.1</td>\n",
              "      <td>67.3</td>\n",
              "      <td>53.4</td>\n",
              "      <td>59.4</td>\n",
              "      <td>55.3</td>\n",
              "      <td>81.5</td>\n",
              "      <td>59.8</td>\n",
              "      <td>87.0</td>\n",
              "      <td>63.7</td>\n",
              "      <td>68.6</td>\n",
              "      <td>65.8</td>\n",
              "      <td>64.0</td>\n",
              "      <td>64.5</td>\n",
              "      <td>73.4</td>\n",
              "      <td>62.5</td>\n",
              "      <td>76.7</td>\n",
              "      <td>90.2</td>\n",
              "      <td>85.0</td>\n",
              "      <td>65.7</td>\n",
              "      <td>86.1</td>\n",
              "      <td>84.5</td>\n",
              "      <td>71.6</td>\n",
              "      <td>68.1</td>\n",
              "      <td>71.2</td>\n",
              "      <td>67.4</td>\n",
              "      <td>66.0</td>\n",
              "      <td>59.7</td>\n",
              "      <td>89.3</td>\n",
              "      <td>87.6</td>\n",
              "      <td>59.8</td>\n",
              "      <td>63.3</td>\n",
              "      <td>48.2</td>\n",
              "      <td>50.4</td>\n",
              "      <td>44.4</td>\n",
              "      <td>83.1</td>\n",
              "      <td>65.7</td>\n",
              "      <td>55.2</td>\n",
              "      <td>71.9</td>\n",
              "      <td>75.4</td>\n",
              "      <td>71.5</td>\n",
              "      <td>1.0</td>\n",
              "      <td>675.4</td>\n",
              "      <td>784.9</td>\n",
              "      <td>899.5</td>\n",
              "      <td>784.9</td>\n",
              "      <td>1460.3</td>\n",
              "      <td>1684.4</td>\n",
              "      <td>-224.1</td>\n",
              "      <td>0.2</td>\n",
              "      <td>-224.1</td>\n",
              "      <td>0.0</td>\n",
              "      <td>-7.8</td>\n",
              "      <td>-3.125</td>\n",
              "      <td>0.0</td>\n",
              "    </tr>\n",
              "    <tr>\n",
              "      <th>1</th>\n",
              "      <td>9/13/2020</td>\n",
              "      <td>Seattle Seahawks</td>\n",
              "      <td>38</td>\n",
              "      <td>Atlanta Falcons</td>\n",
              "      <td>25</td>\n",
              "      <td>NaN</td>\n",
              "      <td>63</td>\n",
              "      <td>1</td>\n",
              "      <td>25.000</td>\n",
              "      <td>21.00</td>\n",
              "      <td>92.0</td>\n",
              "      <td>75.8</td>\n",
              "      <td>26.2</td>\n",
              "      <td>26.9</td>\n",
              "      <td>31.0</td>\n",
              "      <td>34.0</td>\n",
              "      <td>92.0</td>\n",
              "      <td>77.9</td>\n",
              "      <td>79.6</td>\n",
              "      <td>66.9</td>\n",
              "      <td>81.9</td>\n",
              "      <td>73.4</td>\n",
              "      <td>65.6</td>\n",
              "      <td>74.1</td>\n",
              "      <td>60.3</td>\n",
              "      <td>56.9</td>\n",
              "      <td>79.3</td>\n",
              "      <td>63.6</td>\n",
              "      <td>68.4</td>\n",
              "      <td>61.8</td>\n",
              "      <td>56.3</td>\n",
              "      <td>62.9</td>\n",
              "      <td>76.4</td>\n",
              "      <td>59.9</td>\n",
              "      <td>90.5</td>\n",
              "      <td>78.0</td>\n",
              "      <td>87.6</td>\n",
              "      <td>72.4</td>\n",
              "      <td>62.8</td>\n",
              "      <td>73.4</td>\n",
              "      <td>75.8</td>\n",
              "      <td>67.0</td>\n",
              "      <td>58.9</td>\n",
              "      <td>73.1</td>\n",
              "      <td>90.6</td>\n",
              "      <td>74.9</td>\n",
              "      <td>66.3</td>\n",
              "      <td>79.7</td>\n",
              "      <td>87.7</td>\n",
              "      <td>72.1</td>\n",
              "      <td>66.6</td>\n",
              "      <td>53.0</td>\n",
              "      <td>90.1</td>\n",
              "      <td>67.5</td>\n",
              "      <td>81.0</td>\n",
              "      <td>72.0</td>\n",
              "      <td>67.0</td>\n",
              "      <td>76.6</td>\n",
              "      <td>62.6</td>\n",
              "      <td>76.6</td>\n",
              "      <td>56.8</td>\n",
              "      <td>47.5</td>\n",
              "      <td>72.0</td>\n",
              "      <td>58.7</td>\n",
              "      <td>1.0</td>\n",
              "      <td>729.5</td>\n",
              "      <td>814.3</td>\n",
              "      <td>882.5</td>\n",
              "      <td>872.8</td>\n",
              "      <td>1543.8</td>\n",
              "      <td>1755.3</td>\n",
              "      <td>-211.5</td>\n",
              "      <td>-0.7</td>\n",
              "      <td>-153.0</td>\n",
              "      <td>-58.5</td>\n",
              "      <td>16.2</td>\n",
              "      <td>4.000</td>\n",
              "      <td>-3.0</td>\n",
              "    </tr>\n",
              "  </tbody>\n",
              "</table>\n",
              "</div>"
            ],
            "text/plain": [
              "        Date           Visitor  ...  AvgScore_VisLessHom QBVisAge_diff\n",
              "0  9/10/2020    Houston Texans  ...               -3.125           0.0\n",
              "1  9/13/2020  Seattle Seahawks  ...                4.000          -3.0\n",
              "\n",
              "[2 rows x 78 columns]"
            ]
          },
          "metadata": {
            "tags": []
          },
          "execution_count": 124
        }
      ]
    },
    {
      "cell_type": "code",
      "metadata": {
        "id": "DHEMnESc-BjW"
      },
      "source": [
        "feat = data[[\"Visitor Avg 2019 score\", \"Home Avg 2019 score\", \"QBPFF_VisLessHom\", \"AvgScore_VisLessHom\", \"QB Age Visitor\"]]\n",
        "#feat = data[[\"Visitor Avg 2019 score\", \"Home Avg 2019 score\", \"QBPFF_VisLessHom\", \"AvgScore_VisLessHom\", \"visage_diff\"]] #better than using total team PFF difference\n",
        "#feat = data[[\"Visitor Avg 2019 score\", \"Home Avg 2019 score\", \"vistotalpff_dif\", \"AvgScore_VisLessHom\"]]\n",
        "#feat = data[[\"AvgScore_VisLessHom\", \"QBPFF_VisLessHom\"]]\n",
        "#feat = data[[\"Visitor Avg 2019 score\", \"Home Avg 2019 score\", \"vistotalpff_dif\", \"visoff_diff\", \"visdef_diff\"]]\n",
        "#feat = data[[\"Visitor Avg 2019 score\", \"Home Avg 2019 score\", \"vistotalpff_dif\"]]\n",
        "#feat = data[\"vistotalpff_dif\"]\n",
        "targ = data[\"Visitor Wins?\"]\n",
        "targ_b = data[\"high_scoring\"]"
      ],
      "execution_count": 125,
      "outputs": []
    },
    {
      "cell_type": "code",
      "metadata": {
        "id": "xDrnfk8nBdra"
      },
      "source": [
        "feat_tr, feat_te, targ_tr, targ_te = train_test_split(feat, targ, test_size=0.2, random_state=302)\n",
        "#feat_tr, feat_te, targ_tr, targ_te = train_test_split(feat, targ_b, test_size=0.2, random_state=302)"
      ],
      "execution_count": 126,
      "outputs": []
    },
    {
      "cell_type": "code",
      "metadata": {
        "colab": {
          "base_uri": "https://localhost:8080/"
        },
        "id": "McMCtRm3Bd3x",
        "outputId": "525ba69c-c893-462f-9cd1-84147fa5e08e"
      },
      "source": [
        "clf = DecisionTreeClassifier(random_state=0, min_samples_leaf=1)\n",
        "clf.fit(feat_tr, targ_tr)\n",
        "# -- assess the accuracy on the TRAINING data\n",
        "pred_tr = clf.predict(feat_tr)\n",
        "acc_tr = accuracy_score(targ_tr, pred_tr)\n",
        "print(\"training accuracy = {0:.3f}\".format(acc_tr))\n",
        "# -- assess the accuracy on the TESTING data\n",
        "pred_te = clf.predict(feat_te)\n",
        "acc_te = accuracy_score(targ_te, pred_te)\n",
        "print(\"testing accuracy = {0:.3f}\".format(acc_te))"
      ],
      "execution_count": 127,
      "outputs": [
        {
          "output_type": "stream",
          "text": [
            "training accuracy = 1.000\n",
            "testing accuracy = 0.673\n"
          ],
          "name": "stdout"
        }
      ]
    },
    {
      "cell_type": "code",
      "metadata": {
        "colab": {
          "base_uri": "https://localhost:8080/",
          "height": 1000
        },
        "id": "6gbvLBzdp88o",
        "outputId": "b4debb74-059b-47c8-a4ef-a67fae42d6a0"
      },
      "source": [
        "# -- visualize the tree\n",
        "dt_data = tree.export_graphviz(clf, out_file=None, filled=True, rounded=False,  \n",
        "                      special_characters=True, max_depth=10, feature_names=feat.columns, class_names=[\"Win\", \"Lose\"])  \n",
        "graph = graphviz.Source(dt_data)\n",
        "graph"
      ],
      "execution_count": 128,
      "outputs": [
        {
          "output_type": "execute_result",
          "data": {
            "text/plain": [
              "<graphviz.files.Source at 0x7faa3313c390>"
            ],
            "image/svg+xml": "<?xml version=\"1.0\" encoding=\"UTF-8\" standalone=\"no\"?>\n<!DOCTYPE svg PUBLIC \"-//W3C//DTD SVG 1.1//EN\"\n \"http://www.w3.org/Graphics/SVG/1.1/DTD/svg11.dtd\">\n<!-- Generated by graphviz version 2.40.1 (20161225.0304)\n -->\n<!-- Title: Tree Pages: 1 -->\n<svg width=\"2822pt\" height=\"1353pt\"\n viewBox=\"0.00 0.00 2822.00 1353.00\" xmlns=\"http://www.w3.org/2000/svg\" xmlns:xlink=\"http://www.w3.org/1999/xlink\">\n<g id=\"graph0\" class=\"graph\" transform=\"scale(1 1) rotate(0) translate(4 1349)\">\n<title>Tree</title>\n<polygon fill=\"#ffffff\" stroke=\"transparent\" points=\"-4,4 -4,-1349 2818,-1349 2818,4 -4,4\"/>\n<!-- 0 -->\n<g id=\"node1\" class=\"node\">\n<title>0</title>\n<polygon fill=\"#fbfdfe\" stroke=\"#000000\" points=\"1829,-1345 1626,-1345 1626,-1262 1829,-1262 1829,-1345\"/>\n<text text-anchor=\"start\" x=\"1634\" y=\"-1329.8\" font-family=\"Times,serif\" font-size=\"14.00\" fill=\"#000000\">Home Avg 2019 score ≤ 24.438</text>\n<text text-anchor=\"start\" x=\"1698.5\" y=\"-1314.8\" font-family=\"Times,serif\" font-size=\"14.00\" fill=\"#000000\">gini = 0.5</text>\n<text text-anchor=\"start\" x=\"1685.5\" y=\"-1299.8\" font-family=\"Times,serif\" font-size=\"14.00\" fill=\"#000000\">samples = 204</text>\n<text text-anchor=\"start\" x=\"1673\" y=\"-1284.8\" font-family=\"Times,serif\" font-size=\"14.00\" fill=\"#000000\">value = [101, 103]</text>\n<text text-anchor=\"start\" x=\"1692.5\" y=\"-1269.8\" font-family=\"Times,serif\" font-size=\"14.00\" fill=\"#000000\">class = Lose</text>\n</g>\n<!-- 1 -->\n<g id=\"node2\" class=\"node\">\n<title>1</title>\n<polygon fill=\"#c0e0f7\" stroke=\"#000000\" points=\"1531.5,-1226 1333.5,-1226 1333.5,-1143 1531.5,-1143 1531.5,-1226\"/>\n<text text-anchor=\"start\" x=\"1341.5\" y=\"-1210.8\" font-family=\"Times,serif\" font-size=\"14.00\" fill=\"#000000\">Visitor Avg 2019 score ≤ 17.25</text>\n<text text-anchor=\"start\" x=\"1396\" y=\"-1195.8\" font-family=\"Times,serif\" font-size=\"14.00\" fill=\"#000000\">gini = 0.482</text>\n<text text-anchor=\"start\" x=\"1390.5\" y=\"-1180.8\" font-family=\"Times,serif\" font-size=\"14.00\" fill=\"#000000\">samples = 133</text>\n<text text-anchor=\"start\" x=\"1385.5\" y=\"-1165.8\" font-family=\"Times,serif\" font-size=\"14.00\" fill=\"#000000\">value = [54, 79]</text>\n<text text-anchor=\"start\" x=\"1397.5\" y=\"-1150.8\" font-family=\"Times,serif\" font-size=\"14.00\" fill=\"#000000\">class = Lose</text>\n</g>\n<!-- 0&#45;&gt;1 -->\n<g id=\"edge1\" class=\"edge\">\n<title>0&#45;&gt;1</title>\n<path fill=\"none\" stroke=\"#000000\" d=\"M1625.9777,-1262.547C1598.5755,-1251.4932 1568.821,-1239.4905 1541.0505,-1228.2882\"/>\n<polygon fill=\"#000000\" stroke=\"#000000\" points=\"1542.2983,-1225.0175 1531.7151,-1224.5223 1539.6796,-1231.5093 1542.2983,-1225.0175\"/>\n<text text-anchor=\"middle\" x=\"1541.4959\" y=\"-1243.8296\" font-family=\"Times,serif\" font-size=\"14.00\" fill=\"#000000\">True</text>\n</g>\n<!-- 78 -->\n<g id=\"node73\" class=\"node\">\n<title>78</title>\n<polygon fill=\"#f2c19e\" stroke=\"#000000\" points=\"1956,-1226 1741,-1226 1741,-1143 1956,-1143 1956,-1226\"/>\n<text text-anchor=\"start\" x=\"1749\" y=\"-1210.8\" font-family=\"Times,serif\" font-size=\"14.00\" fill=\"#000000\">AvgScore_VisLessHom ≤ &#45;10.562</text>\n<text text-anchor=\"start\" x=\"1812\" y=\"-1195.8\" font-family=\"Times,serif\" font-size=\"14.00\" fill=\"#000000\">gini = 0.448</text>\n<text text-anchor=\"start\" x=\"1810.5\" y=\"-1180.8\" font-family=\"Times,serif\" font-size=\"14.00\" fill=\"#000000\">samples = 71</text>\n<text text-anchor=\"start\" x=\"1801.5\" y=\"-1165.8\" font-family=\"Times,serif\" font-size=\"14.00\" fill=\"#000000\">value = [47, 24]</text>\n<text text-anchor=\"start\" x=\"1815\" y=\"-1150.8\" font-family=\"Times,serif\" font-size=\"14.00\" fill=\"#000000\">class = Win</text>\n</g>\n<!-- 0&#45;&gt;78 -->\n<g id=\"edge72\" class=\"edge\">\n<title>0&#45;&gt;78</title>\n<path fill=\"none\" stroke=\"#000000\" d=\"M1769.8199,-1261.8796C1779.1608,-1252.6931 1789.139,-1242.8798 1798.744,-1233.4336\"/>\n<polygon fill=\"#000000\" stroke=\"#000000\" points=\"1801.3238,-1235.8054 1805.9994,-1226.2981 1796.4155,-1230.8146 1801.3238,-1235.8054\"/>\n<text text-anchor=\"middle\" x=\"1805.7911\" y=\"-1247.5972\" font-family=\"Times,serif\" font-size=\"14.00\" fill=\"#000000\">False</text>\n</g>\n<!-- 2 -->\n<g id=\"node3\" class=\"node\">\n<title>2</title>\n<polygon fill=\"#f0b78e\" stroke=\"#000000\" points=\"1298,-1107 1107,-1107 1107,-1024 1298,-1024 1298,-1107\"/>\n<text text-anchor=\"start\" x=\"1115\" y=\"-1091.8\" font-family=\"Times,serif\" font-size=\"14.00\" fill=\"#000000\">QBPFF_VisLessHom ≤ 13.35</text>\n<text text-anchor=\"start\" x=\"1170\" y=\"-1076.8\" font-family=\"Times,serif\" font-size=\"14.00\" fill=\"#000000\">gini = 0.42</text>\n<text text-anchor=\"start\" x=\"1164.5\" y=\"-1061.8\" font-family=\"Times,serif\" font-size=\"14.00\" fill=\"#000000\">samples = 20</text>\n<text text-anchor=\"start\" x=\"1159.5\" y=\"-1046.8\" font-family=\"Times,serif\" font-size=\"14.00\" fill=\"#000000\">value = [14, 6]</text>\n<text text-anchor=\"start\" x=\"1169\" y=\"-1031.8\" font-family=\"Times,serif\" font-size=\"14.00\" fill=\"#000000\">class = Win</text>\n</g>\n<!-- 1&#45;&gt;2 -->\n<g id=\"edge2\" class=\"edge\">\n<title>1&#45;&gt;2</title>\n<path fill=\"none\" stroke=\"#000000\" d=\"M1352.0572,-1142.8796C1332.6229,-1132.8244 1311.737,-1122.0183 1291.9189,-1111.7645\"/>\n<polygon fill=\"#000000\" stroke=\"#000000\" points=\"1293.3874,-1108.5837 1282.8974,-1107.0969 1290.1707,-1114.8008 1293.3874,-1108.5837\"/>\n</g>\n<!-- 17 -->\n<g id=\"node18\" class=\"node\">\n<title>17</title>\n<polygon fill=\"#a5d3f3\" stroke=\"#000000\" points=\"1506,-1107 1359,-1107 1359,-1024 1506,-1024 1506,-1107\"/>\n<text text-anchor=\"start\" x=\"1367\" y=\"-1091.8\" font-family=\"Times,serif\" font-size=\"14.00\" fill=\"#000000\">QB Age Visitor ≤ 20.5</text>\n<text text-anchor=\"start\" x=\"1396\" y=\"-1076.8\" font-family=\"Times,serif\" font-size=\"14.00\" fill=\"#000000\">gini = 0.457</text>\n<text text-anchor=\"start\" x=\"1391\" y=\"-1061.8\" font-family=\"Times,serif\" font-size=\"14.00\" fill=\"#000000\">samples = 113</text>\n<text text-anchor=\"start\" x=\"1385.5\" y=\"-1046.8\" font-family=\"Times,serif\" font-size=\"14.00\" fill=\"#000000\">value = [40, 73]</text>\n<text text-anchor=\"start\" x=\"1397.5\" y=\"-1031.8\" font-family=\"Times,serif\" font-size=\"14.00\" fill=\"#000000\">class = Lose</text>\n</g>\n<!-- 1&#45;&gt;17 -->\n<g id=\"edge17\" class=\"edge\">\n<title>1&#45;&gt;17</title>\n<path fill=\"none\" stroke=\"#000000\" d=\"M1432.5,-1142.8796C1432.5,-1134.6838 1432.5,-1125.9891 1432.5,-1117.5013\"/>\n<polygon fill=\"#000000\" stroke=\"#000000\" points=\"1436.0001,-1117.298 1432.5,-1107.2981 1429.0001,-1117.2981 1436.0001,-1117.298\"/>\n</g>\n<!-- 3 -->\n<g id=\"node4\" class=\"node\">\n<title>3</title>\n<polygon fill=\"#f8e0ce\" stroke=\"#000000\" points=\"898,-988 707,-988 707,-905 898,-905 898,-988\"/>\n<text text-anchor=\"start\" x=\"715\" y=\"-972.8\" font-family=\"Times,serif\" font-size=\"14.00\" fill=\"#000000\">QBPFF_VisLessHom ≤ 11.55</text>\n<text text-anchor=\"start\" x=\"770\" y=\"-957.8\" font-family=\"Times,serif\" font-size=\"14.00\" fill=\"#000000\">gini = 0.49</text>\n<text text-anchor=\"start\" x=\"764.5\" y=\"-942.8\" font-family=\"Times,serif\" font-size=\"14.00\" fill=\"#000000\">samples = 14</text>\n<text text-anchor=\"start\" x=\"763\" y=\"-927.8\" font-family=\"Times,serif\" font-size=\"14.00\" fill=\"#000000\">value = [8, 6]</text>\n<text text-anchor=\"start\" x=\"769\" y=\"-912.8\" font-family=\"Times,serif\" font-size=\"14.00\" fill=\"#000000\">class = Win</text>\n</g>\n<!-- 2&#45;&gt;3 -->\n<g id=\"edge3\" class=\"edge\">\n<title>2&#45;&gt;3</title>\n<path fill=\"none\" stroke=\"#000000\" d=\"M1106.9442,-1037.0722C1047.0572,-1019.2558 969.8033,-996.2727 908.1032,-977.9169\"/>\n<polygon fill=\"#000000\" stroke=\"#000000\" points=\"908.9222,-974.509 898.3393,-975.0122 906.9261,-981.2184 908.9222,-974.509\"/>\n</g>\n<!-- 16 -->\n<g id=\"node17\" class=\"node\">\n<title>16</title>\n<polygon fill=\"#e58139\" stroke=\"#000000\" points=\"1250,-980.5 1155,-980.5 1155,-912.5 1250,-912.5 1250,-980.5\"/>\n<text text-anchor=\"start\" x=\"1173.5\" y=\"-965.3\" font-family=\"Times,serif\" font-size=\"14.00\" fill=\"#000000\">gini = 0.0</text>\n<text text-anchor=\"start\" x=\"1168\" y=\"-950.3\" font-family=\"Times,serif\" font-size=\"14.00\" fill=\"#000000\">samples = 6</text>\n<text text-anchor=\"start\" x=\"1163\" y=\"-935.3\" font-family=\"Times,serif\" font-size=\"14.00\" fill=\"#000000\">value = [6, 0]</text>\n<text text-anchor=\"start\" x=\"1169\" y=\"-920.3\" font-family=\"Times,serif\" font-size=\"14.00\" fill=\"#000000\">class = Win</text>\n</g>\n<!-- 2&#45;&gt;16 -->\n<g id=\"edge16\" class=\"edge\">\n<title>2&#45;&gt;16</title>\n<path fill=\"none\" stroke=\"#000000\" d=\"M1202.5,-1023.8796C1202.5,-1013.2134 1202.5,-1001.7021 1202.5,-990.9015\"/>\n<polygon fill=\"#000000\" stroke=\"#000000\" points=\"1206.0001,-990.8149 1202.5,-980.8149 1199.0001,-990.815 1206.0001,-990.8149\"/>\n</g>\n<!-- 4 -->\n<g id=\"node5\" class=\"node\">\n<title>4</title>\n<polygon fill=\"#f2c09c\" stroke=\"#000000\" points=\"580.5,-869 372.5,-869 372.5,-786 580.5,-786 580.5,-869\"/>\n<text text-anchor=\"start\" x=\"380.5\" y=\"-853.8\" font-family=\"Times,serif\" font-size=\"14.00\" fill=\"#000000\">AvgScore_VisLessHom ≤ &#45;4.125</text>\n<text text-anchor=\"start\" x=\"440\" y=\"-838.8\" font-family=\"Times,serif\" font-size=\"14.00\" fill=\"#000000\">gini = 0.444</text>\n<text text-anchor=\"start\" x=\"438.5\" y=\"-823.8\" font-family=\"Times,serif\" font-size=\"14.00\" fill=\"#000000\">samples = 12</text>\n<text text-anchor=\"start\" x=\"437\" y=\"-808.8\" font-family=\"Times,serif\" font-size=\"14.00\" fill=\"#000000\">value = [8, 4]</text>\n<text text-anchor=\"start\" x=\"443\" y=\"-793.8\" font-family=\"Times,serif\" font-size=\"14.00\" fill=\"#000000\">class = Win</text>\n</g>\n<!-- 3&#45;&gt;4 -->\n<g id=\"edge4\" class=\"edge\">\n<title>3&#45;&gt;4</title>\n<path fill=\"none\" stroke=\"#000000\" d=\"M706.892,-911.6001C670.3469,-898.2601 628.3163,-882.9176 590.2429,-869.0197\"/>\n<polygon fill=\"#000000\" stroke=\"#000000\" points=\"591.2482,-865.6608 580.6543,-865.5195 588.8478,-872.2364 591.2482,-865.6608\"/>\n</g>\n<!-- 15 -->\n<g id=\"node16\" class=\"node\">\n<title>15</title>\n<polygon fill=\"#399de5\" stroke=\"#000000\" points=\"850,-861.5 755,-861.5 755,-793.5 850,-793.5 850,-861.5\"/>\n<text text-anchor=\"start\" x=\"773.5\" y=\"-846.3\" font-family=\"Times,serif\" font-size=\"14.00\" fill=\"#000000\">gini = 0.0</text>\n<text text-anchor=\"start\" x=\"768\" y=\"-831.3\" font-family=\"Times,serif\" font-size=\"14.00\" fill=\"#000000\">samples = 2</text>\n<text text-anchor=\"start\" x=\"763\" y=\"-816.3\" font-family=\"Times,serif\" font-size=\"14.00\" fill=\"#000000\">value = [0, 2]</text>\n<text text-anchor=\"start\" x=\"767.5\" y=\"-801.3\" font-family=\"Times,serif\" font-size=\"14.00\" fill=\"#000000\">class = Lose</text>\n</g>\n<!-- 3&#45;&gt;15 -->\n<g id=\"edge15\" class=\"edge\">\n<title>3&#45;&gt;15</title>\n<path fill=\"none\" stroke=\"#000000\" d=\"M802.5,-904.8796C802.5,-894.2134 802.5,-882.7021 802.5,-871.9015\"/>\n<polygon fill=\"#000000\" stroke=\"#000000\" points=\"806.0001,-871.8149 802.5,-861.8149 799.0001,-871.815 806.0001,-871.8149\"/>\n</g>\n<!-- 5 -->\n<g id=\"node6\" class=\"node\">\n<title>5</title>\n<polygon fill=\"#e9965a\" stroke=\"#000000\" points=\"301.5,-750 113.5,-750 113.5,-667 301.5,-667 301.5,-750\"/>\n<text text-anchor=\"start\" x=\"121.5\" y=\"-734.8\" font-family=\"Times,serif\" font-size=\"14.00\" fill=\"#000000\">QBPFF_VisLessHom ≤ &#45;12.8</text>\n<text text-anchor=\"start\" x=\"171\" y=\"-719.8\" font-family=\"Times,serif\" font-size=\"14.00\" fill=\"#000000\">gini = 0.245</text>\n<text text-anchor=\"start\" x=\"173\" y=\"-704.8\" font-family=\"Times,serif\" font-size=\"14.00\" fill=\"#000000\">samples = 7</text>\n<text text-anchor=\"start\" x=\"168\" y=\"-689.8\" font-family=\"Times,serif\" font-size=\"14.00\" fill=\"#000000\">value = [6, 1]</text>\n<text text-anchor=\"start\" x=\"174\" y=\"-674.8\" font-family=\"Times,serif\" font-size=\"14.00\" fill=\"#000000\">class = Win</text>\n</g>\n<!-- 4&#45;&gt;5 -->\n<g id=\"edge5\" class=\"edge\">\n<title>4&#45;&gt;5</title>\n<path fill=\"none\" stroke=\"#000000\" d=\"M382.4169,-785.8796C359.2776,-775.6433 334.379,-764.6286 310.8295,-754.2108\"/>\n<polygon fill=\"#000000\" stroke=\"#000000\" points=\"312.0911,-750.9418 301.53,-750.0969 309.2592,-757.3434 312.0911,-750.9418\"/>\n</g>\n<!-- 10 -->\n<g id=\"node11\" class=\"node\">\n<title>10</title>\n<polygon fill=\"#bddef6\" stroke=\"#000000\" points=\"578,-750 375,-750 375,-667 578,-667 578,-750\"/>\n<text text-anchor=\"start\" x=\"383\" y=\"-734.8\" font-family=\"Times,serif\" font-size=\"14.00\" fill=\"#000000\">Home Avg 2019 score ≤ 18.688</text>\n<text text-anchor=\"start\" x=\"444\" y=\"-719.8\" font-family=\"Times,serif\" font-size=\"14.00\" fill=\"#000000\">gini = 0.48</text>\n<text text-anchor=\"start\" x=\"442\" y=\"-704.8\" font-family=\"Times,serif\" font-size=\"14.00\" fill=\"#000000\">samples = 5</text>\n<text text-anchor=\"start\" x=\"437\" y=\"-689.8\" font-family=\"Times,serif\" font-size=\"14.00\" fill=\"#000000\">value = [2, 3]</text>\n<text text-anchor=\"start\" x=\"441.5\" y=\"-674.8\" font-family=\"Times,serif\" font-size=\"14.00\" fill=\"#000000\">class = Lose</text>\n</g>\n<!-- 4&#45;&gt;10 -->\n<g id=\"edge10\" class=\"edge\">\n<title>4&#45;&gt;10</title>\n<path fill=\"none\" stroke=\"#000000\" d=\"M476.5,-785.8796C476.5,-777.6838 476.5,-768.9891 476.5,-760.5013\"/>\n<polygon fill=\"#000000\" stroke=\"#000000\" points=\"480.0001,-760.298 476.5,-750.2981 473.0001,-760.2981 480.0001,-760.298\"/>\n</g>\n<!-- 6 -->\n<g id=\"node7\" class=\"node\">\n<title>6</title>\n<polygon fill=\"#e58139\" stroke=\"#000000\" points=\"95,-623.5 0,-623.5 0,-555.5 95,-555.5 95,-623.5\"/>\n<text text-anchor=\"start\" x=\"18.5\" y=\"-608.3\" font-family=\"Times,serif\" font-size=\"14.00\" fill=\"#000000\">gini = 0.0</text>\n<text text-anchor=\"start\" x=\"13\" y=\"-593.3\" font-family=\"Times,serif\" font-size=\"14.00\" fill=\"#000000\">samples = 4</text>\n<text text-anchor=\"start\" x=\"8\" y=\"-578.3\" font-family=\"Times,serif\" font-size=\"14.00\" fill=\"#000000\">value = [4, 0]</text>\n<text text-anchor=\"start\" x=\"14\" y=\"-563.3\" font-family=\"Times,serif\" font-size=\"14.00\" fill=\"#000000\">class = Win</text>\n</g>\n<!-- 5&#45;&gt;6 -->\n<g id=\"edge6\" class=\"edge\">\n<title>5&#45;&gt;6</title>\n<path fill=\"none\" stroke=\"#000000\" d=\"M151.5398,-666.8796C135.3478,-654.8368 117.7073,-641.7167 101.6292,-629.7586\"/>\n<polygon fill=\"#000000\" stroke=\"#000000\" points=\"103.4925,-626.7825 93.3797,-623.623 99.315,-632.3993 103.4925,-626.7825\"/>\n</g>\n<!-- 7 -->\n<g id=\"node8\" class=\"node\">\n<title>7</title>\n<polygon fill=\"#f2c09c\" stroke=\"#000000\" points=\"301.5,-631 113.5,-631 113.5,-548 301.5,-548 301.5,-631\"/>\n<text text-anchor=\"start\" x=\"121.5\" y=\"-615.8\" font-family=\"Times,serif\" font-size=\"14.00\" fill=\"#000000\">QBPFF_VisLessHom ≤ &#45;8.25</text>\n<text text-anchor=\"start\" x=\"171\" y=\"-600.8\" font-family=\"Times,serif\" font-size=\"14.00\" fill=\"#000000\">gini = 0.444</text>\n<text text-anchor=\"start\" x=\"173\" y=\"-585.8\" font-family=\"Times,serif\" font-size=\"14.00\" fill=\"#000000\">samples = 3</text>\n<text text-anchor=\"start\" x=\"168\" y=\"-570.8\" font-family=\"Times,serif\" font-size=\"14.00\" fill=\"#000000\">value = [2, 1]</text>\n<text text-anchor=\"start\" x=\"174\" y=\"-555.8\" font-family=\"Times,serif\" font-size=\"14.00\" fill=\"#000000\">class = Win</text>\n</g>\n<!-- 5&#45;&gt;7 -->\n<g id=\"edge7\" class=\"edge\">\n<title>5&#45;&gt;7</title>\n<path fill=\"none\" stroke=\"#000000\" d=\"M207.5,-666.8796C207.5,-658.6838 207.5,-649.9891 207.5,-641.5013\"/>\n<polygon fill=\"#000000\" stroke=\"#000000\" points=\"211.0001,-641.298 207.5,-631.2981 204.0001,-641.2981 211.0001,-641.298\"/>\n</g>\n<!-- 8 -->\n<g id=\"node9\" class=\"node\">\n<title>8</title>\n<polygon fill=\"#399de5\" stroke=\"#000000\" points=\"191,-504.5 96,-504.5 96,-436.5 191,-436.5 191,-504.5\"/>\n<text text-anchor=\"start\" x=\"114.5\" y=\"-489.3\" font-family=\"Times,serif\" font-size=\"14.00\" fill=\"#000000\">gini = 0.0</text>\n<text text-anchor=\"start\" x=\"109\" y=\"-474.3\" font-family=\"Times,serif\" font-size=\"14.00\" fill=\"#000000\">samples = 1</text>\n<text text-anchor=\"start\" x=\"104\" y=\"-459.3\" font-family=\"Times,serif\" font-size=\"14.00\" fill=\"#000000\">value = [0, 1]</text>\n<text text-anchor=\"start\" x=\"108.5\" y=\"-444.3\" font-family=\"Times,serif\" font-size=\"14.00\" fill=\"#000000\">class = Lose</text>\n</g>\n<!-- 7&#45;&gt;8 -->\n<g id=\"edge8\" class=\"edge\">\n<title>7&#45;&gt;8</title>\n<path fill=\"none\" stroke=\"#000000\" d=\"M185.1159,-547.8796C179.202,-536.8835 172.8051,-524.9893 166.842,-513.9015\"/>\n<polygon fill=\"#000000\" stroke=\"#000000\" points=\"169.7742,-511.9642 161.9551,-504.8149 163.6092,-515.2799 169.7742,-511.9642\"/>\n</g>\n<!-- 9 -->\n<g id=\"node10\" class=\"node\">\n<title>9</title>\n<polygon fill=\"#e58139\" stroke=\"#000000\" points=\"304,-504.5 209,-504.5 209,-436.5 304,-436.5 304,-504.5\"/>\n<text text-anchor=\"start\" x=\"227.5\" y=\"-489.3\" font-family=\"Times,serif\" font-size=\"14.00\" fill=\"#000000\">gini = 0.0</text>\n<text text-anchor=\"start\" x=\"222\" y=\"-474.3\" font-family=\"Times,serif\" font-size=\"14.00\" fill=\"#000000\">samples = 2</text>\n<text text-anchor=\"start\" x=\"217\" y=\"-459.3\" font-family=\"Times,serif\" font-size=\"14.00\" fill=\"#000000\">value = [2, 0]</text>\n<text text-anchor=\"start\" x=\"223\" y=\"-444.3\" font-family=\"Times,serif\" font-size=\"14.00\" fill=\"#000000\">class = Win</text>\n</g>\n<!-- 7&#45;&gt;9 -->\n<g id=\"edge9\" class=\"edge\">\n<title>7&#45;&gt;9</title>\n<path fill=\"none\" stroke=\"#000000\" d=\"M224.6378,-547.8796C229.1203,-536.9935 233.9653,-525.227 238.4917,-514.2344\"/>\n<polygon fill=\"#000000\" stroke=\"#000000\" points=\"241.7991,-515.3944 242.3703,-504.8149 235.3264,-512.7291 241.7991,-515.3944\"/>\n</g>\n<!-- 11 -->\n<g id=\"node12\" class=\"node\">\n<title>11</title>\n<polygon fill=\"#399de5\" stroke=\"#000000\" points=\"415,-623.5 320,-623.5 320,-555.5 415,-555.5 415,-623.5\"/>\n<text text-anchor=\"start\" x=\"338.5\" y=\"-608.3\" font-family=\"Times,serif\" font-size=\"14.00\" fill=\"#000000\">gini = 0.0</text>\n<text text-anchor=\"start\" x=\"333\" y=\"-593.3\" font-family=\"Times,serif\" font-size=\"14.00\" fill=\"#000000\">samples = 2</text>\n<text text-anchor=\"start\" x=\"328\" y=\"-578.3\" font-family=\"Times,serif\" font-size=\"14.00\" fill=\"#000000\">value = [0, 2]</text>\n<text text-anchor=\"start\" x=\"332.5\" y=\"-563.3\" font-family=\"Times,serif\" font-size=\"14.00\" fill=\"#000000\">class = Lose</text>\n</g>\n<!-- 10&#45;&gt;11 -->\n<g id=\"edge11\" class=\"edge\">\n<title>10&#45;&gt;11</title>\n<path fill=\"none\" stroke=\"#000000\" d=\"M438.3771,-666.8796C427.8014,-655.3337 416.3188,-642.7976 405.7367,-631.2446\"/>\n<polygon fill=\"#000000\" stroke=\"#000000\" points=\"408.2667,-628.825 398.9313,-623.8149 403.1049,-633.5531 408.2667,-628.825\"/>\n</g>\n<!-- 12 -->\n<g id=\"node13\" class=\"node\">\n<title>12</title>\n<polygon fill=\"#f2c09c\" stroke=\"#000000\" points=\"629.5,-631 433.5,-631 433.5,-548 629.5,-548 629.5,-631\"/>\n<text text-anchor=\"start\" x=\"441.5\" y=\"-615.8\" font-family=\"Times,serif\" font-size=\"14.00\" fill=\"#000000\">QBPFF_VisLessHom ≤ &#45;14.35</text>\n<text text-anchor=\"start\" x=\"495\" y=\"-600.8\" font-family=\"Times,serif\" font-size=\"14.00\" fill=\"#000000\">gini = 0.444</text>\n<text text-anchor=\"start\" x=\"497\" y=\"-585.8\" font-family=\"Times,serif\" font-size=\"14.00\" fill=\"#000000\">samples = 3</text>\n<text text-anchor=\"start\" x=\"492\" y=\"-570.8\" font-family=\"Times,serif\" font-size=\"14.00\" fill=\"#000000\">value = [2, 1]</text>\n<text text-anchor=\"start\" x=\"498\" y=\"-555.8\" font-family=\"Times,serif\" font-size=\"14.00\" fill=\"#000000\">class = Win</text>\n</g>\n<!-- 10&#45;&gt;12 -->\n<g id=\"edge12\" class=\"edge\">\n<title>10&#45;&gt;12</title>\n<path fill=\"none\" stroke=\"#000000\" d=\"M495.7363,-666.8796C499.6908,-658.3236 503.8966,-649.2238 507.9825,-640.3833\"/>\n<polygon fill=\"#000000\" stroke=\"#000000\" points=\"511.1632,-641.8439 512.1816,-631.2981 504.809,-638.907 511.1632,-641.8439\"/>\n</g>\n<!-- 13 -->\n<g id=\"node14\" class=\"node\">\n<title>13</title>\n<polygon fill=\"#399de5\" stroke=\"#000000\" points=\"466,-504.5 371,-504.5 371,-436.5 466,-436.5 466,-504.5\"/>\n<text text-anchor=\"start\" x=\"389.5\" y=\"-489.3\" font-family=\"Times,serif\" font-size=\"14.00\" fill=\"#000000\">gini = 0.0</text>\n<text text-anchor=\"start\" x=\"384\" y=\"-474.3\" font-family=\"Times,serif\" font-size=\"14.00\" fill=\"#000000\">samples = 1</text>\n<text text-anchor=\"start\" x=\"379\" y=\"-459.3\" font-family=\"Times,serif\" font-size=\"14.00\" fill=\"#000000\">value = [0, 1]</text>\n<text text-anchor=\"start\" x=\"383.5\" y=\"-444.3\" font-family=\"Times,serif\" font-size=\"14.00\" fill=\"#000000\">class = Lose</text>\n</g>\n<!-- 12&#45;&gt;13 -->\n<g id=\"edge13\" class=\"edge\">\n<title>12&#45;&gt;13</title>\n<path fill=\"none\" stroke=\"#000000\" d=\"M491.9781,-547.8796C481.0143,-536.3337 469.1103,-523.7976 458.1399,-512.2446\"/>\n<polygon fill=\"#000000\" stroke=\"#000000\" points=\"460.5087,-509.6564 451.0848,-504.8149 455.4327,-514.4766 460.5087,-509.6564\"/>\n</g>\n<!-- 14 -->\n<g id=\"node15\" class=\"node\">\n<title>14</title>\n<polygon fill=\"#e58139\" stroke=\"#000000\" points=\"579,-504.5 484,-504.5 484,-436.5 579,-436.5 579,-504.5\"/>\n<text text-anchor=\"start\" x=\"502.5\" y=\"-489.3\" font-family=\"Times,serif\" font-size=\"14.00\" fill=\"#000000\">gini = 0.0</text>\n<text text-anchor=\"start\" x=\"497\" y=\"-474.3\" font-family=\"Times,serif\" font-size=\"14.00\" fill=\"#000000\">samples = 2</text>\n<text text-anchor=\"start\" x=\"492\" y=\"-459.3\" font-family=\"Times,serif\" font-size=\"14.00\" fill=\"#000000\">value = [2, 0]</text>\n<text text-anchor=\"start\" x=\"498\" y=\"-444.3\" font-family=\"Times,serif\" font-size=\"14.00\" fill=\"#000000\">class = Win</text>\n</g>\n<!-- 12&#45;&gt;14 -->\n<g id=\"edge14\" class=\"edge\">\n<title>12&#45;&gt;14</title>\n<path fill=\"none\" stroke=\"#000000\" d=\"M531.5,-547.8796C531.5,-537.2134 531.5,-525.7021 531.5,-514.9015\"/>\n<polygon fill=\"#000000\" stroke=\"#000000\" points=\"535.0001,-514.8149 531.5,-504.8149 528.0001,-514.815 535.0001,-514.8149\"/>\n</g>\n<!-- 18 -->\n<g id=\"node19\" class=\"node\">\n<title>18</title>\n<polygon fill=\"#e58139\" stroke=\"#000000\" points=\"1421,-980.5 1326,-980.5 1326,-912.5 1421,-912.5 1421,-980.5\"/>\n<text text-anchor=\"start\" x=\"1344.5\" y=\"-965.3\" font-family=\"Times,serif\" font-size=\"14.00\" fill=\"#000000\">gini = 0.0</text>\n<text text-anchor=\"start\" x=\"1339\" y=\"-950.3\" font-family=\"Times,serif\" font-size=\"14.00\" fill=\"#000000\">samples = 4</text>\n<text text-anchor=\"start\" x=\"1334\" y=\"-935.3\" font-family=\"Times,serif\" font-size=\"14.00\" fill=\"#000000\">value = [4, 0]</text>\n<text text-anchor=\"start\" x=\"1340\" y=\"-920.3\" font-family=\"Times,serif\" font-size=\"14.00\" fill=\"#000000\">class = Win</text>\n</g>\n<!-- 17&#45;&gt;18 -->\n<g id=\"edge18\" class=\"edge\">\n<title>17&#45;&gt;18</title>\n<path fill=\"none\" stroke=\"#000000\" d=\"M1411.8647,-1023.8796C1406.4128,-1012.8835 1400.5157,-1000.9893 1395.0184,-989.9015\"/>\n<polygon fill=\"#000000\" stroke=\"#000000\" points=\"1398.0911,-988.2195 1390.5133,-980.8149 1391.8196,-991.3289 1398.0911,-988.2195\"/>\n</g>\n<!-- 19 -->\n<g id=\"node20\" class=\"node\">\n<title>19</title>\n<polygon fill=\"#9bcdf2\" stroke=\"#000000\" points=\"1627.5,-988 1439.5,-988 1439.5,-905 1627.5,-905 1627.5,-988\"/>\n<text text-anchor=\"start\" x=\"1447.5\" y=\"-972.8\" font-family=\"Times,serif\" font-size=\"14.00\" fill=\"#000000\">Home Avg 2019 score ≤ 23.0</text>\n<text text-anchor=\"start\" x=\"1497\" y=\"-957.8\" font-family=\"Times,serif\" font-size=\"14.00\" fill=\"#000000\">gini = 0.442</text>\n<text text-anchor=\"start\" x=\"1491.5\" y=\"-942.8\" font-family=\"Times,serif\" font-size=\"14.00\" fill=\"#000000\">samples = 109</text>\n<text text-anchor=\"start\" x=\"1486.5\" y=\"-927.8\" font-family=\"Times,serif\" font-size=\"14.00\" fill=\"#000000\">value = [36, 73]</text>\n<text text-anchor=\"start\" x=\"1498.5\" y=\"-912.8\" font-family=\"Times,serif\" font-size=\"14.00\" fill=\"#000000\">class = Lose</text>\n</g>\n<!-- 17&#45;&gt;19 -->\n<g id=\"edge19\" class=\"edge\">\n<title>17&#45;&gt;19</title>\n<path fill=\"none\" stroke=\"#000000\" d=\"M1467.8249,-1023.8796C1475.4689,-1014.8733 1483.6243,-1005.2644 1491.4961,-995.9897\"/>\n<polygon fill=\"#000000\" stroke=\"#000000\" points=\"1494.2218,-998.1871 1498.0243,-988.2981 1488.8849,-993.6574 1494.2218,-998.1871\"/>\n</g>\n<!-- 20 -->\n<g id=\"node21\" class=\"node\">\n<title>20</title>\n<polygon fill=\"#afd7f5\" stroke=\"#000000\" points=\"1526,-869 1323,-869 1323,-786 1526,-786 1526,-869\"/>\n<text text-anchor=\"start\" x=\"1331\" y=\"-853.8\" font-family=\"Times,serif\" font-size=\"14.00\" fill=\"#000000\">Home Avg 2019 score ≤ 21.562</text>\n<text text-anchor=\"start\" x=\"1388\" y=\"-838.8\" font-family=\"Times,serif\" font-size=\"14.00\" fill=\"#000000\">gini = 0.468</text>\n<text text-anchor=\"start\" x=\"1386.5\" y=\"-823.8\" font-family=\"Times,serif\" font-size=\"14.00\" fill=\"#000000\">samples = 91</text>\n<text text-anchor=\"start\" x=\"1377.5\" y=\"-808.8\" font-family=\"Times,serif\" font-size=\"14.00\" fill=\"#000000\">value = [34, 57]</text>\n<text text-anchor=\"start\" x=\"1389.5\" y=\"-793.8\" font-family=\"Times,serif\" font-size=\"14.00\" fill=\"#000000\">class = Lose</text>\n</g>\n<!-- 19&#45;&gt;20 -->\n<g id=\"edge20\" class=\"edge\">\n<title>19&#45;&gt;20</title>\n<path fill=\"none\" stroke=\"#000000\" d=\"M1495.3771,-904.8796C1487.0451,-895.7832 1478.1502,-886.0722 1469.5761,-876.7116\"/>\n<polygon fill=\"#000000\" stroke=\"#000000\" points=\"1472.1211,-874.3081 1462.7856,-869.2981 1466.9592,-879.0363 1472.1211,-874.3081\"/>\n</g>\n<!-- 71 -->\n<g id=\"node66\" class=\"node\">\n<title>71</title>\n<polygon fill=\"#52a9e8\" stroke=\"#000000\" points=\"1739.5,-869 1543.5,-869 1543.5,-786 1739.5,-786 1739.5,-869\"/>\n<text text-anchor=\"start\" x=\"1551.5\" y=\"-853.8\" font-family=\"Times,serif\" font-size=\"14.00\" fill=\"#000000\">QBPFF_VisLessHom ≤ &#45;16.45</text>\n<text text-anchor=\"start\" x=\"1605\" y=\"-838.8\" font-family=\"Times,serif\" font-size=\"14.00\" fill=\"#000000\">gini = 0.198</text>\n<text text-anchor=\"start\" x=\"1603.5\" y=\"-823.8\" font-family=\"Times,serif\" font-size=\"14.00\" fill=\"#000000\">samples = 18</text>\n<text text-anchor=\"start\" x=\"1598.5\" y=\"-808.8\" font-family=\"Times,serif\" font-size=\"14.00\" fill=\"#000000\">value = [2, 16]</text>\n<text text-anchor=\"start\" x=\"1606.5\" y=\"-793.8\" font-family=\"Times,serif\" font-size=\"14.00\" fill=\"#000000\">class = Lose</text>\n</g>\n<!-- 19&#45;&gt;71 -->\n<g id=\"edge65\" class=\"edge\">\n<title>19&#45;&gt;71</title>\n<path fill=\"none\" stroke=\"#000000\" d=\"M1571.2732,-904.8796C1579.5287,-895.7832 1588.342,-886.0722 1596.8374,-876.7116\"/>\n<polygon fill=\"#000000\" stroke=\"#000000\" points=\"1599.4368,-879.0553 1603.5656,-869.2981 1594.2533,-874.3509 1599.4368,-879.0553\"/>\n</g>\n<!-- 21 -->\n<g id=\"node22\" class=\"node\">\n<title>21</title>\n<polygon fill=\"#89c5f0\" stroke=\"#000000\" points=\"1303.5,-750 1119.5,-750 1119.5,-667 1303.5,-667 1303.5,-750\"/>\n<text text-anchor=\"start\" x=\"1127.5\" y=\"-734.8\" font-family=\"Times,serif\" font-size=\"14.00\" fill=\"#000000\">QBPFF_VisLessHom ≤ 12.9</text>\n<text text-anchor=\"start\" x=\"1179\" y=\"-719.8\" font-family=\"Times,serif\" font-size=\"14.00\" fill=\"#000000\">gini = 0.41</text>\n<text text-anchor=\"start\" x=\"1173.5\" y=\"-704.8\" font-family=\"Times,serif\" font-size=\"14.00\" fill=\"#000000\">samples = 73</text>\n<text text-anchor=\"start\" x=\"1164.5\" y=\"-689.8\" font-family=\"Times,serif\" font-size=\"14.00\" fill=\"#000000\">value = [21, 52]</text>\n<text text-anchor=\"start\" x=\"1176.5\" y=\"-674.8\" font-family=\"Times,serif\" font-size=\"14.00\" fill=\"#000000\">class = Lose</text>\n</g>\n<!-- 20&#45;&gt;21 -->\n<g id=\"edge21\" class=\"edge\">\n<title>20&#45;&gt;21</title>\n<path fill=\"none\" stroke=\"#000000\" d=\"M1350.0029,-785.8796C1332.1672,-775.915 1313.0114,-765.2129 1294.8059,-755.0418\"/>\n<polygon fill=\"#000000\" stroke=\"#000000\" points=\"1296.392,-751.9188 1285.955,-750.0969 1292.9779,-758.0298 1296.392,-751.9188\"/>\n</g>\n<!-- 60 -->\n<g id=\"node55\" class=\"node\">\n<title>60</title>\n<polygon fill=\"#efb185\" stroke=\"#000000\" points=\"1529.5,-750 1321.5,-750 1321.5,-667 1529.5,-667 1529.5,-750\"/>\n<text text-anchor=\"start\" x=\"1329.5\" y=\"-734.8\" font-family=\"Times,serif\" font-size=\"14.00\" fill=\"#000000\">AvgScore_VisLessHom ≤ &#45;2.688</text>\n<text text-anchor=\"start\" x=\"1389\" y=\"-719.8\" font-family=\"Times,serif\" font-size=\"14.00\" fill=\"#000000\">gini = 0.401</text>\n<text text-anchor=\"start\" x=\"1387.5\" y=\"-704.8\" font-family=\"Times,serif\" font-size=\"14.00\" fill=\"#000000\">samples = 18</text>\n<text text-anchor=\"start\" x=\"1382.5\" y=\"-689.8\" font-family=\"Times,serif\" font-size=\"14.00\" fill=\"#000000\">value = [13, 5]</text>\n<text text-anchor=\"start\" x=\"1392\" y=\"-674.8\" font-family=\"Times,serif\" font-size=\"14.00\" fill=\"#000000\">class = Win</text>\n</g>\n<!-- 20&#45;&gt;60 -->\n<g id=\"edge54\" class=\"edge\">\n<title>20&#45;&gt;60</title>\n<path fill=\"none\" stroke=\"#000000\" d=\"M1424.8498,-785.8796C1424.9186,-777.6838 1424.9917,-768.9891 1425.063,-760.5013\"/>\n<polygon fill=\"#000000\" stroke=\"#000000\" points=\"1428.5645,-760.3272 1425.1488,-750.2981 1421.5648,-760.2683 1428.5645,-760.3272\"/>\n</g>\n<!-- 22 -->\n<g id=\"node23\" class=\"node\">\n<title>22</title>\n<polygon fill=\"#acd6f4\" stroke=\"#000000\" points=\"1032.5,-631 856.5,-631 856.5,-548 1032.5,-548 1032.5,-631\"/>\n<text text-anchor=\"start\" x=\"864.5\" y=\"-615.8\" font-family=\"Times,serif\" font-size=\"14.00\" fill=\"#000000\">QBPFF_VisLessHom ≤ 7.9</text>\n<text text-anchor=\"start\" x=\"908\" y=\"-600.8\" font-family=\"Times,serif\" font-size=\"14.00\" fill=\"#000000\">gini = 0.465</text>\n<text text-anchor=\"start\" x=\"906.5\" y=\"-585.8\" font-family=\"Times,serif\" font-size=\"14.00\" fill=\"#000000\">samples = 49</text>\n<text text-anchor=\"start\" x=\"897.5\" y=\"-570.8\" font-family=\"Times,serif\" font-size=\"14.00\" fill=\"#000000\">value = [18, 31]</text>\n<text text-anchor=\"start\" x=\"909.5\" y=\"-555.8\" font-family=\"Times,serif\" font-size=\"14.00\" fill=\"#000000\">class = Lose</text>\n</g>\n<!-- 21&#45;&gt;22 -->\n<g id=\"edge22\" class=\"edge\">\n<title>21&#45;&gt;22</title>\n<path fill=\"none\" stroke=\"#000000\" d=\"M1119.2399,-667.3803C1094.27,-656.2514 1067.1658,-644.1713 1041.9222,-632.9204\"/>\n<polygon fill=\"#000000\" stroke=\"#000000\" points=\"1043.2722,-629.6902 1032.7135,-628.8161 1040.4225,-636.084 1043.2722,-629.6902\"/>\n</g>\n<!-- 49 -->\n<g id=\"node44\" class=\"node\">\n<title>49</title>\n<polygon fill=\"#55abe9\" stroke=\"#000000\" points=\"1314,-631 1111,-631 1111,-548 1314,-548 1314,-631\"/>\n<text text-anchor=\"start\" x=\"1119\" y=\"-615.8\" font-family=\"Times,serif\" font-size=\"14.00\" fill=\"#000000\">AvgScore_VisLessHom ≤ 8.188</text>\n<text text-anchor=\"start\" x=\"1176\" y=\"-600.8\" font-family=\"Times,serif\" font-size=\"14.00\" fill=\"#000000\">gini = 0.219</text>\n<text text-anchor=\"start\" x=\"1174.5\" y=\"-585.8\" font-family=\"Times,serif\" font-size=\"14.00\" fill=\"#000000\">samples = 24</text>\n<text text-anchor=\"start\" x=\"1169.5\" y=\"-570.8\" font-family=\"Times,serif\" font-size=\"14.00\" fill=\"#000000\">value = [3, 21]</text>\n<text text-anchor=\"start\" x=\"1177.5\" y=\"-555.8\" font-family=\"Times,serif\" font-size=\"14.00\" fill=\"#000000\">class = Lose</text>\n</g>\n<!-- 21&#45;&gt;49 -->\n<g id=\"edge43\" class=\"edge\">\n<title>21&#45;&gt;49</title>\n<path fill=\"none\" stroke=\"#000000\" d=\"M1211.8498,-666.8796C1211.9186,-658.6838 1211.9917,-649.9891 1212.063,-641.5013\"/>\n<polygon fill=\"#000000\" stroke=\"#000000\" points=\"1215.5645,-641.3272 1212.1488,-631.2981 1208.5648,-641.2683 1215.5645,-641.3272\"/>\n</g>\n<!-- 23 -->\n<g id=\"node24\" class=\"node\">\n<title>23</title>\n<polygon fill=\"#87c4ef\" stroke=\"#000000\" points=\"803.5,-512 597.5,-512 597.5,-429 803.5,-429 803.5,-512\"/>\n<text text-anchor=\"start\" x=\"605.5\" y=\"-496.8\" font-family=\"Times,serif\" font-size=\"14.00\" fill=\"#000000\">Visitor Avg 2019 score ≤ 21.812</text>\n<text text-anchor=\"start\" x=\"664\" y=\"-481.8\" font-family=\"Times,serif\" font-size=\"14.00\" fill=\"#000000\">gini = 0.405</text>\n<text text-anchor=\"start\" x=\"662.5\" y=\"-466.8\" font-family=\"Times,serif\" font-size=\"14.00\" fill=\"#000000\">samples = 39</text>\n<text text-anchor=\"start\" x=\"654\" y=\"-451.8\" font-family=\"Times,serif\" font-size=\"14.00\" fill=\"#000000\">value = [11, 28]</text>\n<text text-anchor=\"start\" x=\"665.5\" y=\"-436.8\" font-family=\"Times,serif\" font-size=\"14.00\" fill=\"#000000\">class = Lose</text>\n</g>\n<!-- 22&#45;&gt;23 -->\n<g id=\"edge23\" class=\"edge\">\n<title>22&#45;&gt;23</title>\n<path fill=\"none\" stroke=\"#000000\" d=\"M859.1606,-547.8796C838.3577,-537.7339 815.9869,-526.8235 794.7938,-516.4876\"/>\n<polygon fill=\"#000000\" stroke=\"#000000\" points=\"796.3135,-513.3347 785.7912,-512.0969 793.245,-519.6263 796.3135,-513.3347\"/>\n</g>\n<!-- 44 -->\n<g id=\"node39\" class=\"node\">\n<title>44</title>\n<polygon fill=\"#f0b78e\" stroke=\"#000000\" points=\"1040,-512 849,-512 849,-429 1040,-429 1040,-512\"/>\n<text text-anchor=\"start\" x=\"857\" y=\"-496.8\" font-family=\"Times,serif\" font-size=\"14.00\" fill=\"#000000\">QBPFF_VisLessHom ≤ 10.75</text>\n<text text-anchor=\"start\" x=\"912\" y=\"-481.8\" font-family=\"Times,serif\" font-size=\"14.00\" fill=\"#000000\">gini = 0.42</text>\n<text text-anchor=\"start\" x=\"906.5\" y=\"-466.8\" font-family=\"Times,serif\" font-size=\"14.00\" fill=\"#000000\">samples = 10</text>\n<text text-anchor=\"start\" x=\"905\" y=\"-451.8\" font-family=\"Times,serif\" font-size=\"14.00\" fill=\"#000000\">value = [7, 3]</text>\n<text text-anchor=\"start\" x=\"911\" y=\"-436.8\" font-family=\"Times,serif\" font-size=\"14.00\" fill=\"#000000\">class = Win</text>\n</g>\n<!-- 22&#45;&gt;44 -->\n<g id=\"edge38\" class=\"edge\">\n<title>22&#45;&gt;44</title>\n<path fill=\"none\" stroke=\"#000000\" d=\"M944.5,-547.8796C944.5,-539.6838 944.5,-530.9891 944.5,-522.5013\"/>\n<polygon fill=\"#000000\" stroke=\"#000000\" points=\"948.0001,-522.298 944.5,-512.2981 941.0001,-522.2981 948.0001,-522.298\"/>\n</g>\n<!-- 24 -->\n<g id=\"node25\" class=\"node\">\n<title>24</title>\n<polygon fill=\"#47a4e7\" stroke=\"#000000\" points=\"518.5,-393 310.5,-393 310.5,-310 518.5,-310 518.5,-393\"/>\n<text text-anchor=\"start\" x=\"318.5\" y=\"-377.8\" font-family=\"Times,serif\" font-size=\"14.00\" fill=\"#000000\">AvgScore_VisLessHom ≤ &#45;2.812</text>\n<text text-anchor=\"start\" x=\"378\" y=\"-362.8\" font-family=\"Times,serif\" font-size=\"14.00\" fill=\"#000000\">gini = 0.124</text>\n<text text-anchor=\"start\" x=\"376.5\" y=\"-347.8\" font-family=\"Times,serif\" font-size=\"14.00\" fill=\"#000000\">samples = 15</text>\n<text text-anchor=\"start\" x=\"371.5\" y=\"-332.8\" font-family=\"Times,serif\" font-size=\"14.00\" fill=\"#000000\">value = [1, 14]</text>\n<text text-anchor=\"start\" x=\"379.5\" y=\"-317.8\" font-family=\"Times,serif\" font-size=\"14.00\" fill=\"#000000\">class = Lose</text>\n</g>\n<!-- 23&#45;&gt;24 -->\n<g id=\"edge24\" class=\"edge\">\n<title>23&#45;&gt;24</title>\n<path fill=\"none\" stroke=\"#000000\" d=\"M600.4711,-428.8796C575.7607,-418.598 549.1631,-407.5311 524.0274,-397.0726\"/>\n<polygon fill=\"#000000\" stroke=\"#000000\" points=\"525.0497,-393.7071 514.4724,-393.0969 522.3606,-400.17 525.0497,-393.7071\"/>\n</g>\n<!-- 27 -->\n<g id=\"node28\" class=\"node\">\n<title>27</title>\n<polygon fill=\"#c6e3f8\" stroke=\"#000000\" points=\"776,-393 573,-393 573,-310 776,-310 776,-393\"/>\n<text text-anchor=\"start\" x=\"581\" y=\"-377.8\" font-family=\"Times,serif\" font-size=\"14.00\" fill=\"#000000\">AvgScore_VisLessHom ≤ 3.062</text>\n<text text-anchor=\"start\" x=\"638\" y=\"-362.8\" font-family=\"Times,serif\" font-size=\"14.00\" fill=\"#000000\">gini = 0.486</text>\n<text text-anchor=\"start\" x=\"636.5\" y=\"-347.8\" font-family=\"Times,serif\" font-size=\"14.00\" fill=\"#000000\">samples = 24</text>\n<text text-anchor=\"start\" x=\"627.5\" y=\"-332.8\" font-family=\"Times,serif\" font-size=\"14.00\" fill=\"#000000\">value = [10, 14]</text>\n<text text-anchor=\"start\" x=\"639.5\" y=\"-317.8\" font-family=\"Times,serif\" font-size=\"14.00\" fill=\"#000000\">class = Lose</text>\n</g>\n<!-- 23&#45;&gt;27 -->\n<g id=\"edge27\" class=\"edge\">\n<title>23&#45;&gt;27</title>\n<path fill=\"none\" stroke=\"#000000\" d=\"M691.4065,-428.8796C689.5961,-420.5938 687.6743,-411.798 685.8005,-403.2216\"/>\n<polygon fill=\"#000000\" stroke=\"#000000\" points=\"689.1863,-402.3205 683.6324,-393.2981 682.3476,-403.8147 689.1863,-402.3205\"/>\n</g>\n<!-- 25 -->\n<g id=\"node26\" class=\"node\">\n<title>25</title>\n<polygon fill=\"#e58139\" stroke=\"#000000\" points=\"345,-266.5 250,-266.5 250,-198.5 345,-198.5 345,-266.5\"/>\n<text text-anchor=\"start\" x=\"268.5\" y=\"-251.3\" font-family=\"Times,serif\" font-size=\"14.00\" fill=\"#000000\">gini = 0.0</text>\n<text text-anchor=\"start\" x=\"263\" y=\"-236.3\" font-family=\"Times,serif\" font-size=\"14.00\" fill=\"#000000\">samples = 1</text>\n<text text-anchor=\"start\" x=\"258\" y=\"-221.3\" font-family=\"Times,serif\" font-size=\"14.00\" fill=\"#000000\">value = [1, 0]</text>\n<text text-anchor=\"start\" x=\"264\" y=\"-206.3\" font-family=\"Times,serif\" font-size=\"14.00\" fill=\"#000000\">class = Win</text>\n</g>\n<!-- 24&#45;&gt;25 -->\n<g id=\"edge25\" class=\"edge\">\n<title>24&#45;&gt;25</title>\n<path fill=\"none\" stroke=\"#000000\" d=\"M373.5791,-309.8796C362.2272,-298.3337 349.9018,-285.7976 338.543,-274.2446\"/>\n<polygon fill=\"#000000\" stroke=\"#000000\" points=\"340.7449,-271.4919 331.2382,-266.8149 335.7534,-276.3995 340.7449,-271.4919\"/>\n</g>\n<!-- 26 -->\n<g id=\"node27\" class=\"node\">\n<title>26</title>\n<polygon fill=\"#399de5\" stroke=\"#000000\" points=\"465.5,-266.5 363.5,-266.5 363.5,-198.5 465.5,-198.5 465.5,-266.5\"/>\n<text text-anchor=\"start\" x=\"385.5\" y=\"-251.3\" font-family=\"Times,serif\" font-size=\"14.00\" fill=\"#000000\">gini = 0.0</text>\n<text text-anchor=\"start\" x=\"376.5\" y=\"-236.3\" font-family=\"Times,serif\" font-size=\"14.00\" fill=\"#000000\">samples = 14</text>\n<text text-anchor=\"start\" x=\"371.5\" y=\"-221.3\" font-family=\"Times,serif\" font-size=\"14.00\" fill=\"#000000\">value = [0, 14]</text>\n<text text-anchor=\"start\" x=\"379.5\" y=\"-206.3\" font-family=\"Times,serif\" font-size=\"14.00\" fill=\"#000000\">class = Lose</text>\n</g>\n<!-- 24&#45;&gt;26 -->\n<g id=\"edge26\" class=\"edge\">\n<title>24&#45;&gt;26</title>\n<path fill=\"none\" stroke=\"#000000\" d=\"M414.5,-309.8796C414.5,-299.2134 414.5,-287.7021 414.5,-276.9015\"/>\n<polygon fill=\"#000000\" stroke=\"#000000\" points=\"418.0001,-276.8149 414.5,-266.8149 411.0001,-276.815 418.0001,-276.8149\"/>\n</g>\n<!-- 28 -->\n<g id=\"node29\" class=\"node\">\n<title>28</title>\n<polygon fill=\"#eeab7b\" stroke=\"#000000\" points=\"631,-274 484,-274 484,-191 631,-191 631,-274\"/>\n<text text-anchor=\"start\" x=\"492\" y=\"-258.8\" font-family=\"Times,serif\" font-size=\"14.00\" fill=\"#000000\">QB Age Visitor ≤ 21.5</text>\n<text text-anchor=\"start\" x=\"521\" y=\"-243.8\" font-family=\"Times,serif\" font-size=\"14.00\" fill=\"#000000\">gini = 0.375</text>\n<text text-anchor=\"start\" x=\"523\" y=\"-228.8\" font-family=\"Times,serif\" font-size=\"14.00\" fill=\"#000000\">samples = 4</text>\n<text text-anchor=\"start\" x=\"518\" y=\"-213.8\" font-family=\"Times,serif\" font-size=\"14.00\" fill=\"#000000\">value = [3, 1]</text>\n<text text-anchor=\"start\" x=\"524\" y=\"-198.8\" font-family=\"Times,serif\" font-size=\"14.00\" fill=\"#000000\">class = Win</text>\n</g>\n<!-- 27&#45;&gt;28 -->\n<g id=\"edge28\" class=\"edge\">\n<title>27&#45;&gt;28</title>\n<path fill=\"none\" stroke=\"#000000\" d=\"M633.5791,-309.8796C624.547,-300.6931 614.8987,-290.8798 605.6112,-281.4336\"/>\n<polygon fill=\"#000000\" stroke=\"#000000\" points=\"608.1023,-278.975 598.5956,-274.2981 603.1107,-283.8827 608.1023,-278.975\"/>\n</g>\n<!-- 31 -->\n<g id=\"node32\" class=\"node\">\n<title>31</title>\n<polygon fill=\"#a4d2f3\" stroke=\"#000000\" points=\"830,-274 649,-274 649,-191 830,-191 830,-274\"/>\n<text text-anchor=\"start\" x=\"657\" y=\"-258.8\" font-family=\"Times,serif\" font-size=\"14.00\" fill=\"#000000\">QBPFF_VisLessHom ≤ &#45;3.0</text>\n<text text-anchor=\"start\" x=\"703\" y=\"-243.8\" font-family=\"Times,serif\" font-size=\"14.00\" fill=\"#000000\">gini = 0.455</text>\n<text text-anchor=\"start\" x=\"701.5\" y=\"-228.8\" font-family=\"Times,serif\" font-size=\"14.00\" fill=\"#000000\">samples = 20</text>\n<text text-anchor=\"start\" x=\"696.5\" y=\"-213.8\" font-family=\"Times,serif\" font-size=\"14.00\" fill=\"#000000\">value = [7, 13]</text>\n<text text-anchor=\"start\" x=\"704.5\" y=\"-198.8\" font-family=\"Times,serif\" font-size=\"14.00\" fill=\"#000000\">class = Lose</text>\n</g>\n<!-- 27&#45;&gt;31 -->\n<g id=\"edge31\" class=\"edge\">\n<title>27&#45;&gt;31</title>\n<path fill=\"none\" stroke=\"#000000\" d=\"M697.2338,-309.8796C701.9565,-301.2335 706.9824,-292.0322 711.859,-283.1042\"/>\n<polygon fill=\"#000000\" stroke=\"#000000\" points=\"714.947,-284.752 716.6691,-274.2981 708.8037,-281.3964 714.947,-284.752\"/>\n</g>\n<!-- 29 -->\n<g id=\"node30\" class=\"node\">\n<title>29</title>\n<polygon fill=\"#399de5\" stroke=\"#000000\" points=\"496,-147.5 401,-147.5 401,-79.5 496,-79.5 496,-147.5\"/>\n<text text-anchor=\"start\" x=\"419.5\" y=\"-132.3\" font-family=\"Times,serif\" font-size=\"14.00\" fill=\"#000000\">gini = 0.0</text>\n<text text-anchor=\"start\" x=\"414\" y=\"-117.3\" font-family=\"Times,serif\" font-size=\"14.00\" fill=\"#000000\">samples = 1</text>\n<text text-anchor=\"start\" x=\"409\" y=\"-102.3\" font-family=\"Times,serif\" font-size=\"14.00\" fill=\"#000000\">value = [0, 1]</text>\n<text text-anchor=\"start\" x=\"413.5\" y=\"-87.3\" font-family=\"Times,serif\" font-size=\"14.00\" fill=\"#000000\">class = Lose</text>\n</g>\n<!-- 28&#45;&gt;29 -->\n<g id=\"edge29\" class=\"edge\">\n<title>28&#45;&gt;29</title>\n<path fill=\"none\" stroke=\"#000000\" d=\"M519.3771,-190.8796C508.8014,-179.3337 497.3188,-166.7976 486.7367,-155.2446\"/>\n<polygon fill=\"#000000\" stroke=\"#000000\" points=\"489.2667,-152.825 479.9313,-147.8149 484.1049,-157.5531 489.2667,-152.825\"/>\n</g>\n<!-- 30 -->\n<g id=\"node31\" class=\"node\">\n<title>30</title>\n<polygon fill=\"#e58139\" stroke=\"#000000\" points=\"609,-147.5 514,-147.5 514,-79.5 609,-79.5 609,-147.5\"/>\n<text text-anchor=\"start\" x=\"532.5\" y=\"-132.3\" font-family=\"Times,serif\" font-size=\"14.00\" fill=\"#000000\">gini = 0.0</text>\n<text text-anchor=\"start\" x=\"527\" y=\"-117.3\" font-family=\"Times,serif\" font-size=\"14.00\" fill=\"#000000\">samples = 3</text>\n<text text-anchor=\"start\" x=\"522\" y=\"-102.3\" font-family=\"Times,serif\" font-size=\"14.00\" fill=\"#000000\">value = [3, 0]</text>\n<text text-anchor=\"start\" x=\"528\" y=\"-87.3\" font-family=\"Times,serif\" font-size=\"14.00\" fill=\"#000000\">class = Win</text>\n</g>\n<!-- 28&#45;&gt;30 -->\n<g id=\"edge30\" class=\"edge\">\n<title>28&#45;&gt;30</title>\n<path fill=\"none\" stroke=\"#000000\" d=\"M558.899,-190.8796C559.2575,-180.2134 559.6445,-168.7021 560.0075,-157.9015\"/>\n<polygon fill=\"#000000\" stroke=\"#000000\" points=\"563.5085,-157.9269 560.3466,-147.8149 556.5125,-157.6917 563.5085,-157.9269\"/>\n</g>\n<!-- 32 -->\n<g id=\"node33\" class=\"node\">\n<title>32</title>\n<polygon fill=\"#ffffff\" stroke=\"#000000\" points=\"837,-155 634,-155 634,-72 837,-72 837,-155\"/>\n<text text-anchor=\"start\" x=\"642\" y=\"-139.8\" font-family=\"Times,serif\" font-size=\"14.00\" fill=\"#000000\">Home Avg 2019 score ≤ 18.688</text>\n<text text-anchor=\"start\" x=\"706.5\" y=\"-124.8\" font-family=\"Times,serif\" font-size=\"14.00\" fill=\"#000000\">gini = 0.5</text>\n<text text-anchor=\"start\" x=\"697.5\" y=\"-109.8\" font-family=\"Times,serif\" font-size=\"14.00\" fill=\"#000000\">samples = 10</text>\n<text text-anchor=\"start\" x=\"696\" y=\"-94.8\" font-family=\"Times,serif\" font-size=\"14.00\" fill=\"#000000\">value = [5, 5]</text>\n<text text-anchor=\"start\" x=\"702\" y=\"-79.8\" font-family=\"Times,serif\" font-size=\"14.00\" fill=\"#000000\">class = Win</text>\n</g>\n<!-- 31&#45;&gt;32 -->\n<g id=\"edge32\" class=\"edge\">\n<title>31&#45;&gt;32</title>\n<path fill=\"none\" stroke=\"#000000\" d=\"M738.101,-190.8796C737.8255,-182.6838 737.5332,-173.9891 737.2479,-165.5013\"/>\n<polygon fill=\"#000000\" stroke=\"#000000\" points=\"740.739,-165.1748 736.905,-155.2981 733.743,-165.41 740.739,-165.1748\"/>\n</g>\n<!-- 39 -->\n<g id=\"node36\" class=\"node\">\n<title>39</title>\n<polygon fill=\"#6ab6ec\" stroke=\"#000000\" points=\"1058,-155 855,-155 855,-72 1058,-72 1058,-155\"/>\n<text text-anchor=\"start\" x=\"863\" y=\"-139.8\" font-family=\"Times,serif\" font-size=\"14.00\" fill=\"#000000\">Home Avg 2019 score ≤ 17.125</text>\n<text text-anchor=\"start\" x=\"924\" y=\"-124.8\" font-family=\"Times,serif\" font-size=\"14.00\" fill=\"#000000\">gini = 0.32</text>\n<text text-anchor=\"start\" x=\"918.5\" y=\"-109.8\" font-family=\"Times,serif\" font-size=\"14.00\" fill=\"#000000\">samples = 10</text>\n<text text-anchor=\"start\" x=\"917\" y=\"-94.8\" font-family=\"Times,serif\" font-size=\"14.00\" fill=\"#000000\">value = [2, 8]</text>\n<text text-anchor=\"start\" x=\"921.5\" y=\"-79.8\" font-family=\"Times,serif\" font-size=\"14.00\" fill=\"#000000\">class = Lose</text>\n</g>\n<!-- 31&#45;&gt;39 -->\n<g id=\"edge35\" class=\"edge\">\n<title>31&#45;&gt;39</title>\n<path fill=\"none\" stroke=\"#000000\" d=\"M815.3961,-190.8796C833.5667,-180.915 853.0823,-170.2129 871.6296,-160.0418\"/>\n<polygon fill=\"#000000\" stroke=\"#000000\" points=\"873.5616,-162.9741 880.6468,-155.0969 870.1957,-156.8365 873.5616,-162.9741\"/>\n</g>\n<!-- 33 -->\n<g id=\"node34\" class=\"node\">\n<title>33</title>\n<polygon fill=\"#c0c0c0\" stroke=\"#000000\" points=\"726.5,-36 672.5,-36 672.5,0 726.5,0 726.5,-36\"/>\n<text text-anchor=\"middle\" x=\"699.5\" y=\"-14.3\" font-family=\"Times,serif\" font-size=\"14.00\" fill=\"#000000\">(...)</text>\n</g>\n<!-- 32&#45;&gt;33 -->\n<g id=\"edge33\" class=\"edge\">\n<title>32&#45;&gt;33</title>\n<path fill=\"none\" stroke=\"#000000\" d=\"M719.8146,-71.8901C716.4739,-63.0279 713.025,-53.8788 709.9386,-45.6913\"/>\n<polygon fill=\"#000000\" stroke=\"#000000\" points=\"713.1877,-44.3878 706.3853,-36.2651 706.6376,-46.8569 713.1877,-44.3878\"/>\n</g>\n<!-- 38 -->\n<g id=\"node35\" class=\"node\">\n<title>38</title>\n<polygon fill=\"#c0c0c0\" stroke=\"#000000\" points=\"798.5,-36 744.5,-36 744.5,0 798.5,0 798.5,-36\"/>\n<text text-anchor=\"middle\" x=\"771.5\" y=\"-14.3\" font-family=\"Times,serif\" font-size=\"14.00\" fill=\"#000000\">(...)</text>\n</g>\n<!-- 32&#45;&gt;38 -->\n<g id=\"edge34\" class=\"edge\">\n<title>32&#45;&gt;38</title>\n<path fill=\"none\" stroke=\"#000000\" d=\"M751.1854,-71.8901C754.5261,-63.0279 757.975,-53.8788 761.0614,-45.6913\"/>\n<polygon fill=\"#000000\" stroke=\"#000000\" points=\"764.3624,-46.8569 764.6147,-36.2651 757.8123,-44.3878 764.3624,-46.8569\"/>\n</g>\n<!-- 40 -->\n<g id=\"node37\" class=\"node\">\n<title>40</title>\n<polygon fill=\"#c0c0c0\" stroke=\"#000000\" points=\"947.5,-36 893.5,-36 893.5,0 947.5,0 947.5,-36\"/>\n<text text-anchor=\"middle\" x=\"920.5\" y=\"-14.3\" font-family=\"Times,serif\" font-size=\"14.00\" fill=\"#000000\">(...)</text>\n</g>\n<!-- 39&#45;&gt;40 -->\n<g id=\"edge36\" class=\"edge\">\n<title>39&#45;&gt;40</title>\n<path fill=\"none\" stroke=\"#000000\" d=\"M940.8146,-71.8901C937.4739,-63.0279 934.025,-53.8788 930.9386,-45.6913\"/>\n<polygon fill=\"#000000\" stroke=\"#000000\" points=\"934.1877,-44.3878 927.3853,-36.2651 927.6376,-46.8569 934.1877,-44.3878\"/>\n</g>\n<!-- 43 -->\n<g id=\"node38\" class=\"node\">\n<title>43</title>\n<polygon fill=\"#c0c0c0\" stroke=\"#000000\" points=\"1019.5,-36 965.5,-36 965.5,0 1019.5,0 1019.5,-36\"/>\n<text text-anchor=\"middle\" x=\"992.5\" y=\"-14.3\" font-family=\"Times,serif\" font-size=\"14.00\" fill=\"#000000\">(...)</text>\n</g>\n<!-- 39&#45;&gt;43 -->\n<g id=\"edge37\" class=\"edge\">\n<title>39&#45;&gt;43</title>\n<path fill=\"none\" stroke=\"#000000\" d=\"M972.1854,-71.8901C975.5261,-63.0279 978.975,-53.8788 982.0614,-45.6913\"/>\n<polygon fill=\"#000000\" stroke=\"#000000\" points=\"985.3624,-46.8569 985.6147,-36.2651 978.8123,-44.3878 985.3624,-46.8569\"/>\n</g>\n<!-- 45 -->\n<g id=\"node40\" class=\"node\">\n<title>45</title>\n<polygon fill=\"#e58139\" stroke=\"#000000\" points=\"889,-385.5 794,-385.5 794,-317.5 889,-317.5 889,-385.5\"/>\n<text text-anchor=\"start\" x=\"812.5\" y=\"-370.3\" font-family=\"Times,serif\" font-size=\"14.00\" fill=\"#000000\">gini = 0.0</text>\n<text text-anchor=\"start\" x=\"807\" y=\"-355.3\" font-family=\"Times,serif\" font-size=\"14.00\" fill=\"#000000\">samples = 5</text>\n<text text-anchor=\"start\" x=\"802\" y=\"-340.3\" font-family=\"Times,serif\" font-size=\"14.00\" fill=\"#000000\">value = [5, 0]</text>\n<text text-anchor=\"start\" x=\"808\" y=\"-325.3\" font-family=\"Times,serif\" font-size=\"14.00\" fill=\"#000000\">class = Win</text>\n</g>\n<!-- 44&#45;&gt;45 -->\n<g id=\"edge39\" class=\"edge\">\n<title>44&#45;&gt;45</title>\n<path fill=\"none\" stroke=\"#000000\" d=\"M908.4756,-428.8796C898.5773,-417.4436 887.8381,-405.0363 877.9178,-393.575\"/>\n<polygon fill=\"#000000\" stroke=\"#000000\" points=\"880.3921,-391.0855 871.2012,-385.8149 875.0993,-395.6666 880.3921,-391.0855\"/>\n</g>\n<!-- 46 -->\n<g id=\"node41\" class=\"node\">\n<title>46</title>\n<polygon fill=\"#bddef6\" stroke=\"#000000\" points=\"1110,-393 907,-393 907,-310 1110,-310 1110,-393\"/>\n<text text-anchor=\"start\" x=\"915\" y=\"-377.8\" font-family=\"Times,serif\" font-size=\"14.00\" fill=\"#000000\">Home Avg 2019 score ≤ 17.812</text>\n<text text-anchor=\"start\" x=\"976\" y=\"-362.8\" font-family=\"Times,serif\" font-size=\"14.00\" fill=\"#000000\">gini = 0.48</text>\n<text text-anchor=\"start\" x=\"974\" y=\"-347.8\" font-family=\"Times,serif\" font-size=\"14.00\" fill=\"#000000\">samples = 5</text>\n<text text-anchor=\"start\" x=\"969\" y=\"-332.8\" font-family=\"Times,serif\" font-size=\"14.00\" fill=\"#000000\">value = [2, 3]</text>\n<text text-anchor=\"start\" x=\"973.5\" y=\"-317.8\" font-family=\"Times,serif\" font-size=\"14.00\" fill=\"#000000\">class = Lose</text>\n</g>\n<!-- 44&#45;&gt;46 -->\n<g id=\"edge40\" class=\"edge\">\n<title>44&#45;&gt;46</title>\n<path fill=\"none\" stroke=\"#000000\" d=\"M966.8841,-428.8796C971.4856,-420.3236 976.3796,-411.2238 981.1342,-402.3833\"/>\n<polygon fill=\"#000000\" stroke=\"#000000\" points=\"984.3662,-403.763 986.0204,-393.2981 978.2012,-400.4473 984.3662,-403.763\"/>\n</g>\n<!-- 47 -->\n<g id=\"node42\" class=\"node\">\n<title>47</title>\n<polygon fill=\"#e58139\" stroke=\"#000000\" points=\"943,-266.5 848,-266.5 848,-198.5 943,-198.5 943,-266.5\"/>\n<text text-anchor=\"start\" x=\"866.5\" y=\"-251.3\" font-family=\"Times,serif\" font-size=\"14.00\" fill=\"#000000\">gini = 0.0</text>\n<text text-anchor=\"start\" x=\"861\" y=\"-236.3\" font-family=\"Times,serif\" font-size=\"14.00\" fill=\"#000000\">samples = 2</text>\n<text text-anchor=\"start\" x=\"856\" y=\"-221.3\" font-family=\"Times,serif\" font-size=\"14.00\" fill=\"#000000\">value = [2, 0]</text>\n<text text-anchor=\"start\" x=\"862\" y=\"-206.3\" font-family=\"Times,serif\" font-size=\"14.00\" fill=\"#000000\">class = Win</text>\n</g>\n<!-- 46&#45;&gt;47 -->\n<g id=\"edge41\" class=\"edge\">\n<title>46&#45;&gt;47</title>\n<path fill=\"none\" stroke=\"#000000\" d=\"M968.9781,-309.8796C958.0143,-298.3337 946.1103,-285.7976 935.1399,-274.2446\"/>\n<polygon fill=\"#000000\" stroke=\"#000000\" points=\"937.5087,-271.6564 928.0848,-266.8149 932.4327,-276.4766 937.5087,-271.6564\"/>\n</g>\n<!-- 48 -->\n<g id=\"node43\" class=\"node\">\n<title>48</title>\n<polygon fill=\"#399de5\" stroke=\"#000000\" points=\"1056,-266.5 961,-266.5 961,-198.5 1056,-198.5 1056,-266.5\"/>\n<text text-anchor=\"start\" x=\"979.5\" y=\"-251.3\" font-family=\"Times,serif\" font-size=\"14.00\" fill=\"#000000\">gini = 0.0</text>\n<text text-anchor=\"start\" x=\"974\" y=\"-236.3\" font-family=\"Times,serif\" font-size=\"14.00\" fill=\"#000000\">samples = 3</text>\n<text text-anchor=\"start\" x=\"969\" y=\"-221.3\" font-family=\"Times,serif\" font-size=\"14.00\" fill=\"#000000\">value = [0, 3]</text>\n<text text-anchor=\"start\" x=\"973.5\" y=\"-206.3\" font-family=\"Times,serif\" font-size=\"14.00\" fill=\"#000000\">class = Lose</text>\n</g>\n<!-- 46&#45;&gt;48 -->\n<g id=\"edge42\" class=\"edge\">\n<title>46&#45;&gt;48</title>\n<path fill=\"none\" stroke=\"#000000\" d=\"M1008.5,-309.8796C1008.5,-299.2134 1008.5,-287.7021 1008.5,-276.9015\"/>\n<polygon fill=\"#000000\" stroke=\"#000000\" points=\"1012.0001,-276.8149 1008.5,-266.8149 1005.0001,-276.815 1012.0001,-276.8149\"/>\n</g>\n<!-- 50 -->\n<g id=\"node45\" class=\"node\">\n<title>50</title>\n<polygon fill=\"#6fb8ec\" stroke=\"#000000\" points=\"1314,-512 1111,-512 1111,-429 1314,-429 1314,-512\"/>\n<text text-anchor=\"start\" x=\"1119\" y=\"-496.8\" font-family=\"Times,serif\" font-size=\"14.00\" fill=\"#000000\">AvgScore_VisLessHom ≤ 7.625</text>\n<text text-anchor=\"start\" x=\"1176\" y=\"-481.8\" font-family=\"Times,serif\" font-size=\"14.00\" fill=\"#000000\">gini = 0.337</text>\n<text text-anchor=\"start\" x=\"1174.5\" y=\"-466.8\" font-family=\"Times,serif\" font-size=\"14.00\" fill=\"#000000\">samples = 14</text>\n<text text-anchor=\"start\" x=\"1170\" y=\"-451.8\" font-family=\"Times,serif\" font-size=\"14.00\" fill=\"#000000\">value = [3, 11]</text>\n<text text-anchor=\"start\" x=\"1177.5\" y=\"-436.8\" font-family=\"Times,serif\" font-size=\"14.00\" fill=\"#000000\">class = Lose</text>\n</g>\n<!-- 49&#45;&gt;50 -->\n<g id=\"edge44\" class=\"edge\">\n<title>49&#45;&gt;50</title>\n<path fill=\"none\" stroke=\"#000000\" d=\"M1212.5,-547.8796C1212.5,-539.6838 1212.5,-530.9891 1212.5,-522.5013\"/>\n<polygon fill=\"#000000\" stroke=\"#000000\" points=\"1216.0001,-522.298 1212.5,-512.2981 1209.0001,-522.2981 1216.0001,-522.298\"/>\n</g>\n<!-- 59 -->\n<g id=\"node54\" class=\"node\">\n<title>59</title>\n<polygon fill=\"#399de5\" stroke=\"#000000\" points=\"1433.5,-504.5 1331.5,-504.5 1331.5,-436.5 1433.5,-436.5 1433.5,-504.5\"/>\n<text text-anchor=\"start\" x=\"1353.5\" y=\"-489.3\" font-family=\"Times,serif\" font-size=\"14.00\" fill=\"#000000\">gini = 0.0</text>\n<text text-anchor=\"start\" x=\"1344.5\" y=\"-474.3\" font-family=\"Times,serif\" font-size=\"14.00\" fill=\"#000000\">samples = 10</text>\n<text text-anchor=\"start\" x=\"1339.5\" y=\"-459.3\" font-family=\"Times,serif\" font-size=\"14.00\" fill=\"#000000\">value = [0, 10]</text>\n<text text-anchor=\"start\" x=\"1347.5\" y=\"-444.3\" font-family=\"Times,serif\" font-size=\"14.00\" fill=\"#000000\">class = Lose</text>\n</g>\n<!-- 49&#45;&gt;59 -->\n<g id=\"edge53\" class=\"edge\">\n<title>49&#45;&gt;59</title>\n<path fill=\"none\" stroke=\"#000000\" d=\"M1271.9578,-547.8796C1289.3196,-535.7263 1308.2488,-522.4759 1325.4575,-510.4297\"/>\n<polygon fill=\"#000000\" stroke=\"#000000\" points=\"1327.5676,-513.225 1333.7528,-504.623 1323.5533,-507.4904 1327.5676,-513.225\"/>\n</g>\n<!-- 51 -->\n<g id=\"node46\" class=\"node\">\n<title>51</title>\n<polygon fill=\"#4da7e8\" stroke=\"#000000\" points=\"1286,-393 1139,-393 1139,-310 1286,-310 1286,-393\"/>\n<text text-anchor=\"start\" x=\"1147\" y=\"-377.8\" font-family=\"Times,serif\" font-size=\"14.00\" fill=\"#000000\">QB Age Visitor ≤ 26.5</text>\n<text text-anchor=\"start\" x=\"1176\" y=\"-362.8\" font-family=\"Times,serif\" font-size=\"14.00\" fill=\"#000000\">gini = 0.165</text>\n<text text-anchor=\"start\" x=\"1174.5\" y=\"-347.8\" font-family=\"Times,serif\" font-size=\"14.00\" fill=\"#000000\">samples = 11</text>\n<text text-anchor=\"start\" x=\"1169.5\" y=\"-332.8\" font-family=\"Times,serif\" font-size=\"14.00\" fill=\"#000000\">value = [1, 10]</text>\n<text text-anchor=\"start\" x=\"1177.5\" y=\"-317.8\" font-family=\"Times,serif\" font-size=\"14.00\" fill=\"#000000\">class = Lose</text>\n</g>\n<!-- 50&#45;&gt;51 -->\n<g id=\"edge45\" class=\"edge\">\n<title>50&#45;&gt;51</title>\n<path fill=\"none\" stroke=\"#000000\" d=\"M1212.5,-428.8796C1212.5,-420.6838 1212.5,-411.9891 1212.5,-403.5013\"/>\n<polygon fill=\"#000000\" stroke=\"#000000\" points=\"1216.0001,-403.298 1212.5,-393.2981 1209.0001,-403.2981 1216.0001,-403.298\"/>\n</g>\n<!-- 56 -->\n<g id=\"node51\" class=\"node\">\n<title>56</title>\n<polygon fill=\"#f2c09c\" stroke=\"#000000\" points=\"1547.5,-393 1363.5,-393 1363.5,-310 1547.5,-310 1547.5,-393\"/>\n<text text-anchor=\"start\" x=\"1371.5\" y=\"-377.8\" font-family=\"Times,serif\" font-size=\"14.00\" fill=\"#000000\">QBPFF_VisLessHom ≤ 14.9</text>\n<text text-anchor=\"start\" x=\"1419\" y=\"-362.8\" font-family=\"Times,serif\" font-size=\"14.00\" fill=\"#000000\">gini = 0.444</text>\n<text text-anchor=\"start\" x=\"1421\" y=\"-347.8\" font-family=\"Times,serif\" font-size=\"14.00\" fill=\"#000000\">samples = 3</text>\n<text text-anchor=\"start\" x=\"1416\" y=\"-332.8\" font-family=\"Times,serif\" font-size=\"14.00\" fill=\"#000000\">value = [2, 1]</text>\n<text text-anchor=\"start\" x=\"1422\" y=\"-317.8\" font-family=\"Times,serif\" font-size=\"14.00\" fill=\"#000000\">class = Win</text>\n</g>\n<!-- 50&#45;&gt;56 -->\n<g id=\"edge50\" class=\"edge\">\n<title>50&#45;&gt;56</title>\n<path fill=\"none\" stroke=\"#000000\" d=\"M1297.4896,-428.8796C1318.1148,-418.7791 1340.2875,-407.9209 1361.3099,-397.626\"/>\n<polygon fill=\"#000000\" stroke=\"#000000\" points=\"1363.1168,-400.6384 1370.5584,-393.0969 1360.0381,-394.3517 1363.1168,-400.6384\"/>\n</g>\n<!-- 52 -->\n<g id=\"node47\" class=\"node\">\n<title>52</title>\n<polygon fill=\"#ffffff\" stroke=\"#000000\" points=\"1277,-274 1074,-274 1074,-191 1277,-191 1277,-274\"/>\n<text text-anchor=\"start\" x=\"1082\" y=\"-258.8\" font-family=\"Times,serif\" font-size=\"14.00\" fill=\"#000000\">Home Avg 2019 score ≤ 18.875</text>\n<text text-anchor=\"start\" x=\"1146.5\" y=\"-243.8\" font-family=\"Times,serif\" font-size=\"14.00\" fill=\"#000000\">gini = 0.5</text>\n<text text-anchor=\"start\" x=\"1141\" y=\"-228.8\" font-family=\"Times,serif\" font-size=\"14.00\" fill=\"#000000\">samples = 2</text>\n<text text-anchor=\"start\" x=\"1136\" y=\"-213.8\" font-family=\"Times,serif\" font-size=\"14.00\" fill=\"#000000\">value = [1, 1]</text>\n<text text-anchor=\"start\" x=\"1142\" y=\"-198.8\" font-family=\"Times,serif\" font-size=\"14.00\" fill=\"#000000\">class = Win</text>\n</g>\n<!-- 51&#45;&gt;52 -->\n<g id=\"edge46\" class=\"edge\">\n<title>51&#45;&gt;52</title>\n<path fill=\"none\" stroke=\"#000000\" d=\"M1199.5592,-309.8796C1196.9549,-301.5037 1194.1886,-292.6067 1191.4946,-283.942\"/>\n<polygon fill=\"#000000\" stroke=\"#000000\" points=\"1194.8073,-282.808 1188.496,-274.2981 1188.123,-284.8863 1194.8073,-282.808\"/>\n</g>\n<!-- 55 -->\n<g id=\"node50\" class=\"node\">\n<title>55</title>\n<polygon fill=\"#399de5\" stroke=\"#000000\" points=\"1390,-266.5 1295,-266.5 1295,-198.5 1390,-198.5 1390,-266.5\"/>\n<text text-anchor=\"start\" x=\"1313.5\" y=\"-251.3\" font-family=\"Times,serif\" font-size=\"14.00\" fill=\"#000000\">gini = 0.0</text>\n<text text-anchor=\"start\" x=\"1308\" y=\"-236.3\" font-family=\"Times,serif\" font-size=\"14.00\" fill=\"#000000\">samples = 9</text>\n<text text-anchor=\"start\" x=\"1303\" y=\"-221.3\" font-family=\"Times,serif\" font-size=\"14.00\" fill=\"#000000\">value = [0, 9]</text>\n<text text-anchor=\"start\" x=\"1307.5\" y=\"-206.3\" font-family=\"Times,serif\" font-size=\"14.00\" fill=\"#000000\">class = Lose</text>\n</g>\n<!-- 51&#45;&gt;55 -->\n<g id=\"edge49\" class=\"edge\">\n<title>51&#45;&gt;55</title>\n<path fill=\"none\" stroke=\"#000000\" d=\"M1257.9677,-309.8796C1270.8211,-298.1138 1284.7979,-285.3197 1297.6166,-273.5855\"/>\n<polygon fill=\"#000000\" stroke=\"#000000\" points=\"1300.0001,-276.1488 1305.0131,-266.8149 1295.2736,-270.9854 1300.0001,-276.1488\"/>\n</g>\n<!-- 53 -->\n<g id=\"node48\" class=\"node\">\n<title>53</title>\n<polygon fill=\"#399de5\" stroke=\"#000000\" points=\"1195,-147.5 1100,-147.5 1100,-79.5 1195,-79.5 1195,-147.5\"/>\n<text text-anchor=\"start\" x=\"1118.5\" y=\"-132.3\" font-family=\"Times,serif\" font-size=\"14.00\" fill=\"#000000\">gini = 0.0</text>\n<text text-anchor=\"start\" x=\"1113\" y=\"-117.3\" font-family=\"Times,serif\" font-size=\"14.00\" fill=\"#000000\">samples = 1</text>\n<text text-anchor=\"start\" x=\"1108\" y=\"-102.3\" font-family=\"Times,serif\" font-size=\"14.00\" fill=\"#000000\">value = [0, 1]</text>\n<text text-anchor=\"start\" x=\"1112.5\" y=\"-87.3\" font-family=\"Times,serif\" font-size=\"14.00\" fill=\"#000000\">class = Lose</text>\n</g>\n<!-- 52&#45;&gt;53 -->\n<g id=\"edge47\" class=\"edge\">\n<title>52&#45;&gt;53</title>\n<path fill=\"none\" stroke=\"#000000\" d=\"M1165.707,-190.8796C1163.1714,-180.1034 1160.4329,-168.4647 1157.8689,-157.5677\"/>\n<polygon fill=\"#000000\" stroke=\"#000000\" points=\"1161.2715,-156.7474 1155.5741,-147.8149 1154.4576,-158.3508 1161.2715,-156.7474\"/>\n</g>\n<!-- 54 -->\n<g id=\"node49\" class=\"node\">\n<title>54</title>\n<polygon fill=\"#e58139\" stroke=\"#000000\" points=\"1308,-147.5 1213,-147.5 1213,-79.5 1308,-79.5 1308,-147.5\"/>\n<text text-anchor=\"start\" x=\"1231.5\" y=\"-132.3\" font-family=\"Times,serif\" font-size=\"14.00\" fill=\"#000000\">gini = 0.0</text>\n<text text-anchor=\"start\" x=\"1226\" y=\"-117.3\" font-family=\"Times,serif\" font-size=\"14.00\" fill=\"#000000\">samples = 1</text>\n<text text-anchor=\"start\" x=\"1221\" y=\"-102.3\" font-family=\"Times,serif\" font-size=\"14.00\" fill=\"#000000\">value = [1, 0]</text>\n<text text-anchor=\"start\" x=\"1227\" y=\"-87.3\" font-family=\"Times,serif\" font-size=\"14.00\" fill=\"#000000\">class = Win</text>\n</g>\n<!-- 52&#45;&gt;54 -->\n<g id=\"edge48\" class=\"edge\">\n<title>52&#45;&gt;54</title>\n<path fill=\"none\" stroke=\"#000000\" d=\"M1205.2289,-190.8796C1213.2403,-179.6636 1221.9192,-167.5131 1229.9734,-156.2372\"/>\n<polygon fill=\"#000000\" stroke=\"#000000\" points=\"1233.025,-157.9866 1235.9893,-147.8149 1227.3288,-153.9179 1233.025,-157.9866\"/>\n</g>\n<!-- 57 -->\n<g id=\"node52\" class=\"node\">\n<title>57</title>\n<polygon fill=\"#399de5\" stroke=\"#000000\" points=\"1503,-266.5 1408,-266.5 1408,-198.5 1503,-198.5 1503,-266.5\"/>\n<text text-anchor=\"start\" x=\"1426.5\" y=\"-251.3\" font-family=\"Times,serif\" font-size=\"14.00\" fill=\"#000000\">gini = 0.0</text>\n<text text-anchor=\"start\" x=\"1421\" y=\"-236.3\" font-family=\"Times,serif\" font-size=\"14.00\" fill=\"#000000\">samples = 1</text>\n<text text-anchor=\"start\" x=\"1416\" y=\"-221.3\" font-family=\"Times,serif\" font-size=\"14.00\" fill=\"#000000\">value = [0, 1]</text>\n<text text-anchor=\"start\" x=\"1420.5\" y=\"-206.3\" font-family=\"Times,serif\" font-size=\"14.00\" fill=\"#000000\">class = Lose</text>\n</g>\n<!-- 56&#45;&gt;57 -->\n<g id=\"edge51\" class=\"edge\">\n<title>56&#45;&gt;57</title>\n<path fill=\"none\" stroke=\"#000000\" d=\"M1455.5,-309.8796C1455.5,-299.2134 1455.5,-287.7021 1455.5,-276.9015\"/>\n<polygon fill=\"#000000\" stroke=\"#000000\" points=\"1459.0001,-276.8149 1455.5,-266.8149 1452.0001,-276.815 1459.0001,-276.8149\"/>\n</g>\n<!-- 58 -->\n<g id=\"node53\" class=\"node\">\n<title>58</title>\n<polygon fill=\"#e58139\" stroke=\"#000000\" points=\"1616,-266.5 1521,-266.5 1521,-198.5 1616,-198.5 1616,-266.5\"/>\n<text text-anchor=\"start\" x=\"1539.5\" y=\"-251.3\" font-family=\"Times,serif\" font-size=\"14.00\" fill=\"#000000\">gini = 0.0</text>\n<text text-anchor=\"start\" x=\"1534\" y=\"-236.3\" font-family=\"Times,serif\" font-size=\"14.00\" fill=\"#000000\">samples = 2</text>\n<text text-anchor=\"start\" x=\"1529\" y=\"-221.3\" font-family=\"Times,serif\" font-size=\"14.00\" fill=\"#000000\">value = [2, 0]</text>\n<text text-anchor=\"start\" x=\"1535\" y=\"-206.3\" font-family=\"Times,serif\" font-size=\"14.00\" fill=\"#000000\">class = Win</text>\n</g>\n<!-- 56&#45;&gt;58 -->\n<g id=\"edge52\" class=\"edge\">\n<title>56&#45;&gt;58</title>\n<path fill=\"none\" stroke=\"#000000\" d=\"M1495.0219,-309.8796C1505.9857,-298.3337 1517.8897,-285.7976 1528.8601,-274.2446\"/>\n<polygon fill=\"#000000\" stroke=\"#000000\" points=\"1531.5673,-276.4766 1535.9152,-266.8149 1526.4913,-271.6564 1531.5673,-276.4766\"/>\n</g>\n<!-- 61 -->\n<g id=\"node56\" class=\"node\">\n<title>61</title>\n<polygon fill=\"#399de5\" stroke=\"#000000\" points=\"1450,-623.5 1355,-623.5 1355,-555.5 1450,-555.5 1450,-623.5\"/>\n<text text-anchor=\"start\" x=\"1373.5\" y=\"-608.3\" font-family=\"Times,serif\" font-size=\"14.00\" fill=\"#000000\">gini = 0.0</text>\n<text text-anchor=\"start\" x=\"1368\" y=\"-593.3\" font-family=\"Times,serif\" font-size=\"14.00\" fill=\"#000000\">samples = 3</text>\n<text text-anchor=\"start\" x=\"1363\" y=\"-578.3\" font-family=\"Times,serif\" font-size=\"14.00\" fill=\"#000000\">value = [0, 3]</text>\n<text text-anchor=\"start\" x=\"1367.5\" y=\"-563.3\" font-family=\"Times,serif\" font-size=\"14.00\" fill=\"#000000\">class = Lose</text>\n</g>\n<!-- 60&#45;&gt;61 -->\n<g id=\"edge55\" class=\"edge\">\n<title>60&#45;&gt;61</title>\n<path fill=\"none\" stroke=\"#000000\" d=\"M1417.4557,-666.8796C1415.3942,-656.2134 1413.1693,-644.7021 1411.0818,-633.9015\"/>\n<polygon fill=\"#000000\" stroke=\"#000000\" points=\"1414.4664,-632.969 1409.1323,-623.8149 1407.5936,-634.2974 1414.4664,-632.969\"/>\n</g>\n<!-- 62 -->\n<g id=\"node57\" class=\"node\">\n<title>62</title>\n<polygon fill=\"#e99457\" stroke=\"#000000\" points=\"1652.5,-631 1468.5,-631 1468.5,-548 1652.5,-548 1652.5,-631\"/>\n<text text-anchor=\"start\" x=\"1476.5\" y=\"-615.8\" font-family=\"Times,serif\" font-size=\"14.00\" fill=\"#000000\">QBPFF_VisLessHom ≤ 7.95</text>\n<text text-anchor=\"start\" x=\"1524\" y=\"-600.8\" font-family=\"Times,serif\" font-size=\"14.00\" fill=\"#000000\">gini = 0.231</text>\n<text text-anchor=\"start\" x=\"1522.5\" y=\"-585.8\" font-family=\"Times,serif\" font-size=\"14.00\" fill=\"#000000\">samples = 15</text>\n<text text-anchor=\"start\" x=\"1517.5\" y=\"-570.8\" font-family=\"Times,serif\" font-size=\"14.00\" fill=\"#000000\">value = [13, 2]</text>\n<text text-anchor=\"start\" x=\"1527\" y=\"-555.8\" font-family=\"Times,serif\" font-size=\"14.00\" fill=\"#000000\">class = Win</text>\n</g>\n<!-- 60&#45;&gt;62 -->\n<g id=\"edge56\" class=\"edge\">\n<title>60&#45;&gt;62</title>\n<path fill=\"none\" stroke=\"#000000\" d=\"M1472.7164,-666.8796C1483.2402,-657.6031 1494.4891,-647.6874 1505.3021,-638.1559\"/>\n<polygon fill=\"#000000\" stroke=\"#000000\" points=\"1507.8948,-640.5362 1513.082,-631.2981 1503.266,-635.2851 1507.8948,-640.5362\"/>\n</g>\n<!-- 63 -->\n<g id=\"node58\" class=\"node\">\n<title>63</title>\n<polygon fill=\"#e58139\" stroke=\"#000000\" points=\"1550,-504.5 1455,-504.5 1455,-436.5 1550,-436.5 1550,-504.5\"/>\n<text text-anchor=\"start\" x=\"1473.5\" y=\"-489.3\" font-family=\"Times,serif\" font-size=\"14.00\" fill=\"#000000\">gini = 0.0</text>\n<text text-anchor=\"start\" x=\"1468\" y=\"-474.3\" font-family=\"Times,serif\" font-size=\"14.00\" fill=\"#000000\">samples = 9</text>\n<text text-anchor=\"start\" x=\"1463\" y=\"-459.3\" font-family=\"Times,serif\" font-size=\"14.00\" fill=\"#000000\">value = [9, 0]</text>\n<text text-anchor=\"start\" x=\"1469\" y=\"-444.3\" font-family=\"Times,serif\" font-size=\"14.00\" fill=\"#000000\">class = Win</text>\n</g>\n<!-- 62&#45;&gt;63 -->\n<g id=\"edge57\" class=\"edge\">\n<title>62&#45;&gt;63</title>\n<path fill=\"none\" stroke=\"#000000\" d=\"M1540.2144,-547.8796C1534.855,-536.8835 1529.0578,-524.9893 1523.6537,-513.9015\"/>\n<polygon fill=\"#000000\" stroke=\"#000000\" points=\"1526.7524,-512.2706 1519.2249,-504.8149 1520.46,-515.3375 1526.7524,-512.2706\"/>\n</g>\n<!-- 64 -->\n<g id=\"node59\" class=\"node\">\n<title>64</title>\n<polygon fill=\"#f2c09c\" stroke=\"#000000\" points=\"1744.5,-512 1568.5,-512 1568.5,-429 1744.5,-429 1744.5,-512\"/>\n<text text-anchor=\"start\" x=\"1576.5\" y=\"-496.8\" font-family=\"Times,serif\" font-size=\"14.00\" fill=\"#000000\">QBPFF_VisLessHom ≤ 9.8</text>\n<text text-anchor=\"start\" x=\"1620\" y=\"-481.8\" font-family=\"Times,serif\" font-size=\"14.00\" fill=\"#000000\">gini = 0.444</text>\n<text text-anchor=\"start\" x=\"1622\" y=\"-466.8\" font-family=\"Times,serif\" font-size=\"14.00\" fill=\"#000000\">samples = 6</text>\n<text text-anchor=\"start\" x=\"1617\" y=\"-451.8\" font-family=\"Times,serif\" font-size=\"14.00\" fill=\"#000000\">value = [4, 2]</text>\n<text text-anchor=\"start\" x=\"1623\" y=\"-436.8\" font-family=\"Times,serif\" font-size=\"14.00\" fill=\"#000000\">class = Win</text>\n</g>\n<!-- 62&#45;&gt;64 -->\n<g id=\"edge58\" class=\"edge\">\n<title>62&#45;&gt;64</title>\n<path fill=\"none\" stroke=\"#000000\" d=\"M1594.0761,-547.8796C1601.2691,-538.9633 1608.9384,-529.4565 1616.351,-520.268\"/>\n<polygon fill=\"#000000\" stroke=\"#000000\" points=\"1619.2258,-522.2788 1622.7805,-512.2981 1613.7776,-517.8836 1619.2258,-522.2788\"/>\n</g>\n<!-- 65 -->\n<g id=\"node60\" class=\"node\">\n<title>65</title>\n<polygon fill=\"#399de5\" stroke=\"#000000\" points=\"1681,-385.5 1586,-385.5 1586,-317.5 1681,-317.5 1681,-385.5\"/>\n<text text-anchor=\"start\" x=\"1604.5\" y=\"-370.3\" font-family=\"Times,serif\" font-size=\"14.00\" fill=\"#000000\">gini = 0.0</text>\n<text text-anchor=\"start\" x=\"1599\" y=\"-355.3\" font-family=\"Times,serif\" font-size=\"14.00\" fill=\"#000000\">samples = 1</text>\n<text text-anchor=\"start\" x=\"1594\" y=\"-340.3\" font-family=\"Times,serif\" font-size=\"14.00\" fill=\"#000000\">value = [0, 1]</text>\n<text text-anchor=\"start\" x=\"1598.5\" y=\"-325.3\" font-family=\"Times,serif\" font-size=\"14.00\" fill=\"#000000\">class = Lose</text>\n</g>\n<!-- 64&#45;&gt;65 -->\n<g id=\"edge59\" class=\"edge\">\n<title>64&#45;&gt;65</title>\n<path fill=\"none\" stroke=\"#000000\" d=\"M1648.4557,-428.8796C1646.3942,-418.2134 1644.1693,-406.7021 1642.0818,-395.9015\"/>\n<polygon fill=\"#000000\" stroke=\"#000000\" points=\"1645.4664,-394.969 1640.1323,-385.8149 1638.5936,-396.2974 1645.4664,-394.969\"/>\n</g>\n<!-- 66 -->\n<g id=\"node61\" class=\"node\">\n<title>66</title>\n<polygon fill=\"#eca06a\" stroke=\"#000000\" points=\"1902,-393 1699,-393 1699,-310 1902,-310 1902,-393\"/>\n<text text-anchor=\"start\" x=\"1707\" y=\"-377.8\" font-family=\"Times,serif\" font-size=\"14.00\" fill=\"#000000\">AvgScore_VisLessHom ≤ 5.062</text>\n<text text-anchor=\"start\" x=\"1768\" y=\"-362.8\" font-family=\"Times,serif\" font-size=\"14.00\" fill=\"#000000\">gini = 0.32</text>\n<text text-anchor=\"start\" x=\"1766\" y=\"-347.8\" font-family=\"Times,serif\" font-size=\"14.00\" fill=\"#000000\">samples = 5</text>\n<text text-anchor=\"start\" x=\"1761\" y=\"-332.8\" font-family=\"Times,serif\" font-size=\"14.00\" fill=\"#000000\">value = [4, 1]</text>\n<text text-anchor=\"start\" x=\"1767\" y=\"-317.8\" font-family=\"Times,serif\" font-size=\"14.00\" fill=\"#000000\">class = Win</text>\n</g>\n<!-- 64&#45;&gt;66 -->\n<g id=\"edge60\" class=\"edge\">\n<title>64&#45;&gt;66</title>\n<path fill=\"none\" stroke=\"#000000\" d=\"M1706.8642,-428.8796C1718.1985,-419.513 1730.3215,-409.4948 1741.9581,-399.8784\"/>\n<polygon fill=\"#000000\" stroke=\"#000000\" points=\"1744.4419,-402.3663 1749.9208,-393.2981 1739.9827,-396.9703 1744.4419,-402.3663\"/>\n</g>\n<!-- 67 -->\n<g id=\"node62\" class=\"node\">\n<title>67</title>\n<polygon fill=\"#e58139\" stroke=\"#000000\" points=\"1729,-266.5 1634,-266.5 1634,-198.5 1729,-198.5 1729,-266.5\"/>\n<text text-anchor=\"start\" x=\"1652.5\" y=\"-251.3\" font-family=\"Times,serif\" font-size=\"14.00\" fill=\"#000000\">gini = 0.0</text>\n<text text-anchor=\"start\" x=\"1647\" y=\"-236.3\" font-family=\"Times,serif\" font-size=\"14.00\" fill=\"#000000\">samples = 3</text>\n<text text-anchor=\"start\" x=\"1642\" y=\"-221.3\" font-family=\"Times,serif\" font-size=\"14.00\" fill=\"#000000\">value = [3, 0]</text>\n<text text-anchor=\"start\" x=\"1648\" y=\"-206.3\" font-family=\"Times,serif\" font-size=\"14.00\" fill=\"#000000\">class = Win</text>\n</g>\n<!-- 66&#45;&gt;67 -->\n<g id=\"edge61\" class=\"edge\">\n<title>66&#45;&gt;67</title>\n<path fill=\"none\" stroke=\"#000000\" d=\"M1758.8796,-309.8796C1747.2237,-298.2237 1734.5587,-285.5587 1722.9148,-273.9148\"/>\n<polygon fill=\"#000000\" stroke=\"#000000\" points=\"1725.3609,-271.4111 1715.8149,-266.8149 1720.4111,-276.3609 1725.3609,-271.4111\"/>\n</g>\n<!-- 68 -->\n<g id=\"node63\" class=\"node\">\n<title>68</title>\n<polygon fill=\"#ffffff\" stroke=\"#000000\" points=\"1931.5,-274 1747.5,-274 1747.5,-191 1931.5,-191 1931.5,-274\"/>\n<text text-anchor=\"start\" x=\"1755.5\" y=\"-258.8\" font-family=\"Times,serif\" font-size=\"14.00\" fill=\"#000000\">QBPFF_VisLessHom ≤ 12.6</text>\n<text text-anchor=\"start\" x=\"1810.5\" y=\"-243.8\" font-family=\"Times,serif\" font-size=\"14.00\" fill=\"#000000\">gini = 0.5</text>\n<text text-anchor=\"start\" x=\"1805\" y=\"-228.8\" font-family=\"Times,serif\" font-size=\"14.00\" fill=\"#000000\">samples = 2</text>\n<text text-anchor=\"start\" x=\"1800\" y=\"-213.8\" font-family=\"Times,serif\" font-size=\"14.00\" fill=\"#000000\">value = [1, 1]</text>\n<text text-anchor=\"start\" x=\"1806\" y=\"-198.8\" font-family=\"Times,serif\" font-size=\"14.00\" fill=\"#000000\">class = Win</text>\n</g>\n<!-- 66&#45;&gt;68 -->\n<g id=\"edge62\" class=\"edge\">\n<title>66&#45;&gt;68</title>\n<path fill=\"none\" stroke=\"#000000\" d=\"M1814.1403,-309.8796C1816.8853,-301.5037 1819.8012,-292.6067 1822.6409,-283.942\"/>\n<polygon fill=\"#000000\" stroke=\"#000000\" points=\"1826.013,-284.8908 1825.8015,-274.2981 1819.3611,-282.7107 1826.013,-284.8908\"/>\n</g>\n<!-- 69 -->\n<g id=\"node64\" class=\"node\">\n<title>69</title>\n<polygon fill=\"#e58139\" stroke=\"#000000\" points=\"1774,-147.5 1679,-147.5 1679,-79.5 1774,-79.5 1774,-147.5\"/>\n<text text-anchor=\"start\" x=\"1697.5\" y=\"-132.3\" font-family=\"Times,serif\" font-size=\"14.00\" fill=\"#000000\">gini = 0.0</text>\n<text text-anchor=\"start\" x=\"1692\" y=\"-117.3\" font-family=\"Times,serif\" font-size=\"14.00\" fill=\"#000000\">samples = 1</text>\n<text text-anchor=\"start\" x=\"1687\" y=\"-102.3\" font-family=\"Times,serif\" font-size=\"14.00\" fill=\"#000000\">value = [1, 0]</text>\n<text text-anchor=\"start\" x=\"1693\" y=\"-87.3\" font-family=\"Times,serif\" font-size=\"14.00\" fill=\"#000000\">class = Win</text>\n</g>\n<!-- 68&#45;&gt;69 -->\n<g id=\"edge63\" class=\"edge\">\n<title>68&#45;&gt;69</title>\n<path fill=\"none\" stroke=\"#000000\" d=\"M1799.9781,-190.8796C1789.0143,-179.3337 1777.1103,-166.7976 1766.1399,-155.2446\"/>\n<polygon fill=\"#000000\" stroke=\"#000000\" points=\"1768.5087,-152.6564 1759.0848,-147.8149 1763.4327,-157.4766 1768.5087,-152.6564\"/>\n</g>\n<!-- 70 -->\n<g id=\"node65\" class=\"node\">\n<title>70</title>\n<polygon fill=\"#399de5\" stroke=\"#000000\" points=\"1887,-147.5 1792,-147.5 1792,-79.5 1887,-79.5 1887,-147.5\"/>\n<text text-anchor=\"start\" x=\"1810.5\" y=\"-132.3\" font-family=\"Times,serif\" font-size=\"14.00\" fill=\"#000000\">gini = 0.0</text>\n<text text-anchor=\"start\" x=\"1805\" y=\"-117.3\" font-family=\"Times,serif\" font-size=\"14.00\" fill=\"#000000\">samples = 1</text>\n<text text-anchor=\"start\" x=\"1800\" y=\"-102.3\" font-family=\"Times,serif\" font-size=\"14.00\" fill=\"#000000\">value = [0, 1]</text>\n<text text-anchor=\"start\" x=\"1804.5\" y=\"-87.3\" font-family=\"Times,serif\" font-size=\"14.00\" fill=\"#000000\">class = Lose</text>\n</g>\n<!-- 68&#45;&gt;70 -->\n<g id=\"edge64\" class=\"edge\">\n<title>68&#45;&gt;70</title>\n<path fill=\"none\" stroke=\"#000000\" d=\"M1839.5,-190.8796C1839.5,-180.2134 1839.5,-168.7021 1839.5,-157.9015\"/>\n<polygon fill=\"#000000\" stroke=\"#000000\" points=\"1843.0001,-157.8149 1839.5,-147.8149 1836.0001,-157.815 1843.0001,-157.8149\"/>\n</g>\n<!-- 72 -->\n<g id=\"node67\" class=\"node\">\n<title>72</title>\n<polygon fill=\"#e58139\" stroke=\"#000000\" points=\"1689,-742.5 1594,-742.5 1594,-674.5 1689,-674.5 1689,-742.5\"/>\n<text text-anchor=\"start\" x=\"1612.5\" y=\"-727.3\" font-family=\"Times,serif\" font-size=\"14.00\" fill=\"#000000\">gini = 0.0</text>\n<text text-anchor=\"start\" x=\"1607\" y=\"-712.3\" font-family=\"Times,serif\" font-size=\"14.00\" fill=\"#000000\">samples = 1</text>\n<text text-anchor=\"start\" x=\"1602\" y=\"-697.3\" font-family=\"Times,serif\" font-size=\"14.00\" fill=\"#000000\">value = [1, 0]</text>\n<text text-anchor=\"start\" x=\"1608\" y=\"-682.3\" font-family=\"Times,serif\" font-size=\"14.00\" fill=\"#000000\">class = Win</text>\n</g>\n<!-- 71&#45;&gt;72 -->\n<g id=\"edge66\" class=\"edge\">\n<title>71&#45;&gt;72</title>\n<path fill=\"none\" stroke=\"#000000\" d=\"M1641.5,-785.8796C1641.5,-775.2134 1641.5,-763.7021 1641.5,-752.9015\"/>\n<polygon fill=\"#000000\" stroke=\"#000000\" points=\"1645.0001,-752.8149 1641.5,-742.8149 1638.0001,-752.815 1645.0001,-752.8149\"/>\n</g>\n<!-- 73 -->\n<g id=\"node68\" class=\"node\">\n<title>73</title>\n<polygon fill=\"#45a3e7\" stroke=\"#000000\" points=\"1915.5,-750 1707.5,-750 1707.5,-667 1915.5,-667 1915.5,-750\"/>\n<text text-anchor=\"start\" x=\"1715.5\" y=\"-734.8\" font-family=\"Times,serif\" font-size=\"14.00\" fill=\"#000000\">AvgScore_VisLessHom ≤ &#45;5.188</text>\n<text text-anchor=\"start\" x=\"1776\" y=\"-719.8\" font-family=\"Times,serif\" font-size=\"14.00\" fill=\"#000000\">gini = 0.111</text>\n<text text-anchor=\"start\" x=\"1773.5\" y=\"-704.8\" font-family=\"Times,serif\" font-size=\"14.00\" fill=\"#000000\">samples = 17</text>\n<text text-anchor=\"start\" x=\"1768.5\" y=\"-689.8\" font-family=\"Times,serif\" font-size=\"14.00\" fill=\"#000000\">value = [1, 16]</text>\n<text text-anchor=\"start\" x=\"1776.5\" y=\"-674.8\" font-family=\"Times,serif\" font-size=\"14.00\" fill=\"#000000\">class = Lose</text>\n</g>\n<!-- 71&#45;&gt;73 -->\n<g id=\"edge67\" class=\"edge\">\n<title>71&#45;&gt;73</title>\n<path fill=\"none\" stroke=\"#000000\" d=\"M1700.9578,-785.8796C1714.8046,-776.1868 1729.6484,-765.7961 1743.8212,-755.8752\"/>\n<polygon fill=\"#000000\" stroke=\"#000000\" points=\"1745.8906,-758.6989 1752.0758,-750.0969 1741.8764,-752.9643 1745.8906,-758.6989\"/>\n</g>\n<!-- 74 -->\n<g id=\"node69\" class=\"node\">\n<title>74</title>\n<polygon fill=\"#ffffff\" stroke=\"#000000\" points=\"1910.5,-631 1712.5,-631 1712.5,-548 1910.5,-548 1910.5,-631\"/>\n<text text-anchor=\"start\" x=\"1720.5\" y=\"-615.8\" font-family=\"Times,serif\" font-size=\"14.00\" fill=\"#000000\">Visitor Avg 2019 score ≤ 18.75</text>\n<text text-anchor=\"start\" x=\"1782.5\" y=\"-600.8\" font-family=\"Times,serif\" font-size=\"14.00\" fill=\"#000000\">gini = 0.5</text>\n<text text-anchor=\"start\" x=\"1777\" y=\"-585.8\" font-family=\"Times,serif\" font-size=\"14.00\" fill=\"#000000\">samples = 2</text>\n<text text-anchor=\"start\" x=\"1772\" y=\"-570.8\" font-family=\"Times,serif\" font-size=\"14.00\" fill=\"#000000\">value = [1, 1]</text>\n<text text-anchor=\"start\" x=\"1778\" y=\"-555.8\" font-family=\"Times,serif\" font-size=\"14.00\" fill=\"#000000\">class = Win</text>\n</g>\n<!-- 73&#45;&gt;74 -->\n<g id=\"edge68\" class=\"edge\">\n<title>73&#45;&gt;74</title>\n<path fill=\"none\" stroke=\"#000000\" d=\"M1811.5,-666.8796C1811.5,-658.6838 1811.5,-649.9891 1811.5,-641.5013\"/>\n<polygon fill=\"#000000\" stroke=\"#000000\" points=\"1815.0001,-641.298 1811.5,-631.2981 1808.0001,-641.2981 1815.0001,-641.298\"/>\n</g>\n<!-- 77 -->\n<g id=\"node72\" class=\"node\">\n<title>77</title>\n<polygon fill=\"#399de5\" stroke=\"#000000\" points=\"2030.5,-623.5 1928.5,-623.5 1928.5,-555.5 2030.5,-555.5 2030.5,-623.5\"/>\n<text text-anchor=\"start\" x=\"1950.5\" y=\"-608.3\" font-family=\"Times,serif\" font-size=\"14.00\" fill=\"#000000\">gini = 0.0</text>\n<text text-anchor=\"start\" x=\"1941.5\" y=\"-593.3\" font-family=\"Times,serif\" font-size=\"14.00\" fill=\"#000000\">samples = 15</text>\n<text text-anchor=\"start\" x=\"1936.5\" y=\"-578.3\" font-family=\"Times,serif\" font-size=\"14.00\" fill=\"#000000\">value = [0, 15]</text>\n<text text-anchor=\"start\" x=\"1944.5\" y=\"-563.3\" font-family=\"Times,serif\" font-size=\"14.00\" fill=\"#000000\">class = Lose</text>\n</g>\n<!-- 73&#45;&gt;77 -->\n<g id=\"edge71\" class=\"edge\">\n<title>73&#45;&gt;77</title>\n<path fill=\"none\" stroke=\"#000000\" d=\"M1870.2582,-666.8796C1887.4158,-654.7263 1906.1223,-641.4759 1923.1286,-629.4297\"/>\n<polygon fill=\"#000000\" stroke=\"#000000\" points=\"1925.1891,-632.2593 1931.3263,-623.623 1921.143,-626.5472 1925.1891,-632.2593\"/>\n</g>\n<!-- 75 -->\n<g id=\"node70\" class=\"node\">\n<title>75</title>\n<polygon fill=\"#399de5\" stroke=\"#000000\" points=\"1859,-504.5 1764,-504.5 1764,-436.5 1859,-436.5 1859,-504.5\"/>\n<text text-anchor=\"start\" x=\"1782.5\" y=\"-489.3\" font-family=\"Times,serif\" font-size=\"14.00\" fill=\"#000000\">gini = 0.0</text>\n<text text-anchor=\"start\" x=\"1777\" y=\"-474.3\" font-family=\"Times,serif\" font-size=\"14.00\" fill=\"#000000\">samples = 1</text>\n<text text-anchor=\"start\" x=\"1772\" y=\"-459.3\" font-family=\"Times,serif\" font-size=\"14.00\" fill=\"#000000\">value = [0, 1]</text>\n<text text-anchor=\"start\" x=\"1776.5\" y=\"-444.3\" font-family=\"Times,serif\" font-size=\"14.00\" fill=\"#000000\">class = Lose</text>\n</g>\n<!-- 74&#45;&gt;75 -->\n<g id=\"edge69\" class=\"edge\">\n<title>74&#45;&gt;75</title>\n<path fill=\"none\" stroke=\"#000000\" d=\"M1811.5,-547.8796C1811.5,-537.2134 1811.5,-525.7021 1811.5,-514.9015\"/>\n<polygon fill=\"#000000\" stroke=\"#000000\" points=\"1815.0001,-514.8149 1811.5,-504.8149 1808.0001,-514.815 1815.0001,-514.8149\"/>\n</g>\n<!-- 76 -->\n<g id=\"node71\" class=\"node\">\n<title>76</title>\n<polygon fill=\"#e58139\" stroke=\"#000000\" points=\"1972,-504.5 1877,-504.5 1877,-436.5 1972,-436.5 1972,-504.5\"/>\n<text text-anchor=\"start\" x=\"1895.5\" y=\"-489.3\" font-family=\"Times,serif\" font-size=\"14.00\" fill=\"#000000\">gini = 0.0</text>\n<text text-anchor=\"start\" x=\"1890\" y=\"-474.3\" font-family=\"Times,serif\" font-size=\"14.00\" fill=\"#000000\">samples = 1</text>\n<text text-anchor=\"start\" x=\"1885\" y=\"-459.3\" font-family=\"Times,serif\" font-size=\"14.00\" fill=\"#000000\">value = [1, 0]</text>\n<text text-anchor=\"start\" x=\"1891\" y=\"-444.3\" font-family=\"Times,serif\" font-size=\"14.00\" fill=\"#000000\">class = Win</text>\n</g>\n<!-- 74&#45;&gt;76 -->\n<g id=\"edge70\" class=\"edge\">\n<title>74&#45;&gt;76</title>\n<path fill=\"none\" stroke=\"#000000\" d=\"M1851.0219,-547.8796C1861.9857,-536.3337 1873.8897,-523.7976 1884.8601,-512.2446\"/>\n<polygon fill=\"#000000\" stroke=\"#000000\" points=\"1887.5673,-514.4766 1891.9152,-504.8149 1882.4913,-509.6564 1887.5673,-514.4766\"/>\n</g>\n<!-- 79 -->\n<g id=\"node74\" class=\"node\">\n<title>79</title>\n<polygon fill=\"#72b9ec\" stroke=\"#000000\" points=\"1942.5,-1107 1754.5,-1107 1754.5,-1024 1942.5,-1024 1942.5,-1107\"/>\n<text text-anchor=\"start\" x=\"1762.5\" y=\"-1091.8\" font-family=\"Times,serif\" font-size=\"14.00\" fill=\"#000000\">QBPFF_VisLessHom ≤ &#45;20.2</text>\n<text text-anchor=\"start\" x=\"1812\" y=\"-1076.8\" font-family=\"Times,serif\" font-size=\"14.00\" fill=\"#000000\">gini = 0.346</text>\n<text text-anchor=\"start\" x=\"1814\" y=\"-1061.8\" font-family=\"Times,serif\" font-size=\"14.00\" fill=\"#000000\">samples = 9</text>\n<text text-anchor=\"start\" x=\"1809\" y=\"-1046.8\" font-family=\"Times,serif\" font-size=\"14.00\" fill=\"#000000\">value = [2, 7]</text>\n<text text-anchor=\"start\" x=\"1813.5\" y=\"-1031.8\" font-family=\"Times,serif\" font-size=\"14.00\" fill=\"#000000\">class = Lose</text>\n</g>\n<!-- 78&#45;&gt;79 -->\n<g id=\"edge73\" class=\"edge\">\n<title>78&#45;&gt;79</title>\n<path fill=\"none\" stroke=\"#000000\" d=\"M1848.5,-1142.8796C1848.5,-1134.6838 1848.5,-1125.9891 1848.5,-1117.5013\"/>\n<polygon fill=\"#000000\" stroke=\"#000000\" points=\"1852.0001,-1117.298 1848.5,-1107.2981 1845.0001,-1117.2981 1852.0001,-1117.298\"/>\n</g>\n<!-- 86 -->\n<g id=\"node81\" class=\"node\">\n<title>86</title>\n<polygon fill=\"#efb184\" stroke=\"#000000\" points=\"2407.5,-1107 2201.5,-1107 2201.5,-1024 2407.5,-1024 2407.5,-1107\"/>\n<text text-anchor=\"start\" x=\"2209.5\" y=\"-1091.8\" font-family=\"Times,serif\" font-size=\"14.00\" fill=\"#000000\">Visitor Avg 2019 score ≤ 28.562</text>\n<text text-anchor=\"start\" x=\"2268\" y=\"-1076.8\" font-family=\"Times,serif\" font-size=\"14.00\" fill=\"#000000\">gini = 0.398</text>\n<text text-anchor=\"start\" x=\"2266.5\" y=\"-1061.8\" font-family=\"Times,serif\" font-size=\"14.00\" fill=\"#000000\">samples = 62</text>\n<text text-anchor=\"start\" x=\"2257.5\" y=\"-1046.8\" font-family=\"Times,serif\" font-size=\"14.00\" fill=\"#000000\">value = [45, 17]</text>\n<text text-anchor=\"start\" x=\"2271\" y=\"-1031.8\" font-family=\"Times,serif\" font-size=\"14.00\" fill=\"#000000\">class = Win</text>\n</g>\n<!-- 78&#45;&gt;86 -->\n<g id=\"edge80\" class=\"edge\">\n<title>78&#45;&gt;86</title>\n<path fill=\"none\" stroke=\"#000000\" d=\"M1956.2768,-1156.374C2027.0767,-1137.8977 2119.5396,-1113.7682 2191.3926,-1095.0171\"/>\n<polygon fill=\"#000000\" stroke=\"#000000\" points=\"2192.598,-1098.3198 2201.3902,-1092.4081 2190.8304,-1091.5466 2192.598,-1098.3198\"/>\n</g>\n<!-- 80 -->\n<g id=\"node75\" class=\"node\">\n<title>80</title>\n<polygon fill=\"#e58139\" stroke=\"#000000\" points=\"1817,-980.5 1722,-980.5 1722,-912.5 1817,-912.5 1817,-980.5\"/>\n<text text-anchor=\"start\" x=\"1740.5\" y=\"-965.3\" font-family=\"Times,serif\" font-size=\"14.00\" fill=\"#000000\">gini = 0.0</text>\n<text text-anchor=\"start\" x=\"1735\" y=\"-950.3\" font-family=\"Times,serif\" font-size=\"14.00\" fill=\"#000000\">samples = 1</text>\n<text text-anchor=\"start\" x=\"1730\" y=\"-935.3\" font-family=\"Times,serif\" font-size=\"14.00\" fill=\"#000000\">value = [1, 0]</text>\n<text text-anchor=\"start\" x=\"1736\" y=\"-920.3\" font-family=\"Times,serif\" font-size=\"14.00\" fill=\"#000000\">class = Win</text>\n</g>\n<!-- 79&#45;&gt;80 -->\n<g id=\"edge74\" class=\"edge\">\n<title>79&#45;&gt;80</title>\n<path fill=\"none\" stroke=\"#000000\" d=\"M1820.8696,-1023.8796C1813.4237,-1012.6636 1805.3575,-1000.5131 1797.8718,-989.2372\"/>\n<polygon fill=\"#000000\" stroke=\"#000000\" points=\"1800.7273,-987.2104 1792.2805,-980.8149 1794.8954,-991.082 1800.7273,-987.2104\"/>\n</g>\n<!-- 81 -->\n<g id=\"node76\" class=\"node\">\n<title>81</title>\n<polygon fill=\"#55abe9\" stroke=\"#000000\" points=\"2019.5,-988 1835.5,-988 1835.5,-905 2019.5,-905 2019.5,-988\"/>\n<text text-anchor=\"start\" x=\"1843.5\" y=\"-972.8\" font-family=\"Times,serif\" font-size=\"14.00\" fill=\"#000000\">QBPFF_VisLessHom ≤ 1.95</text>\n<text text-anchor=\"start\" x=\"1891\" y=\"-957.8\" font-family=\"Times,serif\" font-size=\"14.00\" fill=\"#000000\">gini = 0.219</text>\n<text text-anchor=\"start\" x=\"1893\" y=\"-942.8\" font-family=\"Times,serif\" font-size=\"14.00\" fill=\"#000000\">samples = 8</text>\n<text text-anchor=\"start\" x=\"1888\" y=\"-927.8\" font-family=\"Times,serif\" font-size=\"14.00\" fill=\"#000000\">value = [1, 7]</text>\n<text text-anchor=\"start\" x=\"1892.5\" y=\"-912.8\" font-family=\"Times,serif\" font-size=\"14.00\" fill=\"#000000\">class = Lose</text>\n</g>\n<!-- 79&#45;&gt;81 -->\n<g id=\"edge75\" class=\"edge\">\n<title>79&#45;&gt;81</title>\n<path fill=\"none\" stroke=\"#000000\" d=\"M1876.1304,-1023.8796C1881.93,-1015.1434 1888.1059,-1005.8404 1894.0908,-996.8253\"/>\n<polygon fill=\"#000000\" stroke=\"#000000\" points=\"1897.1368,-998.5652 1899.7517,-988.2981 1891.3049,-994.6935 1897.1368,-998.5652\"/>\n</g>\n<!-- 82 -->\n<g id=\"node77\" class=\"node\">\n<title>82</title>\n<polygon fill=\"#399de5\" stroke=\"#000000\" points=\"1890,-861.5 1795,-861.5 1795,-793.5 1890,-793.5 1890,-861.5\"/>\n<text text-anchor=\"start\" x=\"1813.5\" y=\"-846.3\" font-family=\"Times,serif\" font-size=\"14.00\" fill=\"#000000\">gini = 0.0</text>\n<text text-anchor=\"start\" x=\"1808\" y=\"-831.3\" font-family=\"Times,serif\" font-size=\"14.00\" fill=\"#000000\">samples = 6</text>\n<text text-anchor=\"start\" x=\"1803\" y=\"-816.3\" font-family=\"Times,serif\" font-size=\"14.00\" fill=\"#000000\">value = [0, 6]</text>\n<text text-anchor=\"start\" x=\"1807.5\" y=\"-801.3\" font-family=\"Times,serif\" font-size=\"14.00\" fill=\"#000000\">class = Lose</text>\n</g>\n<!-- 81&#45;&gt;82 -->\n<g id=\"edge76\" class=\"edge\">\n<title>81&#45;&gt;82</title>\n<path fill=\"none\" stroke=\"#000000\" d=\"M1897.7711,-904.8796C1889.7597,-893.6636 1881.0808,-881.5131 1873.0266,-870.2372\"/>\n<polygon fill=\"#000000\" stroke=\"#000000\" points=\"1875.6712,-867.9179 1867.0107,-861.8149 1869.975,-871.9866 1875.6712,-867.9179\"/>\n</g>\n<!-- 83 -->\n<g id=\"node78\" class=\"node\">\n<title>83</title>\n<polygon fill=\"#ffffff\" stroke=\"#000000\" points=\"2114.5,-869 1908.5,-869 1908.5,-786 2114.5,-786 2114.5,-869\"/>\n<text text-anchor=\"start\" x=\"1916.5\" y=\"-853.8\" font-family=\"Times,serif\" font-size=\"14.00\" fill=\"#000000\">Visitor Avg 2019 score ≤ 18.875</text>\n<text text-anchor=\"start\" x=\"1982.5\" y=\"-838.8\" font-family=\"Times,serif\" font-size=\"14.00\" fill=\"#000000\">gini = 0.5</text>\n<text text-anchor=\"start\" x=\"1977\" y=\"-823.8\" font-family=\"Times,serif\" font-size=\"14.00\" fill=\"#000000\">samples = 2</text>\n<text text-anchor=\"start\" x=\"1972\" y=\"-808.8\" font-family=\"Times,serif\" font-size=\"14.00\" fill=\"#000000\">value = [1, 1]</text>\n<text text-anchor=\"start\" x=\"1978\" y=\"-793.8\" font-family=\"Times,serif\" font-size=\"14.00\" fill=\"#000000\">class = Win</text>\n</g>\n<!-- 81&#45;&gt;83 -->\n<g id=\"edge77\" class=\"edge\">\n<title>81&#45;&gt;83</title>\n<path fill=\"none\" stroke=\"#000000\" d=\"M1956.8791,-904.8796C1963.1094,-896.0534 1969.7481,-886.6485 1976.173,-877.5466\"/>\n<polygon fill=\"#000000\" stroke=\"#000000\" points=\"1979.088,-879.4862 1981.9955,-869.2981 1973.3692,-875.4494 1979.088,-879.4862\"/>\n</g>\n<!-- 84 -->\n<g id=\"node79\" class=\"node\">\n<title>84</title>\n<polygon fill=\"#e58139\" stroke=\"#000000\" points=\"2029,-742.5 1934,-742.5 1934,-674.5 2029,-674.5 2029,-742.5\"/>\n<text text-anchor=\"start\" x=\"1952.5\" y=\"-727.3\" font-family=\"Times,serif\" font-size=\"14.00\" fill=\"#000000\">gini = 0.0</text>\n<text text-anchor=\"start\" x=\"1947\" y=\"-712.3\" font-family=\"Times,serif\" font-size=\"14.00\" fill=\"#000000\">samples = 1</text>\n<text text-anchor=\"start\" x=\"1942\" y=\"-697.3\" font-family=\"Times,serif\" font-size=\"14.00\" fill=\"#000000\">value = [1, 0]</text>\n<text text-anchor=\"start\" x=\"1948\" y=\"-682.3\" font-family=\"Times,serif\" font-size=\"14.00\" fill=\"#000000\">class = Win</text>\n</g>\n<!-- 83&#45;&gt;84 -->\n<g id=\"edge78\" class=\"edge\">\n<title>83&#45;&gt;84</title>\n<path fill=\"none\" stroke=\"#000000\" d=\"M2001.0075,-785.8796C1998.2908,-775.1034 1995.3566,-763.4647 1992.6095,-752.5677\"/>\n<polygon fill=\"#000000\" stroke=\"#000000\" points=\"1995.9892,-751.6559 1990.1508,-742.8149 1989.2016,-753.3672 1995.9892,-751.6559\"/>\n</g>\n<!-- 85 -->\n<g id=\"node80\" class=\"node\">\n<title>85</title>\n<polygon fill=\"#399de5\" stroke=\"#000000\" points=\"2142,-742.5 2047,-742.5 2047,-674.5 2142,-674.5 2142,-742.5\"/>\n<text text-anchor=\"start\" x=\"2065.5\" y=\"-727.3\" font-family=\"Times,serif\" font-size=\"14.00\" fill=\"#000000\">gini = 0.0</text>\n<text text-anchor=\"start\" x=\"2060\" y=\"-712.3\" font-family=\"Times,serif\" font-size=\"14.00\" fill=\"#000000\">samples = 1</text>\n<text text-anchor=\"start\" x=\"2055\" y=\"-697.3\" font-family=\"Times,serif\" font-size=\"14.00\" fill=\"#000000\">value = [0, 1]</text>\n<text text-anchor=\"start\" x=\"2059.5\" y=\"-682.3\" font-family=\"Times,serif\" font-size=\"14.00\" fill=\"#000000\">class = Lose</text>\n</g>\n<!-- 83&#45;&gt;85 -->\n<g id=\"edge79\" class=\"edge\">\n<title>83&#45;&gt;85</title>\n<path fill=\"none\" stroke=\"#000000\" d=\"M2040.5294,-785.8796C2048.3523,-774.6636 2056.827,-762.5131 2064.6917,-751.2372\"/>\n<polygon fill=\"#000000\" stroke=\"#000000\" points=\"2067.716,-753.0192 2070.5661,-742.8149 2061.9746,-749.0147 2067.716,-753.0192\"/>\n</g>\n<!-- 87 -->\n<g id=\"node82\" class=\"node\">\n<title>87</title>\n<polygon fill=\"#eda775\" stroke=\"#000000\" points=\"2378,-988 2231,-988 2231,-905 2378,-905 2378,-988\"/>\n<text text-anchor=\"start\" x=\"2239\" y=\"-972.8\" font-family=\"Times,serif\" font-size=\"14.00\" fill=\"#000000\">QB Age Visitor ≤ 37.0</text>\n<text text-anchor=\"start\" x=\"2268\" y=\"-957.8\" font-family=\"Times,serif\" font-size=\"14.00\" fill=\"#000000\">gini = 0.357</text>\n<text text-anchor=\"start\" x=\"2266.5\" y=\"-942.8\" font-family=\"Times,serif\" font-size=\"14.00\" fill=\"#000000\">samples = 56</text>\n<text text-anchor=\"start\" x=\"2257.5\" y=\"-927.8\" font-family=\"Times,serif\" font-size=\"14.00\" fill=\"#000000\">value = [43, 13]</text>\n<text text-anchor=\"start\" x=\"2271\" y=\"-912.8\" font-family=\"Times,serif\" font-size=\"14.00\" fill=\"#000000\">class = Win</text>\n</g>\n<!-- 86&#45;&gt;87 -->\n<g id=\"edge81\" class=\"edge\">\n<title>86&#45;&gt;87</title>\n<path fill=\"none\" stroke=\"#000000\" d=\"M2304.5,-1023.8796C2304.5,-1015.6838 2304.5,-1006.9891 2304.5,-998.5013\"/>\n<polygon fill=\"#000000\" stroke=\"#000000\" points=\"2308.0001,-998.298 2304.5,-988.2981 2301.0001,-998.2981 2308.0001,-998.298\"/>\n</g>\n<!-- 126 -->\n<g id=\"node109\" class=\"node\">\n<title>126</title>\n<polygon fill=\"#9ccef2\" stroke=\"#000000\" points=\"2645.5,-988 2439.5,-988 2439.5,-905 2645.5,-905 2645.5,-988\"/>\n<text text-anchor=\"start\" x=\"2447.5\" y=\"-972.8\" font-family=\"Times,serif\" font-size=\"14.00\" fill=\"#000000\">Visitor Avg 2019 score ≤ 30.875</text>\n<text text-anchor=\"start\" x=\"2506\" y=\"-957.8\" font-family=\"Times,serif\" font-size=\"14.00\" fill=\"#000000\">gini = 0.444</text>\n<text text-anchor=\"start\" x=\"2508\" y=\"-942.8\" font-family=\"Times,serif\" font-size=\"14.00\" fill=\"#000000\">samples = 6</text>\n<text text-anchor=\"start\" x=\"2503\" y=\"-927.8\" font-family=\"Times,serif\" font-size=\"14.00\" fill=\"#000000\">value = [2, 4]</text>\n<text text-anchor=\"start\" x=\"2507.5\" y=\"-912.8\" font-family=\"Times,serif\" font-size=\"14.00\" fill=\"#000000\">class = Lose</text>\n</g>\n<!-- 86&#45;&gt;126 -->\n<g id=\"edge108\" class=\"edge\">\n<title>86&#45;&gt;126</title>\n<path fill=\"none\" stroke=\"#000000\" d=\"M2387.7409,-1023.8796C2407.9417,-1013.7791 2429.6582,-1002.9209 2450.248,-992.626\"/>\n<polygon fill=\"#000000\" stroke=\"#000000\" points=\"2451.9271,-995.6996 2459.3062,-988.0969 2448.7966,-989.4386 2451.9271,-995.6996\"/>\n</g>\n<!-- 88 -->\n<g id=\"node83\" class=\"node\">\n<title>88</title>\n<polygon fill=\"#eca470\" stroke=\"#000000\" points=\"2364,-869 2161,-869 2161,-786 2364,-786 2364,-869\"/>\n<text text-anchor=\"start\" x=\"2169\" y=\"-853.8\" font-family=\"Times,serif\" font-size=\"14.00\" fill=\"#000000\">AvgScore_VisLessHom ≤ 0.938</text>\n<text text-anchor=\"start\" x=\"2226\" y=\"-838.8\" font-family=\"Times,serif\" font-size=\"14.00\" fill=\"#000000\">gini = 0.341</text>\n<text text-anchor=\"start\" x=\"2224.5\" y=\"-823.8\" font-family=\"Times,serif\" font-size=\"14.00\" fill=\"#000000\">samples = 55</text>\n<text text-anchor=\"start\" x=\"2215.5\" y=\"-808.8\" font-family=\"Times,serif\" font-size=\"14.00\" fill=\"#000000\">value = [43, 12]</text>\n<text text-anchor=\"start\" x=\"2229\" y=\"-793.8\" font-family=\"Times,serif\" font-size=\"14.00\" fill=\"#000000\">class = Win</text>\n</g>\n<!-- 87&#45;&gt;88 -->\n<g id=\"edge82\" class=\"edge\">\n<title>87&#45;&gt;88</title>\n<path fill=\"none\" stroke=\"#000000\" d=\"M2289.8104,-904.8796C2286.8542,-896.5037 2283.7141,-887.6067 2280.656,-878.942\"/>\n<polygon fill=\"#000000\" stroke=\"#000000\" points=\"2283.881,-877.5631 2277.2523,-869.2981 2277.2801,-879.8929 2283.881,-877.5631\"/>\n</g>\n<!-- 125 -->\n<g id=\"node108\" class=\"node\">\n<title>125</title>\n<polygon fill=\"#399de5\" stroke=\"#000000\" points=\"2477,-861.5 2382,-861.5 2382,-793.5 2477,-793.5 2477,-861.5\"/>\n<text text-anchor=\"start\" x=\"2400.5\" y=\"-846.3\" font-family=\"Times,serif\" font-size=\"14.00\" fill=\"#000000\">gini = 0.0</text>\n<text text-anchor=\"start\" x=\"2395\" y=\"-831.3\" font-family=\"Times,serif\" font-size=\"14.00\" fill=\"#000000\">samples = 1</text>\n<text text-anchor=\"start\" x=\"2390\" y=\"-816.3\" font-family=\"Times,serif\" font-size=\"14.00\" fill=\"#000000\">value = [0, 1]</text>\n<text text-anchor=\"start\" x=\"2394.5\" y=\"-801.3\" font-family=\"Times,serif\" font-size=\"14.00\" fill=\"#000000\">class = Lose</text>\n</g>\n<!-- 87&#45;&gt;125 -->\n<g id=\"edge107\" class=\"edge\">\n<title>87&#45;&gt;125</title>\n<path fill=\"none\" stroke=\"#000000\" d=\"M2348.2189,-904.8796C2360.4625,-893.2237 2373.7661,-880.5587 2385.9971,-868.9148\"/>\n<polygon fill=\"#000000\" stroke=\"#000000\" points=\"2388.6254,-871.245 2393.4549,-861.8149 2383.7988,-866.1751 2388.6254,-871.245\"/>\n</g>\n<!-- 89 -->\n<g id=\"node84\" class=\"node\">\n<title>89</title>\n<polygon fill=\"#eeab7b\" stroke=\"#000000\" points=\"2364,-750 2161,-750 2161,-667 2364,-667 2364,-750\"/>\n<text text-anchor=\"start\" x=\"2169\" y=\"-734.8\" font-family=\"Times,serif\" font-size=\"14.00\" fill=\"#000000\">AvgScore_VisLessHom ≤ 0.625</text>\n<text text-anchor=\"start\" x=\"2226\" y=\"-719.8\" font-family=\"Times,serif\" font-size=\"14.00\" fill=\"#000000\">gini = 0.375</text>\n<text text-anchor=\"start\" x=\"2224.5\" y=\"-704.8\" font-family=\"Times,serif\" font-size=\"14.00\" fill=\"#000000\">samples = 48</text>\n<text text-anchor=\"start\" x=\"2215.5\" y=\"-689.8\" font-family=\"Times,serif\" font-size=\"14.00\" fill=\"#000000\">value = [36, 12]</text>\n<text text-anchor=\"start\" x=\"2229\" y=\"-674.8\" font-family=\"Times,serif\" font-size=\"14.00\" fill=\"#000000\">class = Win</text>\n</g>\n<!-- 88&#45;&gt;89 -->\n<g id=\"edge83\" class=\"edge\">\n<title>88&#45;&gt;89</title>\n<path fill=\"none\" stroke=\"#000000\" d=\"M2262.5,-785.8796C2262.5,-777.6838 2262.5,-768.9891 2262.5,-760.5013\"/>\n<polygon fill=\"#000000\" stroke=\"#000000\" points=\"2266.0001,-760.298 2262.5,-750.2981 2259.0001,-760.2981 2266.0001,-760.298\"/>\n</g>\n<!-- 124 -->\n<g id=\"node107\" class=\"node\">\n<title>124</title>\n<polygon fill=\"#e58139\" stroke=\"#000000\" points=\"2477,-742.5 2382,-742.5 2382,-674.5 2477,-674.5 2477,-742.5\"/>\n<text text-anchor=\"start\" x=\"2400.5\" y=\"-727.3\" font-family=\"Times,serif\" font-size=\"14.00\" fill=\"#000000\">gini = 0.0</text>\n<text text-anchor=\"start\" x=\"2395\" y=\"-712.3\" font-family=\"Times,serif\" font-size=\"14.00\" fill=\"#000000\">samples = 7</text>\n<text text-anchor=\"start\" x=\"2390\" y=\"-697.3\" font-family=\"Times,serif\" font-size=\"14.00\" fill=\"#000000\">value = [7, 0]</text>\n<text text-anchor=\"start\" x=\"2396\" y=\"-682.3\" font-family=\"Times,serif\" font-size=\"14.00\" fill=\"#000000\">class = Win</text>\n</g>\n<!-- 88&#45;&gt;124 -->\n<g id=\"edge106\" class=\"edge\">\n<title>88&#45;&gt;124</title>\n<path fill=\"none\" stroke=\"#000000\" d=\"M2321.991,-785.8386C2338.3936,-774.2833 2356.1668,-761.6985 2372.5,-750 2373.2401,-749.4699 2373.9854,-748.9355 2374.7348,-748.3976\"/>\n<polygon fill=\"#000000\" stroke=\"#000000\" points=\"2376.8125,-751.2146 2382.8826,-742.531 2372.7222,-745.5339 2376.8125,-751.2146\"/>\n</g>\n<!-- 90 -->\n<g id=\"node85\" class=\"node\">\n<title>90</title>\n<polygon fill=\"#eca572\" stroke=\"#000000\" points=\"2354.5,-631 2170.5,-631 2170.5,-548 2354.5,-548 2354.5,-631\"/>\n<text text-anchor=\"start\" x=\"2178.5\" y=\"-615.8\" font-family=\"Times,serif\" font-size=\"14.00\" fill=\"#000000\">QBPFF_VisLessHom ≤ 6.35</text>\n<text text-anchor=\"start\" x=\"2226\" y=\"-600.8\" font-family=\"Times,serif\" font-size=\"14.00\" fill=\"#000000\">gini = 0.346</text>\n<text text-anchor=\"start\" x=\"2224.5\" y=\"-585.8\" font-family=\"Times,serif\" font-size=\"14.00\" fill=\"#000000\">samples = 45</text>\n<text text-anchor=\"start\" x=\"2215.5\" y=\"-570.8\" font-family=\"Times,serif\" font-size=\"14.00\" fill=\"#000000\">value = [35, 10]</text>\n<text text-anchor=\"start\" x=\"2229\" y=\"-555.8\" font-family=\"Times,serif\" font-size=\"14.00\" fill=\"#000000\">class = Win</text>\n</g>\n<!-- 89&#45;&gt;90 -->\n<g id=\"edge84\" class=\"edge\">\n<title>89&#45;&gt;90</title>\n<path fill=\"none\" stroke=\"#000000\" d=\"M2262.5,-666.8796C2262.5,-658.6838 2262.5,-649.9891 2262.5,-641.5013\"/>\n<polygon fill=\"#000000\" stroke=\"#000000\" points=\"2266.0001,-641.298 2262.5,-631.2981 2259.0001,-641.2981 2266.0001,-641.298\"/>\n</g>\n<!-- 121 -->\n<g id=\"node104\" class=\"node\">\n<title>121</title>\n<polygon fill=\"#9ccef2\" stroke=\"#000000\" points=\"2555,-631 2374,-631 2374,-548 2555,-548 2555,-631\"/>\n<text text-anchor=\"start\" x=\"2382\" y=\"-615.8\" font-family=\"Times,serif\" font-size=\"14.00\" fill=\"#000000\">QBPFF_VisLessHom ≤ &#45;3.7</text>\n<text text-anchor=\"start\" x=\"2428\" y=\"-600.8\" font-family=\"Times,serif\" font-size=\"14.00\" fill=\"#000000\">gini = 0.444</text>\n<text text-anchor=\"start\" x=\"2430\" y=\"-585.8\" font-family=\"Times,serif\" font-size=\"14.00\" fill=\"#000000\">samples = 3</text>\n<text text-anchor=\"start\" x=\"2425\" y=\"-570.8\" font-family=\"Times,serif\" font-size=\"14.00\" fill=\"#000000\">value = [1, 2]</text>\n<text text-anchor=\"start\" x=\"2429.5\" y=\"-555.8\" font-family=\"Times,serif\" font-size=\"14.00\" fill=\"#000000\">class = Lose</text>\n</g>\n<!-- 89&#45;&gt;121 -->\n<g id=\"edge103\" class=\"edge\">\n<title>89&#45;&gt;121</title>\n<path fill=\"none\" stroke=\"#000000\" d=\"M2333.1498,-666.8796C2349.9106,-657.0056 2367.9008,-646.4075 2385.0252,-636.3193\"/>\n<polygon fill=\"#000000\" stroke=\"#000000\" points=\"2387.0506,-639.1884 2393.8901,-631.0969 2383.4975,-633.1571 2387.0506,-639.1884\"/>\n</g>\n<!-- 91 -->\n<g id=\"node86\" class=\"node\">\n<title>91</title>\n<polygon fill=\"#eeae80\" stroke=\"#000000\" points=\"2285.5,-512 2097.5,-512 2097.5,-429 2285.5,-429 2285.5,-512\"/>\n<text text-anchor=\"start\" x=\"2105.5\" y=\"-496.8\" font-family=\"Times,serif\" font-size=\"14.00\" fill=\"#000000\">QBPFF_VisLessHom ≤ &#45;2.25</text>\n<text text-anchor=\"start\" x=\"2155\" y=\"-481.8\" font-family=\"Times,serif\" font-size=\"14.00\" fill=\"#000000\">gini = 0.388</text>\n<text text-anchor=\"start\" x=\"2153.5\" y=\"-466.8\" font-family=\"Times,serif\" font-size=\"14.00\" fill=\"#000000\">samples = 38</text>\n<text text-anchor=\"start\" x=\"2144.5\" y=\"-451.8\" font-family=\"Times,serif\" font-size=\"14.00\" fill=\"#000000\">value = [28, 10]</text>\n<text text-anchor=\"start\" x=\"2158\" y=\"-436.8\" font-family=\"Times,serif\" font-size=\"14.00\" fill=\"#000000\">class = Win</text>\n</g>\n<!-- 90&#45;&gt;91 -->\n<g id=\"edge85\" class=\"edge\">\n<title>90&#45;&gt;91</title>\n<path fill=\"none\" stroke=\"#000000\" d=\"M2237.6676,-547.8796C2232.5091,-539.2335 2227.0192,-530.0322 2221.6924,-521.1042\"/>\n<polygon fill=\"#000000\" stroke=\"#000000\" points=\"2224.5678,-519.0924 2216.4383,-512.2981 2218.5564,-522.679 2224.5678,-519.0924\"/>\n</g>\n<!-- 120 -->\n<g id=\"node103\" class=\"node\">\n<title>120</title>\n<polygon fill=\"#e58139\" stroke=\"#000000\" points=\"2399,-504.5 2304,-504.5 2304,-436.5 2399,-436.5 2399,-504.5\"/>\n<text text-anchor=\"start\" x=\"2322.5\" y=\"-489.3\" font-family=\"Times,serif\" font-size=\"14.00\" fill=\"#000000\">gini = 0.0</text>\n<text text-anchor=\"start\" x=\"2317\" y=\"-474.3\" font-family=\"Times,serif\" font-size=\"14.00\" fill=\"#000000\">samples = 7</text>\n<text text-anchor=\"start\" x=\"2312\" y=\"-459.3\" font-family=\"Times,serif\" font-size=\"14.00\" fill=\"#000000\">value = [7, 0]</text>\n<text text-anchor=\"start\" x=\"2318\" y=\"-444.3\" font-family=\"Times,serif\" font-size=\"14.00\" fill=\"#000000\">class = Win</text>\n</g>\n<!-- 90&#45;&gt;120 -->\n<g id=\"edge102\" class=\"edge\">\n<title>90&#45;&gt;120</title>\n<path fill=\"none\" stroke=\"#000000\" d=\"M2293.6279,-547.8796C2302.0986,-536.5536 2311.2819,-524.2748 2319.7847,-512.9058\"/>\n<polygon fill=\"#000000\" stroke=\"#000000\" points=\"2322.6495,-514.9193 2325.8359,-504.8149 2317.0438,-510.7268 2322.6495,-514.9193\"/>\n</g>\n<!-- 92 -->\n<g id=\"node87\" class=\"node\">\n<title>92</title>\n<polygon fill=\"#eb9f69\" stroke=\"#000000\" points=\"2265,-393 2118,-393 2118,-310 2265,-310 2265,-393\"/>\n<text text-anchor=\"start\" x=\"2126\" y=\"-377.8\" font-family=\"Times,serif\" font-size=\"14.00\" fill=\"#000000\">QB Age Visitor ≤ 35.0</text>\n<text text-anchor=\"start\" x=\"2155\" y=\"-362.8\" font-family=\"Times,serif\" font-size=\"14.00\" fill=\"#000000\">gini = 0.312</text>\n<text text-anchor=\"start\" x=\"2153.5\" y=\"-347.8\" font-family=\"Times,serif\" font-size=\"14.00\" fill=\"#000000\">samples = 31</text>\n<text text-anchor=\"start\" x=\"2148.5\" y=\"-332.8\" font-family=\"Times,serif\" font-size=\"14.00\" fill=\"#000000\">value = [25, 6]</text>\n<text text-anchor=\"start\" x=\"2158\" y=\"-317.8\" font-family=\"Times,serif\" font-size=\"14.00\" fill=\"#000000\">class = Win</text>\n</g>\n<!-- 91&#45;&gt;92 -->\n<g id=\"edge86\" class=\"edge\">\n<title>91&#45;&gt;92</title>\n<path fill=\"none\" stroke=\"#000000\" d=\"M2191.5,-428.8796C2191.5,-420.6838 2191.5,-411.9891 2191.5,-403.5013\"/>\n<polygon fill=\"#000000\" stroke=\"#000000\" points=\"2195.0001,-403.298 2191.5,-393.2981 2188.0001,-403.2981 2195.0001,-403.298\"/>\n</g>\n<!-- 113 -->\n<g id=\"node96\" class=\"node\">\n<title>113</title>\n<polygon fill=\"#cee6f8\" stroke=\"#000000\" points=\"2495.5,-393 2289.5,-393 2289.5,-310 2495.5,-310 2495.5,-393\"/>\n<text text-anchor=\"start\" x=\"2297.5\" y=\"-377.8\" font-family=\"Times,serif\" font-size=\"14.00\" fill=\"#000000\">Visitor Avg 2019 score ≤ 21.438</text>\n<text text-anchor=\"start\" x=\"2360\" y=\"-362.8\" font-family=\"Times,serif\" font-size=\"14.00\" fill=\"#000000\">gini = 0.49</text>\n<text text-anchor=\"start\" x=\"2358\" y=\"-347.8\" font-family=\"Times,serif\" font-size=\"14.00\" fill=\"#000000\">samples = 7</text>\n<text text-anchor=\"start\" x=\"2353\" y=\"-332.8\" font-family=\"Times,serif\" font-size=\"14.00\" fill=\"#000000\">value = [3, 4]</text>\n<text text-anchor=\"start\" x=\"2357.5\" y=\"-317.8\" font-family=\"Times,serif\" font-size=\"14.00\" fill=\"#000000\">class = Lose</text>\n</g>\n<!-- 91&#45;&gt;113 -->\n<g id=\"edge95\" class=\"edge\">\n<title>91&#45;&gt;113</title>\n<path fill=\"none\" stroke=\"#000000\" d=\"M2261.8,-428.8796C2278.4779,-419.0056 2296.379,-408.4075 2313.4186,-398.3193\"/>\n<polygon fill=\"#000000\" stroke=\"#000000\" points=\"2315.4177,-401.2032 2322.2396,-393.0969 2311.8515,-395.1797 2315.4177,-401.2032\"/>\n</g>\n<!-- 93 -->\n<g id=\"node88\" class=\"node\">\n<title>93</title>\n<polygon fill=\"#ea9a61\" stroke=\"#000000\" points=\"2157.5,-274 1949.5,-274 1949.5,-191 2157.5,-191 2157.5,-274\"/>\n<text text-anchor=\"start\" x=\"1957.5\" y=\"-258.8\" font-family=\"Times,serif\" font-size=\"14.00\" fill=\"#000000\">AvgScore_VisLessHom ≤ &#45;8.688</text>\n<text text-anchor=\"start\" x=\"2017\" y=\"-243.8\" font-family=\"Times,serif\" font-size=\"14.00\" fill=\"#000000\">gini = 0.278</text>\n<text text-anchor=\"start\" x=\"2015.5\" y=\"-228.8\" font-family=\"Times,serif\" font-size=\"14.00\" fill=\"#000000\">samples = 30</text>\n<text text-anchor=\"start\" x=\"2010.5\" y=\"-213.8\" font-family=\"Times,serif\" font-size=\"14.00\" fill=\"#000000\">value = [25, 5]</text>\n<text text-anchor=\"start\" x=\"2020\" y=\"-198.8\" font-family=\"Times,serif\" font-size=\"14.00\" fill=\"#000000\">class = Win</text>\n</g>\n<!-- 92&#45;&gt;93 -->\n<g id=\"edge87\" class=\"edge\">\n<title>92&#45;&gt;93</title>\n<path fill=\"none\" stroke=\"#000000\" d=\"M2143.2343,-309.8796C2132.3722,-300.513 2120.7544,-290.4948 2109.6027,-280.8784\"/>\n<polygon fill=\"#000000\" stroke=\"#000000\" points=\"2111.8306,-278.178 2101.9717,-274.2981 2107.2592,-283.4792 2111.8306,-278.178\"/>\n</g>\n<!-- 112 -->\n<g id=\"node95\" class=\"node\">\n<title>112</title>\n<polygon fill=\"#399de5\" stroke=\"#000000\" points=\"2271,-266.5 2176,-266.5 2176,-198.5 2271,-198.5 2271,-266.5\"/>\n<text text-anchor=\"start\" x=\"2194.5\" y=\"-251.3\" font-family=\"Times,serif\" font-size=\"14.00\" fill=\"#000000\">gini = 0.0</text>\n<text text-anchor=\"start\" x=\"2189\" y=\"-236.3\" font-family=\"Times,serif\" font-size=\"14.00\" fill=\"#000000\">samples = 1</text>\n<text text-anchor=\"start\" x=\"2184\" y=\"-221.3\" font-family=\"Times,serif\" font-size=\"14.00\" fill=\"#000000\">value = [0, 1]</text>\n<text text-anchor=\"start\" x=\"2188.5\" y=\"-206.3\" font-family=\"Times,serif\" font-size=\"14.00\" fill=\"#000000\">class = Lose</text>\n</g>\n<!-- 92&#45;&gt;112 -->\n<g id=\"edge94\" class=\"edge\">\n<title>92&#45;&gt;112</title>\n<path fill=\"none\" stroke=\"#000000\" d=\"M2202.692,-309.8796C2205.5898,-299.1034 2208.7196,-287.4647 2211.6499,-276.5677\"/>\n<polygon fill=\"#000000\" stroke=\"#000000\" points=\"2215.0555,-277.3808 2214.2725,-266.8149 2208.2956,-275.563 2215.0555,-277.3808\"/>\n</g>\n<!-- 94 -->\n<g id=\"node89\" class=\"node\">\n<title>94</title>\n<polygon fill=\"#f6d5bd\" stroke=\"#000000\" points=\"2103.5,-155 1907.5,-155 1907.5,-72 2103.5,-72 2103.5,-155\"/>\n<text text-anchor=\"start\" x=\"1915.5\" y=\"-139.8\" font-family=\"Times,serif\" font-size=\"14.00\" fill=\"#000000\">QBPFF_VisLessHom ≤ &#45;16.25</text>\n<text text-anchor=\"start\" x=\"1973\" y=\"-124.8\" font-family=\"Times,serif\" font-size=\"14.00\" fill=\"#000000\">gini = 0.48</text>\n<text text-anchor=\"start\" x=\"1971\" y=\"-109.8\" font-family=\"Times,serif\" font-size=\"14.00\" fill=\"#000000\">samples = 5</text>\n<text text-anchor=\"start\" x=\"1966\" y=\"-94.8\" font-family=\"Times,serif\" font-size=\"14.00\" fill=\"#000000\">value = [3, 2]</text>\n<text text-anchor=\"start\" x=\"1972\" y=\"-79.8\" font-family=\"Times,serif\" font-size=\"14.00\" fill=\"#000000\">class = Win</text>\n</g>\n<!-- 93&#45;&gt;94 -->\n<g id=\"edge88\" class=\"edge\">\n<title>93&#45;&gt;94</title>\n<path fill=\"none\" stroke=\"#000000\" d=\"M2036.7119,-190.8796C2033.2971,-182.4136 2029.6675,-173.4153 2026.137,-164.6626\"/>\n<polygon fill=\"#000000\" stroke=\"#000000\" points=\"2029.3464,-163.2628 2022.3597,-155.2981 2022.8547,-165.8813 2029.3464,-163.2628\"/>\n</g>\n<!-- 97 -->\n<g id=\"node92\" class=\"node\">\n<title>97</title>\n<polygon fill=\"#e99254\" stroke=\"#000000\" points=\"2269,-155 2122,-155 2122,-72 2269,-72 2269,-155\"/>\n<text text-anchor=\"start\" x=\"2130\" y=\"-139.8\" font-family=\"Times,serif\" font-size=\"14.00\" fill=\"#000000\">QB Age Visitor ≤ 24.5</text>\n<text text-anchor=\"start\" x=\"2159.5\" y=\"-124.8\" font-family=\"Times,serif\" font-size=\"14.00\" fill=\"#000000\">gini = 0.211</text>\n<text text-anchor=\"start\" x=\"2157.5\" y=\"-109.8\" font-family=\"Times,serif\" font-size=\"14.00\" fill=\"#000000\">samples = 25</text>\n<text text-anchor=\"start\" x=\"2152.5\" y=\"-94.8\" font-family=\"Times,serif\" font-size=\"14.00\" fill=\"#000000\">value = [22, 3]</text>\n<text text-anchor=\"start\" x=\"2162\" y=\"-79.8\" font-family=\"Times,serif\" font-size=\"14.00\" fill=\"#000000\">class = Win</text>\n</g>\n<!-- 93&#45;&gt;97 -->\n<g id=\"edge91\" class=\"edge\">\n<title>93&#45;&gt;97</title>\n<path fill=\"none\" stroke=\"#000000\" d=\"M2103.1647,-190.8796C2114.3416,-181.513 2126.2962,-171.4948 2137.7712,-161.8784\"/>\n<polygon fill=\"#000000\" stroke=\"#000000\" points=\"2140.2069,-164.4037 2145.6233,-155.2981 2135.7107,-159.0386 2140.2069,-164.4037\"/>\n</g>\n<!-- 95 -->\n<g id=\"node90\" class=\"node\">\n<title>95</title>\n<polygon fill=\"#c0c0c0\" stroke=\"#000000\" points=\"1996.5,-36 1942.5,-36 1942.5,0 1996.5,0 1996.5,-36\"/>\n<text text-anchor=\"middle\" x=\"1969.5\" y=\"-14.3\" font-family=\"Times,serif\" font-size=\"14.00\" fill=\"#000000\">(...)</text>\n</g>\n<!-- 94&#45;&gt;95 -->\n<g id=\"edge89\" class=\"edge\">\n<title>94&#45;&gt;95</title>\n<path fill=\"none\" stroke=\"#000000\" d=\"M1989.8146,-71.8901C1986.4739,-63.0279 1983.025,-53.8788 1979.9386,-45.6913\"/>\n<polygon fill=\"#000000\" stroke=\"#000000\" points=\"1983.1877,-44.3878 1976.3853,-36.2651 1976.6376,-46.8569 1983.1877,-44.3878\"/>\n</g>\n<!-- 96 -->\n<g id=\"node91\" class=\"node\">\n<title>96</title>\n<polygon fill=\"#c0c0c0\" stroke=\"#000000\" points=\"2068.5,-36 2014.5,-36 2014.5,0 2068.5,0 2068.5,-36\"/>\n<text text-anchor=\"middle\" x=\"2041.5\" y=\"-14.3\" font-family=\"Times,serif\" font-size=\"14.00\" fill=\"#000000\">(...)</text>\n</g>\n<!-- 94&#45;&gt;96 -->\n<g id=\"edge90\" class=\"edge\">\n<title>94&#45;&gt;96</title>\n<path fill=\"none\" stroke=\"#000000\" d=\"M2021.1854,-71.8901C2024.5261,-63.0279 2027.975,-53.8788 2031.0614,-45.6913\"/>\n<polygon fill=\"#000000\" stroke=\"#000000\" points=\"2034.3624,-46.8569 2034.6147,-36.2651 2027.8123,-44.3878 2034.3624,-46.8569\"/>\n</g>\n<!-- 98 -->\n<g id=\"node93\" class=\"node\">\n<title>98</title>\n<polygon fill=\"#c0c0c0\" stroke=\"#000000\" points=\"2206.5,-36 2152.5,-36 2152.5,0 2206.5,0 2206.5,-36\"/>\n<text text-anchor=\"middle\" x=\"2179.5\" y=\"-14.3\" font-family=\"Times,serif\" font-size=\"14.00\" fill=\"#000000\">(...)</text>\n</g>\n<!-- 97&#45;&gt;98 -->\n<g id=\"edge92\" class=\"edge\">\n<title>97&#45;&gt;98</title>\n<path fill=\"none\" stroke=\"#000000\" d=\"M2188.5287,-71.8901C2187.0766,-63.2227 2185.5785,-54.2808 2184.23,-46.2325\"/>\n<polygon fill=\"#000000\" stroke=\"#000000\" points=\"2187.6645,-45.5493 2182.5601,-36.2651 2180.7607,-46.706 2187.6645,-45.5493\"/>\n</g>\n<!-- 111 -->\n<g id=\"node94\" class=\"node\">\n<title>111</title>\n<polygon fill=\"#c0c0c0\" stroke=\"#000000\" points=\"2278.5,-36 2224.5,-36 2224.5,0 2278.5,0 2278.5,-36\"/>\n<text text-anchor=\"middle\" x=\"2251.5\" y=\"-14.3\" font-family=\"Times,serif\" font-size=\"14.00\" fill=\"#000000\">(...)</text>\n</g>\n<!-- 97&#45;&gt;111 -->\n<g id=\"edge93\" class=\"edge\">\n<title>97&#45;&gt;111</title>\n<path fill=\"none\" stroke=\"#000000\" d=\"M2219.8995,-71.8901C2225.2104,-62.8331 2230.697,-53.4765 2235.5779,-45.1528\"/>\n<polygon fill=\"#000000\" stroke=\"#000000\" points=\"2238.7504,-46.6619 2240.7896,-36.2651 2232.712,-43.121 2238.7504,-46.6619\"/>\n</g>\n<!-- 114 -->\n<g id=\"node97\" class=\"node\">\n<title>114</title>\n<polygon fill=\"#eeab7b\" stroke=\"#000000\" points=\"2495.5,-274 2289.5,-274 2289.5,-191 2495.5,-191 2495.5,-274\"/>\n<text text-anchor=\"start\" x=\"2297.5\" y=\"-258.8\" font-family=\"Times,serif\" font-size=\"14.00\" fill=\"#000000\">Visitor Avg 2019 score ≤ 17.812</text>\n<text text-anchor=\"start\" x=\"2356\" y=\"-243.8\" font-family=\"Times,serif\" font-size=\"14.00\" fill=\"#000000\">gini = 0.375</text>\n<text text-anchor=\"start\" x=\"2358\" y=\"-228.8\" font-family=\"Times,serif\" font-size=\"14.00\" fill=\"#000000\">samples = 4</text>\n<text text-anchor=\"start\" x=\"2353\" y=\"-213.8\" font-family=\"Times,serif\" font-size=\"14.00\" fill=\"#000000\">value = [3, 1]</text>\n<text text-anchor=\"start\" x=\"2359\" y=\"-198.8\" font-family=\"Times,serif\" font-size=\"14.00\" fill=\"#000000\">class = Win</text>\n</g>\n<!-- 113&#45;&gt;114 -->\n<g id=\"edge96\" class=\"edge\">\n<title>113&#45;&gt;114</title>\n<path fill=\"none\" stroke=\"#000000\" d=\"M2392.5,-309.8796C2392.5,-301.6838 2392.5,-292.9891 2392.5,-284.5013\"/>\n<polygon fill=\"#000000\" stroke=\"#000000\" points=\"2396.0001,-284.298 2392.5,-274.2981 2389.0001,-284.2981 2396.0001,-284.298\"/>\n</g>\n<!-- 119 -->\n<g id=\"node102\" class=\"node\">\n<title>119</title>\n<polygon fill=\"#399de5\" stroke=\"#000000\" points=\"2609,-266.5 2514,-266.5 2514,-198.5 2609,-198.5 2609,-266.5\"/>\n<text text-anchor=\"start\" x=\"2532.5\" y=\"-251.3\" font-family=\"Times,serif\" font-size=\"14.00\" fill=\"#000000\">gini = 0.0</text>\n<text text-anchor=\"start\" x=\"2527\" y=\"-236.3\" font-family=\"Times,serif\" font-size=\"14.00\" fill=\"#000000\">samples = 3</text>\n<text text-anchor=\"start\" x=\"2522\" y=\"-221.3\" font-family=\"Times,serif\" font-size=\"14.00\" fill=\"#000000\">value = [0, 3]</text>\n<text text-anchor=\"start\" x=\"2526.5\" y=\"-206.3\" font-family=\"Times,serif\" font-size=\"14.00\" fill=\"#000000\">class = Lose</text>\n</g>\n<!-- 113&#45;&gt;119 -->\n<g id=\"edge101\" class=\"edge\">\n<title>113&#45;&gt;119</title>\n<path fill=\"none\" stroke=\"#000000\" d=\"M2453.1362,-309.9346C2469.8372,-298.3796 2487.9179,-285.7711 2504.5,-274 2505.2424,-273.473 2505.9897,-272.9416 2506.7412,-272.4065\"/>\n<polygon fill=\"#000000\" stroke=\"#000000\" points=\"2508.8106,-275.2295 2514.9057,-266.5634 2504.7367,-269.5371 2508.8106,-275.2295\"/>\n</g>\n<!-- 115 -->\n<g id=\"node98\" class=\"node\">\n<title>115</title>\n<polygon fill=\"#ffffff\" stroke=\"#000000\" points=\"2494.5,-155 2288.5,-155 2288.5,-72 2494.5,-72 2494.5,-155\"/>\n<text text-anchor=\"start\" x=\"2296.5\" y=\"-139.8\" font-family=\"Times,serif\" font-size=\"14.00\" fill=\"#000000\">Visitor Avg 2019 score ≤ 16.188</text>\n<text text-anchor=\"start\" x=\"2362.5\" y=\"-124.8\" font-family=\"Times,serif\" font-size=\"14.00\" fill=\"#000000\">gini = 0.5</text>\n<text text-anchor=\"start\" x=\"2357\" y=\"-109.8\" font-family=\"Times,serif\" font-size=\"14.00\" fill=\"#000000\">samples = 2</text>\n<text text-anchor=\"start\" x=\"2352\" y=\"-94.8\" font-family=\"Times,serif\" font-size=\"14.00\" fill=\"#000000\">value = [1, 1]</text>\n<text text-anchor=\"start\" x=\"2358\" y=\"-79.8\" font-family=\"Times,serif\" font-size=\"14.00\" fill=\"#000000\">class = Win</text>\n</g>\n<!-- 114&#45;&gt;115 -->\n<g id=\"edge97\" class=\"edge\">\n<title>114&#45;&gt;115</title>\n<path fill=\"none\" stroke=\"#000000\" d=\"M2392.1502,-190.8796C2392.0814,-182.6838 2392.0083,-173.9891 2391.937,-165.5013\"/>\n<polygon fill=\"#000000\" stroke=\"#000000\" points=\"2395.4352,-165.2683 2391.8512,-155.2981 2388.4355,-165.3272 2395.4352,-165.2683\"/>\n</g>\n<!-- 118 -->\n<g id=\"node101\" class=\"node\">\n<title>118</title>\n<polygon fill=\"#e58139\" stroke=\"#000000\" points=\"2608,-147.5 2513,-147.5 2513,-79.5 2608,-79.5 2608,-147.5\"/>\n<text text-anchor=\"start\" x=\"2531.5\" y=\"-132.3\" font-family=\"Times,serif\" font-size=\"14.00\" fill=\"#000000\">gini = 0.0</text>\n<text text-anchor=\"start\" x=\"2526\" y=\"-117.3\" font-family=\"Times,serif\" font-size=\"14.00\" fill=\"#000000\">samples = 2</text>\n<text text-anchor=\"start\" x=\"2521\" y=\"-102.3\" font-family=\"Times,serif\" font-size=\"14.00\" fill=\"#000000\">value = [2, 0]</text>\n<text text-anchor=\"start\" x=\"2527\" y=\"-87.3\" font-family=\"Times,serif\" font-size=\"14.00\" fill=\"#000000\">class = Win</text>\n</g>\n<!-- 114&#45;&gt;118 -->\n<g id=\"edge100\" class=\"edge\">\n<title>114&#45;&gt;118</title>\n<path fill=\"none\" stroke=\"#000000\" d=\"M2452.5638,-190.8865C2469.1155,-179.3313 2487.0425,-166.7347 2503.5,-155 2504.2413,-154.4715 2504.9876,-153.9386 2505.738,-153.4021\"/>\n<polygon fill=\"#000000\" stroke=\"#000000\" points=\"2507.8116,-156.2221 2513.8942,-147.5473 2503.7295,-150.5355 2507.8116,-156.2221\"/>\n</g>\n<!-- 116 -->\n<g id=\"node99\" class=\"node\">\n<title>116</title>\n<polygon fill=\"#c0c0c0\" stroke=\"#000000\" points=\"2362.5,-36 2308.5,-36 2308.5,0 2362.5,0 2362.5,-36\"/>\n<text text-anchor=\"middle\" x=\"2335.5\" y=\"-14.3\" font-family=\"Times,serif\" font-size=\"14.00\" fill=\"#000000\">(...)</text>\n</g>\n<!-- 115&#45;&gt;116 -->\n<g id=\"edge98\" class=\"edge\">\n<title>115&#45;&gt;116</title>\n<path fill=\"none\" stroke=\"#000000\" d=\"M2367.1005,-71.8901C2361.7896,-62.8331 2356.303,-53.4765 2351.4221,-45.1528\"/>\n<polygon fill=\"#000000\" stroke=\"#000000\" points=\"2354.288,-43.121 2346.2104,-36.2651 2348.2496,-46.6619 2354.288,-43.121\"/>\n</g>\n<!-- 117 -->\n<g id=\"node100\" class=\"node\">\n<title>117</title>\n<polygon fill=\"#c0c0c0\" stroke=\"#000000\" points=\"2434.5,-36 2380.5,-36 2380.5,0 2434.5,0 2434.5,-36\"/>\n<text text-anchor=\"middle\" x=\"2407.5\" y=\"-14.3\" font-family=\"Times,serif\" font-size=\"14.00\" fill=\"#000000\">(...)</text>\n</g>\n<!-- 115&#45;&gt;117 -->\n<g id=\"edge99\" class=\"edge\">\n<title>115&#45;&gt;117</title>\n<path fill=\"none\" stroke=\"#000000\" d=\"M2398.4713,-71.8901C2399.9234,-63.2227 2401.4215,-54.2808 2402.77,-46.2325\"/>\n<polygon fill=\"#000000\" stroke=\"#000000\" points=\"2406.2393,-46.706 2404.4399,-36.2651 2399.3355,-45.5493 2406.2393,-46.706\"/>\n</g>\n<!-- 122 -->\n<g id=\"node105\" class=\"node\">\n<title>122</title>\n<polygon fill=\"#e58139\" stroke=\"#000000\" points=\"2512,-504.5 2417,-504.5 2417,-436.5 2512,-436.5 2512,-504.5\"/>\n<text text-anchor=\"start\" x=\"2435.5\" y=\"-489.3\" font-family=\"Times,serif\" font-size=\"14.00\" fill=\"#000000\">gini = 0.0</text>\n<text text-anchor=\"start\" x=\"2430\" y=\"-474.3\" font-family=\"Times,serif\" font-size=\"14.00\" fill=\"#000000\">samples = 1</text>\n<text text-anchor=\"start\" x=\"2425\" y=\"-459.3\" font-family=\"Times,serif\" font-size=\"14.00\" fill=\"#000000\">value = [1, 0]</text>\n<text text-anchor=\"start\" x=\"2431\" y=\"-444.3\" font-family=\"Times,serif\" font-size=\"14.00\" fill=\"#000000\">class = Win</text>\n</g>\n<!-- 121&#45;&gt;122 -->\n<g id=\"edge104\" class=\"edge\">\n<title>121&#45;&gt;122</title>\n<path fill=\"none\" stroke=\"#000000\" d=\"M2464.5,-547.8796C2464.5,-537.2134 2464.5,-525.7021 2464.5,-514.9015\"/>\n<polygon fill=\"#000000\" stroke=\"#000000\" points=\"2468.0001,-514.8149 2464.5,-504.8149 2461.0001,-514.815 2468.0001,-514.8149\"/>\n</g>\n<!-- 123 -->\n<g id=\"node106\" class=\"node\">\n<title>123</title>\n<polygon fill=\"#399de5\" stroke=\"#000000\" points=\"2625,-504.5 2530,-504.5 2530,-436.5 2625,-436.5 2625,-504.5\"/>\n<text text-anchor=\"start\" x=\"2548.5\" y=\"-489.3\" font-family=\"Times,serif\" font-size=\"14.00\" fill=\"#000000\">gini = 0.0</text>\n<text text-anchor=\"start\" x=\"2543\" y=\"-474.3\" font-family=\"Times,serif\" font-size=\"14.00\" fill=\"#000000\">samples = 2</text>\n<text text-anchor=\"start\" x=\"2538\" y=\"-459.3\" font-family=\"Times,serif\" font-size=\"14.00\" fill=\"#000000\">value = [0, 2]</text>\n<text text-anchor=\"start\" x=\"2542.5\" y=\"-444.3\" font-family=\"Times,serif\" font-size=\"14.00\" fill=\"#000000\">class = Lose</text>\n</g>\n<!-- 121&#45;&gt;123 -->\n<g id=\"edge105\" class=\"edge\">\n<title>121&#45;&gt;123</title>\n<path fill=\"none\" stroke=\"#000000\" d=\"M2504.0219,-547.8796C2514.9857,-536.3337 2526.8897,-523.7976 2537.8601,-512.2446\"/>\n<polygon fill=\"#000000\" stroke=\"#000000\" points=\"2540.5673,-514.4766 2544.9152,-504.8149 2535.4913,-509.6564 2540.5673,-514.4766\"/>\n</g>\n<!-- 127 -->\n<g id=\"node110\" class=\"node\">\n<title>127</title>\n<polygon fill=\"#399de5\" stroke=\"#000000\" points=\"2590,-861.5 2495,-861.5 2495,-793.5 2590,-793.5 2590,-861.5\"/>\n<text text-anchor=\"start\" x=\"2513.5\" y=\"-846.3\" font-family=\"Times,serif\" font-size=\"14.00\" fill=\"#000000\">gini = 0.0</text>\n<text text-anchor=\"start\" x=\"2508\" y=\"-831.3\" font-family=\"Times,serif\" font-size=\"14.00\" fill=\"#000000\">samples = 3</text>\n<text text-anchor=\"start\" x=\"2503\" y=\"-816.3\" font-family=\"Times,serif\" font-size=\"14.00\" fill=\"#000000\">value = [0, 3]</text>\n<text text-anchor=\"start\" x=\"2507.5\" y=\"-801.3\" font-family=\"Times,serif\" font-size=\"14.00\" fill=\"#000000\">class = Lose</text>\n</g>\n<!-- 126&#45;&gt;127 -->\n<g id=\"edge109\" class=\"edge\">\n<title>126&#45;&gt;127</title>\n<path fill=\"none\" stroke=\"#000000\" d=\"M2542.5,-904.8796C2542.5,-894.2134 2542.5,-882.7021 2542.5,-871.9015\"/>\n<polygon fill=\"#000000\" stroke=\"#000000\" points=\"2546.0001,-871.8149 2542.5,-861.8149 2539.0001,-871.815 2546.0001,-871.8149\"/>\n</g>\n<!-- 128 -->\n<g id=\"node111\" class=\"node\">\n<title>128</title>\n<polygon fill=\"#f2c09c\" stroke=\"#000000\" points=\"2811,-869 2608,-869 2608,-786 2811,-786 2811,-869\"/>\n<text text-anchor=\"start\" x=\"2616\" y=\"-853.8\" font-family=\"Times,serif\" font-size=\"14.00\" fill=\"#000000\">Home Avg 2019 score ≤ 24.875</text>\n<text text-anchor=\"start\" x=\"2673\" y=\"-838.8\" font-family=\"Times,serif\" font-size=\"14.00\" fill=\"#000000\">gini = 0.444</text>\n<text text-anchor=\"start\" x=\"2675\" y=\"-823.8\" font-family=\"Times,serif\" font-size=\"14.00\" fill=\"#000000\">samples = 3</text>\n<text text-anchor=\"start\" x=\"2670\" y=\"-808.8\" font-family=\"Times,serif\" font-size=\"14.00\" fill=\"#000000\">value = [2, 1]</text>\n<text text-anchor=\"start\" x=\"2676\" y=\"-793.8\" font-family=\"Times,serif\" font-size=\"14.00\" fill=\"#000000\">class = Win</text>\n</g>\n<!-- 126&#45;&gt;128 -->\n<g id=\"edge110\" class=\"edge\">\n<title>126&#45;&gt;128</title>\n<path fill=\"none\" stroke=\"#000000\" d=\"M2600.9085,-904.8796C2614.3839,-895.2774 2628.8203,-884.9903 2642.625,-875.1534\"/>\n<polygon fill=\"#000000\" stroke=\"#000000\" points=\"2645.0117,-877.7505 2651.1245,-869.0969 2640.9494,-872.0497 2645.0117,-877.7505\"/>\n</g>\n<!-- 129 -->\n<g id=\"node112\" class=\"node\">\n<title>129</title>\n<polygon fill=\"#399de5\" stroke=\"#000000\" points=\"2701,-742.5 2606,-742.5 2606,-674.5 2701,-674.5 2701,-742.5\"/>\n<text text-anchor=\"start\" x=\"2624.5\" y=\"-727.3\" font-family=\"Times,serif\" font-size=\"14.00\" fill=\"#000000\">gini = 0.0</text>\n<text text-anchor=\"start\" x=\"2619\" y=\"-712.3\" font-family=\"Times,serif\" font-size=\"14.00\" fill=\"#000000\">samples = 1</text>\n<text text-anchor=\"start\" x=\"2614\" y=\"-697.3\" font-family=\"Times,serif\" font-size=\"14.00\" fill=\"#000000\">value = [0, 1]</text>\n<text text-anchor=\"start\" x=\"2618.5\" y=\"-682.3\" font-family=\"Times,serif\" font-size=\"14.00\" fill=\"#000000\">class = Lose</text>\n</g>\n<!-- 128&#45;&gt;129 -->\n<g id=\"edge111\" class=\"edge\">\n<title>128&#45;&gt;129</title>\n<path fill=\"none\" stroke=\"#000000\" d=\"M2689.9139,-785.8796C2684.7393,-774.8835 2679.142,-762.9893 2673.9242,-751.9015\"/>\n<polygon fill=\"#000000\" stroke=\"#000000\" points=\"2677.0731,-750.3728 2669.6482,-742.8149 2670.7394,-753.3534 2677.0731,-750.3728\"/>\n</g>\n<!-- 130 -->\n<g id=\"node113\" class=\"node\">\n<title>130</title>\n<polygon fill=\"#e58139\" stroke=\"#000000\" points=\"2814,-742.5 2719,-742.5 2719,-674.5 2814,-674.5 2814,-742.5\"/>\n<text text-anchor=\"start\" x=\"2737.5\" y=\"-727.3\" font-family=\"Times,serif\" font-size=\"14.00\" fill=\"#000000\">gini = 0.0</text>\n<text text-anchor=\"start\" x=\"2732\" y=\"-712.3\" font-family=\"Times,serif\" font-size=\"14.00\" fill=\"#000000\">samples = 2</text>\n<text text-anchor=\"start\" x=\"2727\" y=\"-697.3\" font-family=\"Times,serif\" font-size=\"14.00\" fill=\"#000000\">value = [2, 0]</text>\n<text text-anchor=\"start\" x=\"2733\" y=\"-682.3\" font-family=\"Times,serif\" font-size=\"14.00\" fill=\"#000000\">class = Win</text>\n</g>\n<!-- 128&#45;&gt;130 -->\n<g id=\"edge112\" class=\"edge\">\n<title>128&#45;&gt;130</title>\n<path fill=\"none\" stroke=\"#000000\" d=\"M2729.4358,-785.8796C2734.7029,-774.8835 2740.4001,-762.9893 2745.711,-751.9015\"/>\n<polygon fill=\"#000000\" stroke=\"#000000\" points=\"2748.9,-753.3457 2750.0634,-742.8149 2742.5869,-750.3217 2748.9,-753.3457\"/>\n</g>\n</g>\n</svg>\n"
          },
          "metadata": {
            "tags": []
          },
          "execution_count": 128
        }
      ]
    },
    {
      "cell_type": "code",
      "metadata": {
        "colab": {
          "base_uri": "https://localhost:8080/"
        },
        "id": "oV9JvNKyBd3z",
        "outputId": "966b3937-e39f-490b-d1f4-92f24a31b226"
      },
      "source": [
        "# -- define classifier\n",
        "mod = RandomForestClassifier(random_state=0)\n",
        "# -- fit a decision tree classifier on the TRAINING data\n",
        "mod.fit(feat_tr, targ_tr)\n",
        "# -- assess the accuracy on the TRAINING data\n",
        "pred_tr = mod.predict(feat_tr)\n",
        "acc_tr = accuracy_score(targ_tr, pred_tr)\n",
        "print(\"training accuracy = {0:.3f}\".format(acc_tr))\n",
        "# -- assess the accuracy on the TESTING data\n",
        "pred_te = mod.predict(feat_te)\n",
        "acc_te = accuracy_score(targ_te, pred_te)\n",
        "print(\"testing accuracy = {0:.3f}\".format(acc_te))"
      ],
      "execution_count": 129,
      "outputs": [
        {
          "output_type": "stream",
          "text": [
            "training accuracy = 1.000\n",
            "testing accuracy = 0.692\n"
          ],
          "name": "stdout"
        }
      ]
    },
    {
      "cell_type": "code",
      "metadata": {
        "colab": {
          "base_uri": "https://localhost:8080/"
        },
        "id": "wBHw_kqz-UPe",
        "outputId": "850bab38-4cd4-4e75-8c9f-a9c11b3eee98"
      },
      "source": [
        "gbc = GradientBoostingClassifier(random_state=0, min_samples_split=11)\n",
        "gbc.fit(feat_tr, targ_tr)\n",
        "pred_tr = gbc.predict(feat_tr)\n",
        "acc_tr = accuracy_score(targ_tr, pred_tr)\n",
        "print(\"training accuracy = {0:.3f}\".format(acc_tr))\n",
        "pred_te = gbc.predict(feat_te)\n",
        "acc_te = accuracy_score(targ_te, pred_te)\n",
        "print(\"testing accuracy = {0:.3f}\".format(acc_te))"
      ],
      "execution_count": 130,
      "outputs": [
        {
          "output_type": "stream",
          "text": [
            "training accuracy = 0.966\n",
            "testing accuracy = 0.827\n"
          ],
          "name": "stdout"
        }
      ]
    },
    {
      "cell_type": "code",
      "metadata": {
        "colab": {
          "base_uri": "https://localhost:8080/"
        },
        "id": "juoQJONc_ztT",
        "outputId": "f1e1c97d-e6f7-4933-9921-bca5c5bc9a9b"
      },
      "source": [
        "KN = KNeighborsClassifier()\n",
        "KN.fit(feat_tr, targ_tr)\n",
        "pred_tr = KN.predict(feat_tr)\n",
        "acc_tr = accuracy_score(targ_tr, pred_tr)\n",
        "print(\"training accuracy = {0:.3f}\".format(acc_tr))\n",
        "pred_te = KN.predict(feat_te)\n",
        "acc_te = accuracy_score(targ_te, pred_te)\n",
        "print(\"testing accuracy = {0:.3f}\".format(acc_te))"
      ],
      "execution_count": 131,
      "outputs": [
        {
          "output_type": "stream",
          "text": [
            "training accuracy = 0.745\n",
            "testing accuracy = 0.635\n"
          ],
          "name": "stdout"
        }
      ]
    },
    {
      "cell_type": "code",
      "metadata": {
        "colab": {
          "base_uri": "https://localhost:8080/"
        },
        "id": "XrEG2HzVAYev",
        "outputId": "f3a9eef9-0bab-4402-bd9d-29f563fbf075"
      },
      "source": [
        "gpc = GaussianProcessClassifier(random_state=0)\n",
        "gpc.fit(feat_tr, targ_tr)\n",
        "pred_tr = gpc.predict(feat_tr)\n",
        "acc_tr = accuracy_score(targ_tr, pred_tr)\n",
        "print(\"training accuracy = {0:.3f}\".format(acc_tr))\n",
        "pred_te = gpc.predict(feat_te)\n",
        "acc_te = accuracy_score(targ_te, pred_te)\n",
        "print(\"testing accuracy = {0:.3f}\".format(acc_te))"
      ],
      "execution_count": 132,
      "outputs": [
        {
          "output_type": "stream",
          "text": [
            "training accuracy = 1.000\n",
            "testing accuracy = 0.635\n"
          ],
          "name": "stdout"
        }
      ]
    }
  ]
}